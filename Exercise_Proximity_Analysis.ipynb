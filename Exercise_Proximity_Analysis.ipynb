{
  "metadata": {
    "kernelspec": {
      "display_name": "Python 3",
      "name": "python3"
    },
    "language_info": {
      "name": "python",
      "version": "3.10.13",
      "mimetype": "text/x-python",
      "codemirror_mode": {
        "name": "ipython",
        "version": 3
      },
      "pygments_lexer": "ipython3",
      "nbconvert_exporter": "python",
      "file_extension": ".py"
    },
    "kaggle": {
      "accelerator": "gpu",
      "dataSources": [
        {
          "sourceId": 695175,
          "sourceType": "datasetVersion",
          "datasetId": 348259
        },
        {
          "sourceId": 3551030,
          "sourceType": "datasetVersion",
          "datasetId": 116573
        }
      ],
      "isInternetEnabled": false,
      "language": "python",
      "sourceType": "notebook",
      "isGpuEnabled": true
    },
    "colab": {
      "name": "Exercise: Proximity Analysis",
      "provenance": [],
      "gpuType": "T4",
      "include_colab_link": true
    },
    "accelerator": "GPU"
  },
  "nbformat_minor": 0,
  "nbformat": 4,
  "cells": [
    {
      "cell_type": "markdown",
      "metadata": {
        "id": "view-in-github",
        "colab_type": "text"
      },
      "source": [
        "<a href=\"https://colab.research.google.com/github/dangtrantrung/-Geospatial-Analysis-course/blob/master/Exercise_Proximity_Analysis.ipynb\" target=\"_parent\"><img src=\"https://colab.research.google.com/assets/colab-badge.svg\" alt=\"Open In Colab\"/></a>"
      ]
    },
    {
      "source": [
        "\n",
        "# IMPORTANT: RUN THIS CELL IN ORDER TO IMPORT YOUR KAGGLE DATA SOURCES\n",
        "# TO THE CORRECT LOCATION (/kaggle/input) IN YOUR NOTEBOOK,\n",
        "# THEN FEEL FREE TO DELETE THIS CELL.\n",
        "# NOTE: THIS NOTEBOOK ENVIRONMENT DIFFERS FROM KAGGLE'S PYTHON\n",
        "# ENVIRONMENT SO THERE MAY BE MISSING LIBRARIES USED BY YOUR\n",
        "# NOTEBOOK.\n",
        "\n",
        "import os\n",
        "import sys\n",
        "from tempfile import NamedTemporaryFile\n",
        "from urllib.request import urlopen\n",
        "from urllib.parse import unquote, urlparse\n",
        "from urllib.error import HTTPError\n",
        "from zipfile import ZipFile\n",
        "import tarfile\n",
        "import shutil\n",
        "\n",
        "CHUNK_SIZE = 40960\n",
        "DATA_SOURCE_MAPPING = 'geospatial-learn-course-data:https%3A%2F%2Fstorage.googleapis.com%2Fkaggle-data-sets%2F348259%2F695175%2Fbundle%2Farchive.zip%3FX-Goog-Algorithm%3DGOOG4-RSA-SHA256%26X-Goog-Credential%3Dgcp-kaggle-com%2540kaggle-161607.iam.gserviceaccount.com%252F20240316%252Fauto%252Fstorage%252Fgoog4_request%26X-Goog-Date%3D20240316T043732Z%26X-Goog-Expires%3D259200%26X-Goog-SignedHeaders%3Dhost%26X-Goog-Signature%3D4ac9f887c7926da31aac2ff6f5cb525f644c4ba36e3bd4c066fb0ed43d0a4dec466decf320afec725b8a35d15f68ef07b5d454135b60505c26e5e0cb1de1ed9680bdbbf92602106062019e3162ae11422f827617b75b510d570b9475055cbf4db1216e5ae0a3ee9f7b318fa925a63cad0492e8329c75c94ff0fc76e7c2805df8c82aed8cfbb996572688a013c9d0a87a16c95a34eaabfdf1ec200222ea12d69c453bb64182413c4a5096713645c00022d06662f7592006bd2382623a3bf3ba18c337b9502900675dc68502ebaf48d0560a57bbb4f0fbed7ffb5c416ea1b7004b171142101f0b7b0cb975c2c578e07ef6836b5cc67e4acb127c078a4dcb41d156,data-for-datavis:https%3A%2F%2Fstorage.googleapis.com%2Fkaggle-data-sets%2F116573%2F3551030%2Fbundle%2Farchive.zip%3FX-Goog-Algorithm%3DGOOG4-RSA-SHA256%26X-Goog-Credential%3Dgcp-kaggle-com%2540kaggle-161607.iam.gserviceaccount.com%252F20240316%252Fauto%252Fstorage%252Fgoog4_request%26X-Goog-Date%3D20240316T043732Z%26X-Goog-Expires%3D259200%26X-Goog-SignedHeaders%3Dhost%26X-Goog-Signature%3D02cc8fc9ee982d4ee9cceb7625344d5fc11754e0cdd106d7661ffa18206f3fa0425442caf2518073f69ccd6c3dbba2a59d48ee5031a0ba0ee8bf064de8906912fbbcbc094f89b4f3d8ab279ba68eb0d09f8a518bfdd5e1980e7fe90a7496323536cfe14dc5f06beebc9b14c4aff1bb5cd9b790c94b56cd1b41b7f39621a999ee8bd1fa913929ccb77f0e2563be58fc31a471e96af1f953ff8dd1808ef290fca1d0c47d2963db13ca7b420aeae581740213586fbfb0efc3791def5ce2a19fca5b183a480bf7cc71eaa7c00bc51a639831d0898167d683feda2d85f45ae9011ddb7994d85d23b4fb9e166d853fd26d989dffb2678f17ea06af445adb42f412c907'\n",
        "\n",
        "KAGGLE_INPUT_PATH='/kaggle/input'\n",
        "KAGGLE_WORKING_PATH='/kaggle/working'\n",
        "KAGGLE_SYMLINK='kaggle'\n",
        "\n",
        "!umount /kaggle/input/ 2> /dev/null\n",
        "shutil.rmtree('/kaggle/input', ignore_errors=True)\n",
        "os.makedirs(KAGGLE_INPUT_PATH, 0o777, exist_ok=True)\n",
        "os.makedirs(KAGGLE_WORKING_PATH, 0o777, exist_ok=True)\n",
        "\n",
        "try:\n",
        "  os.symlink(KAGGLE_INPUT_PATH, os.path.join(\"..\", 'input'), target_is_directory=True)\n",
        "except FileExistsError:\n",
        "  pass\n",
        "try:\n",
        "  os.symlink(KAGGLE_WORKING_PATH, os.path.join(\"..\", 'working'), target_is_directory=True)\n",
        "except FileExistsError:\n",
        "  pass\n",
        "\n",
        "for data_source_mapping in DATA_SOURCE_MAPPING.split(','):\n",
        "    directory, download_url_encoded = data_source_mapping.split(':')\n",
        "    download_url = unquote(download_url_encoded)\n",
        "    filename = urlparse(download_url).path\n",
        "    destination_path = os.path.join(KAGGLE_INPUT_PATH, directory)\n",
        "    try:\n",
        "        with urlopen(download_url) as fileres, NamedTemporaryFile() as tfile:\n",
        "            total_length = fileres.headers['content-length']\n",
        "            print(f'Downloading {directory}, {total_length} bytes compressed')\n",
        "            dl = 0\n",
        "            data = fileres.read(CHUNK_SIZE)\n",
        "            while len(data) > 0:\n",
        "                dl += len(data)\n",
        "                tfile.write(data)\n",
        "                done = int(50 * dl / int(total_length))\n",
        "                sys.stdout.write(f\"\\r[{'=' * done}{' ' * (50-done)}] {dl} bytes downloaded\")\n",
        "                sys.stdout.flush()\n",
        "                data = fileres.read(CHUNK_SIZE)\n",
        "            if filename.endswith('.zip'):\n",
        "              with ZipFile(tfile) as zfile:\n",
        "                zfile.extractall(destination_path)\n",
        "            else:\n",
        "              with tarfile.open(tfile.name) as tarfile:\n",
        "                tarfile.extractall(destination_path)\n",
        "            print(f'\\nDownloaded and uncompressed: {directory}')\n",
        "    except HTTPError as e:\n",
        "        print(f'Failed to load (likely expired) {download_url} to path {destination_path}')\n",
        "        continue\n",
        "    except OSError as e:\n",
        "        print(f'Failed to load {download_url} to path {destination_path}')\n",
        "        continue\n",
        "\n",
        "print('Data source import complete.')\n"
      ],
      "metadata": {
        "colab": {
          "base_uri": "https://localhost:8080/"
        },
        "id": "76u9qrGvjRNQ",
        "outputId": "62075652-1325-4c85-f7cc-797d3c30f07c"
      },
      "cell_type": "code",
      "outputs": [
        {
          "metadata": {
            "tags": null
          },
          "name": "stdout",
          "output_type": "stream",
          "text": [
            "Downloading geospatial-learn-course-data, 244538909 bytes compressed\n",
            "[==================================================] 244538909 bytes downloaded\n",
            "Downloaded and uncompressed: geospatial-learn-course-data\n",
            "Downloading data-for-datavis, 145429 bytes compressed\n",
            "[==================================================] 145429 bytes downloaded\n",
            "Downloaded and uncompressed: data-for-datavis\n",
            "Data source import complete.\n"
          ]
        }
      ],
      "execution_count": 1
    },
    {
      "cell_type": "markdown",
      "source": [
        "**This notebook is an exercise in the [Geospatial Analysis](https://www.kaggle.com/learn/geospatial-analysis) course.  You can reference the tutorial at [this link](https://www.kaggle.com/alexisbcook/proximity-analysis).**\n",
        "\n",
        "---\n"
      ],
      "metadata": {
        "id": "TksvhCqbjRNd"
      }
    },
    {
      "cell_type": "markdown",
      "source": [
        "# Introduction\n",
        "\n",
        "You are part of a crisis response team, and you want to identify how hospitals have been responding to crash collisions in New York City.\n",
        "\n",
        "<center>\n",
        "<img src=\"https://storage.googleapis.com/kaggle-media/learn/images/wamd0n7.png\" width=\"450\"><br/>\n",
        "</center>\n",
        "\n",
        "Before you get started, run the code cell below to set everything up."
      ],
      "metadata": {
        "id": "pI47tLpxjRNg"
      }
    },
    {
      "cell_type": "code",
      "source": [
        "!pip install -U -t /kaggle/working/ git+https://github.com/Kaggle/learntools.git@fix-correct-message"
      ],
      "metadata": {
        "colab": {
          "base_uri": "https://localhost:8080/"
        },
        "id": "Cgszg4L5mD9a",
        "outputId": "8241be62-a79e-452c-9e20-e81af224d248"
      },
      "execution_count": 2,
      "outputs": [
        {
          "metadata": {
            "tags": null
          },
          "name": "stdout",
          "output_type": "stream",
          "text": [
            "Collecting git+https://github.com/Kaggle/learntools.git@fix-correct-message\n",
            "  Cloning https://github.com/Kaggle/learntools.git (to revision fix-correct-message) to /tmp/pip-req-build-78eqxutz\n",
            "  Running command git clone --filter=blob:none --quiet https://github.com/Kaggle/learntools.git /tmp/pip-req-build-78eqxutz\n",
            "\u001b[33m  WARNING: Did not find branch or tag 'fix-correct-message', assuming revision or ref.\u001b[0m\u001b[33m\n",
            "\u001b[0m  Running command git checkout -q fix-correct-message\n",
            "  error: pathspec 'fix-correct-message' did not match any file(s) known to git\n",
            "  \u001b[1;31merror\u001b[0m: \u001b[1msubprocess-exited-with-error\u001b[0m\n",
            "  \n",
            "  \u001b[31m×\u001b[0m \u001b[32mgit checkout -q fix-correct-message\u001b[0m did not run successfully.\n",
            "  \u001b[31m│\u001b[0m exit code: \u001b[1;36m1\u001b[0m\n",
            "  \u001b[31m╰─>\u001b[0m See above for output.\n",
            "  \n",
            "  \u001b[1;35mnote\u001b[0m: This error originates from a subprocess, and is likely not a problem with pip.\n",
            "\u001b[1;31merror\u001b[0m: \u001b[1msubprocess-exited-with-error\u001b[0m\n",
            "\n",
            "\u001b[31m×\u001b[0m \u001b[32mgit checkout -q fix-correct-message\u001b[0m did not run successfully.\n",
            "\u001b[31m│\u001b[0m exit code: \u001b[1;36m1\u001b[0m\n",
            "\u001b[31m╰─>\u001b[0m See above for output.\n",
            "\n",
            "\u001b[1;35mnote\u001b[0m: This error originates from a subprocess, and is likely not a problem with pip.\n"
          ]
        }
      ]
    },
    {
      "cell_type": "code",
      "source": [
        "!pip install git+https://github.com/kaggle/learntools.git"
      ],
      "metadata": {
        "colab": {
          "base_uri": "https://localhost:8080/"
        },
        "id": "mbqOLfO4nsiX",
        "outputId": "04cb18a9-9cae-4120-d756-018fbd56ef9a"
      },
      "execution_count": 3,
      "outputs": [
        {
          "metadata": {
            "tags": null
          },
          "name": "stdout",
          "output_type": "stream",
          "text": [
            "Collecting git+https://github.com/kaggle/learntools.git\n",
            "  Cloning https://github.com/kaggle/learntools.git to /tmp/pip-req-build-wzbcj0iq\n",
            "  Running command git clone --filter=blob:none --quiet https://github.com/kaggle/learntools.git /tmp/pip-req-build-wzbcj0iq\n",
            "  Resolved https://github.com/kaggle/learntools.git to commit 183cdad0530e7c898cd4658a63b579c54e91f056\n",
            "  Preparing metadata (setup.py) ... \u001b[?25l\u001b[?25hdone\n",
            "Building wheels for collected packages: learntools\n",
            "  Building wheel for learntools (setup.py) ... \u001b[?25l\u001b[?25hdone\n",
            "  Created wheel for learntools: filename=learntools-0.3.4-py3-none-any.whl size=268968 sha256=b6e85749c0713eb44512993037bd3bbece075cd9773301aa2a6b8377559c6b63\n",
            "  Stored in directory: /tmp/pip-ephem-wheel-cache-ouxyewn5/wheels/76/54/64/4c4ab7f9fa9c9138ae288f135858ddcb24fc8ca4cf7ded5493\n",
            "Successfully built learntools\n",
            "Installing collected packages: learntools\n",
            "Successfully installed learntools-0.3.4\n"
          ]
        }
      ]
    },
    {
      "cell_type": "code",
      "source": [
        "import math\n",
        "import geopandas as gpd\n",
        "import pandas as pd\n",
        "from shapely.geometry import MultiPolygon\n",
        "\n",
        "import folium\n",
        "from folium import Choropleth, Marker\n",
        "from folium.plugins import HeatMap, MarkerCluster\n",
        "\n",
        "from learntools.core import binder\n",
        "binder.bind(globals())\n",
        "from learntools.geospatial.ex5 import *"
      ],
      "metadata": {
        "execution": {
          "iopub.status.busy": "2024-03-16T04:36:33.301682Z",
          "iopub.execute_input": "2024-03-16T04:36:33.302048Z"
        },
        "trusted": true,
        "id": "rC4mtIPJjRNh"
      },
      "execution_count": 4,
      "outputs": []
    },
    {
      "cell_type": "markdown",
      "source": [
        "You'll use the `embed_map()` function to visualize your maps."
      ],
      "metadata": {
        "id": "4Dm2TBlIjRNj"
      }
    },
    {
      "cell_type": "code",
      "source": [
        "def embed_map(m, file_name):\n",
        "    from IPython.display import IFrame\n",
        "    m.save(file_name)\n",
        "    return IFrame(file_name, width='100%', height='500px')"
      ],
      "metadata": {
        "trusted": true,
        "id": "bhcZq9Z-jRNj"
      },
      "execution_count": 5,
      "outputs": []
    },
    {
      "cell_type": "markdown",
      "source": [
        "# Exercises\n",
        "\n",
        "### 1) Visualize the collision data.\n",
        "\n",
        "Run the code cell below to load a GeoDataFrame `collisions` tracking major motor vehicle collisions in 2013-2018."
      ],
      "metadata": {
        "id": "YW8JqKxJjRNk"
      }
    },
    {
      "cell_type": "code",
      "source": [
        "collisions = gpd.read_file(\"../input/geospatial-learn-course-data/NYPD_Motor_Vehicle_Collisions/NYPD_Motor_Vehicle_Collisions/NYPD_Motor_Vehicle_Collisions.shp\")\n",
        "collisions.head()"
      ],
      "metadata": {
        "execution": {
          "iopub.status.busy": "2024-03-16T04:23:37.713803Z",
          "iopub.execute_input": "2024-03-16T04:23:37.71508Z",
          "iopub.status.idle": "2024-03-16T04:26:13.950968Z",
          "shell.execute_reply.started": "2024-03-16T04:23:37.715035Z",
          "shell.execute_reply": "2024-03-16T04:26:13.949382Z"
        },
        "trusted": true,
        "colab": {
          "base_uri": "https://localhost:8080/",
          "height": 516
        },
        "id": "tDdwqagwjRNl",
        "outputId": "63e12c45-ab2d-4aa0-d467-02705e62c07a"
      },
      "execution_count": 6,
      "outputs": [
        {
          "data": {
            "application/vnd.google.colaboratory.intrinsic+json": {
              "type": "dataframe",
              "variable_name": "collisions"
            },
            "text/html": [
              "\n",
              "  <div id=\"df-3da298dc-a45b-45d4-a7e6-60f79804b493\" class=\"colab-df-container\">\n",
              "    <div>\n",
              "<style scoped>\n",
              "    .dataframe tbody tr th:only-of-type {\n",
              "        vertical-align: middle;\n",
              "    }\n",
              "\n",
              "    .dataframe tbody tr th {\n",
              "        vertical-align: top;\n",
              "    }\n",
              "\n",
              "    .dataframe thead th {\n",
              "        text-align: right;\n",
              "    }\n",
              "</style>\n",
              "<table border=\"1\" class=\"dataframe\">\n",
              "  <thead>\n",
              "    <tr style=\"text-align: right;\">\n",
              "      <th></th>\n",
              "      <th>DATE</th>\n",
              "      <th>TIME</th>\n",
              "      <th>BOROUGH</th>\n",
              "      <th>ZIP CODE</th>\n",
              "      <th>LATITUDE</th>\n",
              "      <th>LONGITUDE</th>\n",
              "      <th>LOCATION</th>\n",
              "      <th>ON STREET</th>\n",
              "      <th>CROSS STRE</th>\n",
              "      <th>OFF STREET</th>\n",
              "      <th>...</th>\n",
              "      <th>CONTRIBU_2</th>\n",
              "      <th>CONTRIBU_3</th>\n",
              "      <th>CONTRIBU_4</th>\n",
              "      <th>UNIQUE KEY</th>\n",
              "      <th>VEHICLE TY</th>\n",
              "      <th>VEHICLE _1</th>\n",
              "      <th>VEHICLE _2</th>\n",
              "      <th>VEHICLE _3</th>\n",
              "      <th>VEHICLE _4</th>\n",
              "      <th>geometry</th>\n",
              "    </tr>\n",
              "  </thead>\n",
              "  <tbody>\n",
              "    <tr>\n",
              "      <th>0</th>\n",
              "      <td>07/30/2019</td>\n",
              "      <td>0:00</td>\n",
              "      <td>BRONX</td>\n",
              "      <td>10464</td>\n",
              "      <td>40.841100</td>\n",
              "      <td>-73.784960</td>\n",
              "      <td>(40.8411, -73.78496)</td>\n",
              "      <td>None</td>\n",
              "      <td>None</td>\n",
              "      <td>121       PILOT STREET</td>\n",
              "      <td>...</td>\n",
              "      <td>Unspecified</td>\n",
              "      <td>None</td>\n",
              "      <td>None</td>\n",
              "      <td>4180045</td>\n",
              "      <td>Sedan</td>\n",
              "      <td>Station Wagon/Sport Utility Vehicle</td>\n",
              "      <td>Station Wagon/Sport Utility Vehicle</td>\n",
              "      <td>None</td>\n",
              "      <td>None</td>\n",
              "      <td>POINT (1043750.211 245785.815)</td>\n",
              "    </tr>\n",
              "    <tr>\n",
              "      <th>1</th>\n",
              "      <td>07/30/2019</td>\n",
              "      <td>0:10</td>\n",
              "      <td>QUEENS</td>\n",
              "      <td>11423</td>\n",
              "      <td>40.710827</td>\n",
              "      <td>-73.770660</td>\n",
              "      <td>(40.710827, -73.77066)</td>\n",
              "      <td>JAMAICA AVENUE</td>\n",
              "      <td>188 STREET</td>\n",
              "      <td>None</td>\n",
              "      <td>...</td>\n",
              "      <td>None</td>\n",
              "      <td>None</td>\n",
              "      <td>None</td>\n",
              "      <td>4180007</td>\n",
              "      <td>Sedan</td>\n",
              "      <td>Sedan</td>\n",
              "      <td>None</td>\n",
              "      <td>None</td>\n",
              "      <td>None</td>\n",
              "      <td>POINT (1047831.185 198333.171)</td>\n",
              "    </tr>\n",
              "    <tr>\n",
              "      <th>2</th>\n",
              "      <td>07/30/2019</td>\n",
              "      <td>0:25</td>\n",
              "      <td>None</td>\n",
              "      <td>None</td>\n",
              "      <td>40.880318</td>\n",
              "      <td>-73.841286</td>\n",
              "      <td>(40.880318, -73.841286)</td>\n",
              "      <td>BOSTON ROAD</td>\n",
              "      <td>None</td>\n",
              "      <td>None</td>\n",
              "      <td>...</td>\n",
              "      <td>None</td>\n",
              "      <td>None</td>\n",
              "      <td>None</td>\n",
              "      <td>4179575</td>\n",
              "      <td>Sedan</td>\n",
              "      <td>Station Wagon/Sport Utility Vehicle</td>\n",
              "      <td>None</td>\n",
              "      <td>None</td>\n",
              "      <td>None</td>\n",
              "      <td>POINT (1028139.293 260041.178)</td>\n",
              "    </tr>\n",
              "    <tr>\n",
              "      <th>3</th>\n",
              "      <td>07/30/2019</td>\n",
              "      <td>0:35</td>\n",
              "      <td>MANHATTAN</td>\n",
              "      <td>10036</td>\n",
              "      <td>40.756744</td>\n",
              "      <td>-73.984590</td>\n",
              "      <td>(40.756744, -73.98459)</td>\n",
              "      <td>None</td>\n",
              "      <td>None</td>\n",
              "      <td>155       WEST 44 STREET</td>\n",
              "      <td>...</td>\n",
              "      <td>None</td>\n",
              "      <td>None</td>\n",
              "      <td>None</td>\n",
              "      <td>4179544</td>\n",
              "      <td>Box Truck</td>\n",
              "      <td>Station Wagon/Sport Utility Vehicle</td>\n",
              "      <td>None</td>\n",
              "      <td>None</td>\n",
              "      <td>None</td>\n",
              "      <td>POINT (988519.261 214979.320)</td>\n",
              "    </tr>\n",
              "    <tr>\n",
              "      <th>4</th>\n",
              "      <td>07/30/2019</td>\n",
              "      <td>10:00</td>\n",
              "      <td>BROOKLYN</td>\n",
              "      <td>11223</td>\n",
              "      <td>40.600090</td>\n",
              "      <td>-73.965910</td>\n",
              "      <td>(40.60009, -73.96591)</td>\n",
              "      <td>AVENUE T</td>\n",
              "      <td>OCEAN PARKWAY</td>\n",
              "      <td>None</td>\n",
              "      <td>...</td>\n",
              "      <td>None</td>\n",
              "      <td>None</td>\n",
              "      <td>None</td>\n",
              "      <td>4180660</td>\n",
              "      <td>Station Wagon/Sport Utility Vehicle</td>\n",
              "      <td>Bike</td>\n",
              "      <td>None</td>\n",
              "      <td>None</td>\n",
              "      <td>None</td>\n",
              "      <td>POINT (993716.669 157907.212)</td>\n",
              "    </tr>\n",
              "  </tbody>\n",
              "</table>\n",
              "<p>5 rows × 30 columns</p>\n",
              "</div>\n",
              "    <div class=\"colab-df-buttons\">\n",
              "\n",
              "  <div class=\"colab-df-container\">\n",
              "    <button class=\"colab-df-convert\" onclick=\"convertToInteractive('df-3da298dc-a45b-45d4-a7e6-60f79804b493')\"\n",
              "            title=\"Convert this dataframe to an interactive table.\"\n",
              "            style=\"display:none;\">\n",
              "\n",
              "  <svg xmlns=\"http://www.w3.org/2000/svg\" height=\"24px\" viewBox=\"0 -960 960 960\">\n",
              "    <path d=\"M120-120v-720h720v720H120Zm60-500h600v-160H180v160Zm220 220h160v-160H400v160Zm0 220h160v-160H400v160ZM180-400h160v-160H180v160Zm440 0h160v-160H620v160ZM180-180h160v-160H180v160Zm440 0h160v-160H620v160Z\"/>\n",
              "  </svg>\n",
              "    </button>\n",
              "\n",
              "  <style>\n",
              "    .colab-df-container {\n",
              "      display:flex;\n",
              "      gap: 12px;\n",
              "    }\n",
              "\n",
              "    .colab-df-convert {\n",
              "      background-color: #E8F0FE;\n",
              "      border: none;\n",
              "      border-radius: 50%;\n",
              "      cursor: pointer;\n",
              "      display: none;\n",
              "      fill: #1967D2;\n",
              "      height: 32px;\n",
              "      padding: 0 0 0 0;\n",
              "      width: 32px;\n",
              "    }\n",
              "\n",
              "    .colab-df-convert:hover {\n",
              "      background-color: #E2EBFA;\n",
              "      box-shadow: 0px 1px 2px rgba(60, 64, 67, 0.3), 0px 1px 3px 1px rgba(60, 64, 67, 0.15);\n",
              "      fill: #174EA6;\n",
              "    }\n",
              "\n",
              "    .colab-df-buttons div {\n",
              "      margin-bottom: 4px;\n",
              "    }\n",
              "\n",
              "    [theme=dark] .colab-df-convert {\n",
              "      background-color: #3B4455;\n",
              "      fill: #D2E3FC;\n",
              "    }\n",
              "\n",
              "    [theme=dark] .colab-df-convert:hover {\n",
              "      background-color: #434B5C;\n",
              "      box-shadow: 0px 1px 3px 1px rgba(0, 0, 0, 0.15);\n",
              "      filter: drop-shadow(0px 1px 2px rgba(0, 0, 0, 0.3));\n",
              "      fill: #FFFFFF;\n",
              "    }\n",
              "  </style>\n",
              "\n",
              "    <script>\n",
              "      const buttonEl =\n",
              "        document.querySelector('#df-3da298dc-a45b-45d4-a7e6-60f79804b493 button.colab-df-convert');\n",
              "      buttonEl.style.display =\n",
              "        google.colab.kernel.accessAllowed ? 'block' : 'none';\n",
              "\n",
              "      async function convertToInteractive(key) {\n",
              "        const element = document.querySelector('#df-3da298dc-a45b-45d4-a7e6-60f79804b493');\n",
              "        const dataTable =\n",
              "          await google.colab.kernel.invokeFunction('convertToInteractive',\n",
              "                                                    [key], {});\n",
              "        if (!dataTable) return;\n",
              "\n",
              "        const docLinkHtml = 'Like what you see? Visit the ' +\n",
              "          '<a target=\"_blank\" href=https://colab.research.google.com/notebooks/data_table.ipynb>data table notebook</a>'\n",
              "          + ' to learn more about interactive tables.';\n",
              "        element.innerHTML = '';\n",
              "        dataTable['output_type'] = 'display_data';\n",
              "        await google.colab.output.renderOutput(dataTable, element);\n",
              "        const docLink = document.createElement('div');\n",
              "        docLink.innerHTML = docLinkHtml;\n",
              "        element.appendChild(docLink);\n",
              "      }\n",
              "    </script>\n",
              "  </div>\n",
              "\n",
              "\n",
              "<div id=\"df-0e20d620-85e0-4777-a2a2-06293f19bea5\">\n",
              "  <button class=\"colab-df-quickchart\" onclick=\"quickchart('df-0e20d620-85e0-4777-a2a2-06293f19bea5')\"\n",
              "            title=\"Suggest charts\"\n",
              "            style=\"display:none;\">\n",
              "\n",
              "<svg xmlns=\"http://www.w3.org/2000/svg\" height=\"24px\"viewBox=\"0 0 24 24\"\n",
              "     width=\"24px\">\n",
              "    <g>\n",
              "        <path d=\"M19 3H5c-1.1 0-2 .9-2 2v14c0 1.1.9 2 2 2h14c1.1 0 2-.9 2-2V5c0-1.1-.9-2-2-2zM9 17H7v-7h2v7zm4 0h-2V7h2v10zm4 0h-2v-4h2v4z\"/>\n",
              "    </g>\n",
              "</svg>\n",
              "  </button>\n",
              "\n",
              "<style>\n",
              "  .colab-df-quickchart {\n",
              "      --bg-color: #E8F0FE;\n",
              "      --fill-color: #1967D2;\n",
              "      --hover-bg-color: #E2EBFA;\n",
              "      --hover-fill-color: #174EA6;\n",
              "      --disabled-fill-color: #AAA;\n",
              "      --disabled-bg-color: #DDD;\n",
              "  }\n",
              "\n",
              "  [theme=dark] .colab-df-quickchart {\n",
              "      --bg-color: #3B4455;\n",
              "      --fill-color: #D2E3FC;\n",
              "      --hover-bg-color: #434B5C;\n",
              "      --hover-fill-color: #FFFFFF;\n",
              "      --disabled-bg-color: #3B4455;\n",
              "      --disabled-fill-color: #666;\n",
              "  }\n",
              "\n",
              "  .colab-df-quickchart {\n",
              "    background-color: var(--bg-color);\n",
              "    border: none;\n",
              "    border-radius: 50%;\n",
              "    cursor: pointer;\n",
              "    display: none;\n",
              "    fill: var(--fill-color);\n",
              "    height: 32px;\n",
              "    padding: 0;\n",
              "    width: 32px;\n",
              "  }\n",
              "\n",
              "  .colab-df-quickchart:hover {\n",
              "    background-color: var(--hover-bg-color);\n",
              "    box-shadow: 0 1px 2px rgba(60, 64, 67, 0.3), 0 1px 3px 1px rgba(60, 64, 67, 0.15);\n",
              "    fill: var(--button-hover-fill-color);\n",
              "  }\n",
              "\n",
              "  .colab-df-quickchart-complete:disabled,\n",
              "  .colab-df-quickchart-complete:disabled:hover {\n",
              "    background-color: var(--disabled-bg-color);\n",
              "    fill: var(--disabled-fill-color);\n",
              "    box-shadow: none;\n",
              "  }\n",
              "\n",
              "  .colab-df-spinner {\n",
              "    border: 2px solid var(--fill-color);\n",
              "    border-color: transparent;\n",
              "    border-bottom-color: var(--fill-color);\n",
              "    animation:\n",
              "      spin 1s steps(1) infinite;\n",
              "  }\n",
              "\n",
              "  @keyframes spin {\n",
              "    0% {\n",
              "      border-color: transparent;\n",
              "      border-bottom-color: var(--fill-color);\n",
              "      border-left-color: var(--fill-color);\n",
              "    }\n",
              "    20% {\n",
              "      border-color: transparent;\n",
              "      border-left-color: var(--fill-color);\n",
              "      border-top-color: var(--fill-color);\n",
              "    }\n",
              "    30% {\n",
              "      border-color: transparent;\n",
              "      border-left-color: var(--fill-color);\n",
              "      border-top-color: var(--fill-color);\n",
              "      border-right-color: var(--fill-color);\n",
              "    }\n",
              "    40% {\n",
              "      border-color: transparent;\n",
              "      border-right-color: var(--fill-color);\n",
              "      border-top-color: var(--fill-color);\n",
              "    }\n",
              "    60% {\n",
              "      border-color: transparent;\n",
              "      border-right-color: var(--fill-color);\n",
              "    }\n",
              "    80% {\n",
              "      border-color: transparent;\n",
              "      border-right-color: var(--fill-color);\n",
              "      border-bottom-color: var(--fill-color);\n",
              "    }\n",
              "    90% {\n",
              "      border-color: transparent;\n",
              "      border-bottom-color: var(--fill-color);\n",
              "    }\n",
              "  }\n",
              "</style>\n",
              "\n",
              "  <script>\n",
              "    async function quickchart(key) {\n",
              "      const quickchartButtonEl =\n",
              "        document.querySelector('#' + key + ' button');\n",
              "      quickchartButtonEl.disabled = true;  // To prevent multiple clicks.\n",
              "      quickchartButtonEl.classList.add('colab-df-spinner');\n",
              "      try {\n",
              "        const charts = await google.colab.kernel.invokeFunction(\n",
              "            'suggestCharts', [key], {});\n",
              "      } catch (error) {\n",
              "        console.error('Error during call to suggestCharts:', error);\n",
              "      }\n",
              "      quickchartButtonEl.classList.remove('colab-df-spinner');\n",
              "      quickchartButtonEl.classList.add('colab-df-quickchart-complete');\n",
              "    }\n",
              "    (() => {\n",
              "      let quickchartButtonEl =\n",
              "        document.querySelector('#df-0e20d620-85e0-4777-a2a2-06293f19bea5 button');\n",
              "      quickchartButtonEl.style.display =\n",
              "        google.colab.kernel.accessAllowed ? 'block' : 'none';\n",
              "    })();\n",
              "  </script>\n",
              "</div>\n",
              "\n",
              "    </div>\n",
              "  </div>\n"
            ],
            "text/plain": [
              "         DATE   TIME    BOROUGH ZIP CODE   LATITUDE  LONGITUDE  \\\n",
              "0  07/30/2019   0:00      BRONX    10464  40.841100 -73.784960   \n",
              "1  07/30/2019   0:10     QUEENS    11423  40.710827 -73.770660   \n",
              "2  07/30/2019   0:25       None     None  40.880318 -73.841286   \n",
              "3  07/30/2019   0:35  MANHATTAN    10036  40.756744 -73.984590   \n",
              "4  07/30/2019  10:00   BROOKLYN    11223  40.600090 -73.965910   \n",
              "\n",
              "                  LOCATION       ON STREET     CROSS STRE  \\\n",
              "0     (40.8411, -73.78496)            None           None   \n",
              "1   (40.710827, -73.77066)  JAMAICA AVENUE     188 STREET   \n",
              "2  (40.880318, -73.841286)     BOSTON ROAD           None   \n",
              "3   (40.756744, -73.98459)            None           None   \n",
              "4    (40.60009, -73.96591)        AVENUE T  OCEAN PARKWAY   \n",
              "\n",
              "                 OFF STREET  ...   CONTRIBU_2  CONTRIBU_3  CONTRIBU_4  \\\n",
              "0    121       PILOT STREET  ...  Unspecified        None        None   \n",
              "1                      None  ...         None        None        None   \n",
              "2                      None  ...         None        None        None   \n",
              "3  155       WEST 44 STREET  ...         None        None        None   \n",
              "4                      None  ...         None        None        None   \n",
              "\n",
              "   UNIQUE KEY                           VEHICLE TY  \\\n",
              "0     4180045                                Sedan   \n",
              "1     4180007                                Sedan   \n",
              "2     4179575                                Sedan   \n",
              "3     4179544                            Box Truck   \n",
              "4     4180660  Station Wagon/Sport Utility Vehicle   \n",
              "\n",
              "                            VEHICLE _1                           VEHICLE _2  \\\n",
              "0  Station Wagon/Sport Utility Vehicle  Station Wagon/Sport Utility Vehicle   \n",
              "1                                Sedan                                 None   \n",
              "2  Station Wagon/Sport Utility Vehicle                                 None   \n",
              "3  Station Wagon/Sport Utility Vehicle                                 None   \n",
              "4                                 Bike                                 None   \n",
              "\n",
              "   VEHICLE _3 VEHICLE _4                        geometry  \n",
              "0        None       None  POINT (1043750.211 245785.815)  \n",
              "1        None       None  POINT (1047831.185 198333.171)  \n",
              "2        None       None  POINT (1028139.293 260041.178)  \n",
              "3        None       None   POINT (988519.261 214979.320)  \n",
              "4        None       None   POINT (993716.669 157907.212)  \n",
              "\n",
              "[5 rows x 30 columns]"
            ]
          },
          "execution_count": 6,
          "metadata": {},
          "output_type": "execute_result"
        }
      ]
    },
    {
      "cell_type": "markdown",
      "source": [
        "Use the \"LATITUDE\" and \"LONGITUDE\" columns to create an interactive map to visualize the collision data.  What type of map do you think is most effective?"
      ],
      "metadata": {
        "id": "zwlAlWwejRNn"
      }
    },
    {
      "cell_type": "code",
      "source": [
        "m_1 = folium.Map(location=[40.7, -74], zoom_start=11)\n",
        "\n",
        "# Your code here: Visualize the collision data\n",
        "for idx, row in collisions.iterrows():\n",
        "    Marker([row['LATITUDE'], row['LONGITUDE']]).add_to(m_1)\n",
        "\n",
        "# Uncomment to see a hint\n",
        "#q_1.hint()\n",
        "\n",
        "# Show the map\n",
        "embed_map(m_1, \"q_1.html\")"
      ],
      "metadata": {
        "execution": {
          "iopub.status.busy": "2024-03-16T04:26:48.751638Z",
          "iopub.execute_input": "2024-03-16T04:26:48.75204Z",
          "iopub.status.idle": "2024-03-16T04:29:38.685176Z",
          "shell.execute_reply.started": "2024-03-16T04:26:48.752012Z",
          "shell.execute_reply": "2024-03-16T04:29:38.684075Z"
        },
        "trusted": true,
        "id": "LuHIKvunjRNo",
        "colab": {
          "base_uri": "https://localhost:8080/",
          "height": 521
        },
        "outputId": "c9596251-428d-49b3-b210-f9151305333a"
      },
      "execution_count": 7,
      "outputs": [
        {
          "data": {
            "text/html": [
              "\n",
              "        <iframe\n",
              "            width=\"100%\"\n",
              "            height=\"500px\"\n",
              "            src=\"q_1.html\"\n",
              "            frameborder=\"0\"\n",
              "            allowfullscreen\n",
              "            \n",
              "        ></iframe>\n",
              "        "
            ],
            "text/plain": [
              "<IPython.lib.display.IFrame at 0x7ba0e4fd3190>"
            ]
          },
          "execution_count": 7,
          "metadata": {},
          "output_type": "execute_result"
        }
      ]
    },
    {
      "cell_type": "code",
      "source": [
        "# Get credit for your work after you have created a map\n",
        "q_1.check()\n",
        "\n",
        "# Uncomment to see our solution (your code may look different!)\n",
        "#q_1.solution()"
      ],
      "metadata": {
        "execution": {
          "iopub.status.busy": "2024-03-15T08:05:07.458203Z",
          "iopub.status.idle": "2024-03-15T08:05:07.459346Z",
          "shell.execute_reply.started": "2024-03-15T08:05:07.45903Z",
          "shell.execute_reply": "2024-03-15T08:05:07.459056Z"
        },
        "trusted": true,
        "colab": {
          "base_uri": "https://localhost:8080/",
          "height": 46
        },
        "id": "xwbXXVjJjRNq",
        "outputId": "92997c3e-bf7b-4e8c-a96c-8f5173cd2f0a"
      },
      "execution_count": 8,
      "outputs": [
        {
          "data": {
            "application/javascript": [
              "parent.postMessage({\"jupyterEvent\": \"custom.exercise_interaction\", \"data\": {\"outcomeType\": 1, \"valueTowardsCompletion\": 0.16666666666666666, \"interactionType\": 1, \"questionType\": 2, \"questionId\": \"1_Q1\", \"learnToolsVersion\": \"0.3.4\", \"failureMessage\": \"\", \"exceptionClass\": \"\", \"trace\": \"\"}}, \"*\")"
            ],
            "text/plain": [
              "<IPython.core.display.Javascript object>"
            ]
          },
          "metadata": {},
          "output_type": "display_data"
        },
        {
          "data": {
            "text/markdown": "<span style=\"color:#33cc33\">Thank you for creating a map!</span>",
            "text/plain": [
              "Thank you for creating a map!"
            ]
          },
          "metadata": {},
          "output_type": "display_data"
        }
      ]
    },
    {
      "cell_type": "markdown",
      "source": [
        "### 2) Understand hospital coverage.\n",
        "\n",
        "Run the next code cell to load the hospital data."
      ],
      "metadata": {
        "id": "gN6k1bLfjRNq"
      }
    },
    {
      "cell_type": "code",
      "source": [
        "hospitals = gpd.read_file(\"../input/geospatial-learn-course-data/nyu_2451_34494/nyu_2451_34494/nyu_2451_34494.shp\")\n",
        "hospitals.head()"
      ],
      "metadata": {
        "execution": {
          "iopub.status.busy": "2024-03-15T09:11:01.619211Z",
          "iopub.execute_input": "2024-03-15T09:11:01.619683Z",
          "iopub.status.idle": "2024-03-15T09:11:01.991544Z",
          "shell.execute_reply.started": "2024-03-15T09:11:01.619649Z",
          "shell.execute_reply": "2024-03-15T09:11:01.990105Z"
        },
        "trusted": true,
        "colab": {
          "base_uri": "https://localhost:8080/",
          "height": 539
        },
        "id": "3Un1okn3jRNr",
        "outputId": "1f1d203b-6737-4332-fc7d-e5084b1c25d6"
      },
      "execution_count": 9,
      "outputs": [
        {
          "data": {
            "application/vnd.google.colaboratory.intrinsic+json": {
              "summary": "{\n  \"name\": \"hospitals\",\n  \"rows\": 62,\n  \"fields\": [\n    {\n      \"column\": \"id\",\n      \"properties\": {\n        \"dtype\": \"string\",\n        \"num_unique_values\": 62,\n        \"samples\": [\n          \"317003013H1638\",\n          \"317001024H1635\",\n          \"317000001H1178\"\n        ],\n        \"semantic_type\": \"\",\n        \"description\": \"\"\n      }\n    },\n    {\n      \"column\": \"name\",\n      \"properties\": {\n        \"dtype\": \"string\",\n        \"num_unique_values\": 62,\n        \"samples\": [\n          \"FOREST HILLS HOSPITAL\",\n          \"ST JOHNS EPISCOPAL HOSPITAL SO SHORE\",\n          \"BRONX-LEBANON HOSPITAL CENTER - CONCOURSE DIVISION\"\n        ],\n        \"semantic_type\": \"\",\n        \"description\": \"\"\n      }\n    },\n    {\n      \"column\": \"address\",\n      \"properties\": {\n        \"dtype\": \"string\",\n        \"num_unique_values\": 62,\n        \"samples\": [\n          \"102-01 66 Rd\",\n          \"327 Beach 19 St\",\n          \"1650 Grand Concourse\"\n        ],\n        \"semantic_type\": \"\",\n        \"description\": \"\"\n      }\n    },\n    {\n      \"column\": \"zip\",\n      \"properties\": {\n        \"dtype\": \"string\",\n        \"num_unique_values\": 46,\n        \"samples\": [\n          \"11102\",\n          \"10075\",\n          \"10065\"\n        ],\n        \"semantic_type\": \"\",\n        \"description\": \"\"\n      }\n    },\n    {\n      \"column\": \"factype\",\n      \"properties\": {\n        \"dtype\": \"category\",\n        \"num_unique_values\": 1,\n        \"samples\": [\n          \"3102\"\n        ],\n        \"semantic_type\": \"\",\n        \"description\": \"\"\n      }\n    },\n    {\n      \"column\": \"facname\",\n      \"properties\": {\n        \"dtype\": \"category\",\n        \"num_unique_values\": 1,\n        \"samples\": [\n          \"Hospital\"\n        ],\n        \"semantic_type\": \"\",\n        \"description\": \"\"\n      }\n    },\n    {\n      \"column\": \"capacity\",\n      \"properties\": {\n        \"dtype\": \"string\",\n        \"num_unique_values\": 57,\n        \"samples\": [\n          \"415\"\n        ],\n        \"semantic_type\": \"\",\n        \"description\": \"\"\n      }\n    },\n    {\n      \"column\": \"capname\",\n      \"properties\": {\n        \"dtype\": \"category\",\n        \"num_unique_values\": 2,\n        \"samples\": [\n          \"NA\"\n        ],\n        \"semantic_type\": \"\",\n        \"description\": \"\"\n      }\n    },\n    {\n      \"column\": \"bcode\",\n      \"properties\": {\n        \"dtype\": \"category\",\n        \"num_unique_values\": 5,\n        \"samples\": [\n          \"36047\"\n        ],\n        \"semantic_type\": \"\",\n        \"description\": \"\"\n      }\n    },\n    {\n      \"column\": \"xcoord\",\n      \"properties\": {\n        \"dtype\": \"number\",\n        \"std\": 22798.643367198783,\n        \"min\": 929714.0,\n        \"max\": 1064787.0,\n        \"num_unique_values\": 62,\n        \"samples\": [\n          1025395.0\n        ],\n        \"semantic_type\": \"\",\n        \"description\": \"\"\n      }\n    },\n    {\n      \"column\": \"ycoord\",\n      \"properties\": {\n        \"dtype\": \"number\",\n        \"std\": 31645.8650253688,\n        \"min\": 127687.0,\n        \"max\": 264841.0,\n        \"num_unique_values\": 62,\n        \"samples\": [\n          204918.0\n        ],\n        \"semantic_type\": \"\",\n        \"description\": \"\"\n      }\n    },\n    {\n      \"column\": \"latitude\",\n      \"properties\": {\n        \"dtype\": \"number\",\n        \"std\": 0.08685921859532868,\n        \"min\": 40.516978800451795,\n        \"max\": 40.893517718763405,\n        \"num_unique_values\": 62,\n        \"samples\": [\n          40.72903352450227\n        ],\n        \"semantic_type\": \"\",\n        \"description\": \"\"\n      }\n    },\n    {\n      \"column\": \"longitude\",\n      \"properties\": {\n        \"dtype\": \"number\",\n        \"std\": 0.08222998606060396,\n        \"min\": -74.19614316989768,\n        \"max\": -73.70931586733064,\n        \"num_unique_values\": 62,\n        \"samples\": [\n          -73.85154781041423\n        ],\n        \"semantic_type\": \"\",\n        \"description\": \"\"\n      }\n    },\n    {\n      \"column\": \"geometry\",\n      \"properties\": {\n        \"dtype\": \"geometry\",\n        \"num_unique_values\": 62,\n        \"samples\": [\n          \"POINT (1025395 204918)\"\n        ],\n        \"semantic_type\": \"\",\n        \"description\": \"\"\n      }\n    }\n  ]\n}",
              "type": "dataframe",
              "variable_name": "hospitals"
            },
            "text/html": [
              "\n",
              "  <div id=\"df-bef66d02-76b7-409e-b8bc-33bac580784f\" class=\"colab-df-container\">\n",
              "    <div>\n",
              "<style scoped>\n",
              "    .dataframe tbody tr th:only-of-type {\n",
              "        vertical-align: middle;\n",
              "    }\n",
              "\n",
              "    .dataframe tbody tr th {\n",
              "        vertical-align: top;\n",
              "    }\n",
              "\n",
              "    .dataframe thead th {\n",
              "        text-align: right;\n",
              "    }\n",
              "</style>\n",
              "<table border=\"1\" class=\"dataframe\">\n",
              "  <thead>\n",
              "    <tr style=\"text-align: right;\">\n",
              "      <th></th>\n",
              "      <th>id</th>\n",
              "      <th>name</th>\n",
              "      <th>address</th>\n",
              "      <th>zip</th>\n",
              "      <th>factype</th>\n",
              "      <th>facname</th>\n",
              "      <th>capacity</th>\n",
              "      <th>capname</th>\n",
              "      <th>bcode</th>\n",
              "      <th>xcoord</th>\n",
              "      <th>ycoord</th>\n",
              "      <th>latitude</th>\n",
              "      <th>longitude</th>\n",
              "      <th>geometry</th>\n",
              "    </tr>\n",
              "  </thead>\n",
              "  <tbody>\n",
              "    <tr>\n",
              "      <th>0</th>\n",
              "      <td>317000001H1178</td>\n",
              "      <td>BRONX-LEBANON HOSPITAL CENTER - CONCOURSE DIVI...</td>\n",
              "      <td>1650 Grand Concourse</td>\n",
              "      <td>10457</td>\n",
              "      <td>3102</td>\n",
              "      <td>Hospital</td>\n",
              "      <td>415</td>\n",
              "      <td>Beds</td>\n",
              "      <td>36005</td>\n",
              "      <td>1008872.0</td>\n",
              "      <td>246596.0</td>\n",
              "      <td>40.843490</td>\n",
              "      <td>-73.911010</td>\n",
              "      <td>POINT (1008872.000 246596.000)</td>\n",
              "    </tr>\n",
              "    <tr>\n",
              "      <th>1</th>\n",
              "      <td>317000001H1164</td>\n",
              "      <td>BRONX-LEBANON HOSPITAL CENTER - FULTON DIVISION</td>\n",
              "      <td>1276 Fulton Ave</td>\n",
              "      <td>10456</td>\n",
              "      <td>3102</td>\n",
              "      <td>Hospital</td>\n",
              "      <td>164</td>\n",
              "      <td>Beds</td>\n",
              "      <td>36005</td>\n",
              "      <td>1011044.0</td>\n",
              "      <td>242204.0</td>\n",
              "      <td>40.831429</td>\n",
              "      <td>-73.903178</td>\n",
              "      <td>POINT (1011044.000 242204.000)</td>\n",
              "    </tr>\n",
              "    <tr>\n",
              "      <th>2</th>\n",
              "      <td>317000011H1175</td>\n",
              "      <td>CALVARY HOSPITAL INC</td>\n",
              "      <td>1740-70 Eastchester Rd</td>\n",
              "      <td>10461</td>\n",
              "      <td>3102</td>\n",
              "      <td>Hospital</td>\n",
              "      <td>225</td>\n",
              "      <td>Beds</td>\n",
              "      <td>36005</td>\n",
              "      <td>1027505.0</td>\n",
              "      <td>248287.0</td>\n",
              "      <td>40.848060</td>\n",
              "      <td>-73.843656</td>\n",
              "      <td>POINT (1027505.000 248287.000)</td>\n",
              "    </tr>\n",
              "    <tr>\n",
              "      <th>3</th>\n",
              "      <td>317000002H1165</td>\n",
              "      <td>JACOBI MEDICAL CENTER</td>\n",
              "      <td>1400 Pelham Pkwy</td>\n",
              "      <td>10461</td>\n",
              "      <td>3102</td>\n",
              "      <td>Hospital</td>\n",
              "      <td>457</td>\n",
              "      <td>Beds</td>\n",
              "      <td>36005</td>\n",
              "      <td>1027042.0</td>\n",
              "      <td>251065.0</td>\n",
              "      <td>40.855687</td>\n",
              "      <td>-73.845311</td>\n",
              "      <td>POINT (1027042.000 251065.000)</td>\n",
              "    </tr>\n",
              "    <tr>\n",
              "      <th>4</th>\n",
              "      <td>317000008H1172</td>\n",
              "      <td>LINCOLN MEDICAL &amp; MENTAL HEALTH CENTER</td>\n",
              "      <td>234 E 149 St</td>\n",
              "      <td>10451</td>\n",
              "      <td>3102</td>\n",
              "      <td>Hospital</td>\n",
              "      <td>362</td>\n",
              "      <td>Beds</td>\n",
              "      <td>36005</td>\n",
              "      <td>1005154.0</td>\n",
              "      <td>236853.0</td>\n",
              "      <td>40.816758</td>\n",
              "      <td>-73.924478</td>\n",
              "      <td>POINT (1005154.000 236853.000)</td>\n",
              "    </tr>\n",
              "  </tbody>\n",
              "</table>\n",
              "</div>\n",
              "    <div class=\"colab-df-buttons\">\n",
              "\n",
              "  <div class=\"colab-df-container\">\n",
              "    <button class=\"colab-df-convert\" onclick=\"convertToInteractive('df-bef66d02-76b7-409e-b8bc-33bac580784f')\"\n",
              "            title=\"Convert this dataframe to an interactive table.\"\n",
              "            style=\"display:none;\">\n",
              "\n",
              "  <svg xmlns=\"http://www.w3.org/2000/svg\" height=\"24px\" viewBox=\"0 -960 960 960\">\n",
              "    <path d=\"M120-120v-720h720v720H120Zm60-500h600v-160H180v160Zm220 220h160v-160H400v160Zm0 220h160v-160H400v160ZM180-400h160v-160H180v160Zm440 0h160v-160H620v160ZM180-180h160v-160H180v160Zm440 0h160v-160H620v160Z\"/>\n",
              "  </svg>\n",
              "    </button>\n",
              "\n",
              "  <style>\n",
              "    .colab-df-container {\n",
              "      display:flex;\n",
              "      gap: 12px;\n",
              "    }\n",
              "\n",
              "    .colab-df-convert {\n",
              "      background-color: #E8F0FE;\n",
              "      border: none;\n",
              "      border-radius: 50%;\n",
              "      cursor: pointer;\n",
              "      display: none;\n",
              "      fill: #1967D2;\n",
              "      height: 32px;\n",
              "      padding: 0 0 0 0;\n",
              "      width: 32px;\n",
              "    }\n",
              "\n",
              "    .colab-df-convert:hover {\n",
              "      background-color: #E2EBFA;\n",
              "      box-shadow: 0px 1px 2px rgba(60, 64, 67, 0.3), 0px 1px 3px 1px rgba(60, 64, 67, 0.15);\n",
              "      fill: #174EA6;\n",
              "    }\n",
              "\n",
              "    .colab-df-buttons div {\n",
              "      margin-bottom: 4px;\n",
              "    }\n",
              "\n",
              "    [theme=dark] .colab-df-convert {\n",
              "      background-color: #3B4455;\n",
              "      fill: #D2E3FC;\n",
              "    }\n",
              "\n",
              "    [theme=dark] .colab-df-convert:hover {\n",
              "      background-color: #434B5C;\n",
              "      box-shadow: 0px 1px 3px 1px rgba(0, 0, 0, 0.15);\n",
              "      filter: drop-shadow(0px 1px 2px rgba(0, 0, 0, 0.3));\n",
              "      fill: #FFFFFF;\n",
              "    }\n",
              "  </style>\n",
              "\n",
              "    <script>\n",
              "      const buttonEl =\n",
              "        document.querySelector('#df-bef66d02-76b7-409e-b8bc-33bac580784f button.colab-df-convert');\n",
              "      buttonEl.style.display =\n",
              "        google.colab.kernel.accessAllowed ? 'block' : 'none';\n",
              "\n",
              "      async function convertToInteractive(key) {\n",
              "        const element = document.querySelector('#df-bef66d02-76b7-409e-b8bc-33bac580784f');\n",
              "        const dataTable =\n",
              "          await google.colab.kernel.invokeFunction('convertToInteractive',\n",
              "                                                    [key], {});\n",
              "        if (!dataTable) return;\n",
              "\n",
              "        const docLinkHtml = 'Like what you see? Visit the ' +\n",
              "          '<a target=\"_blank\" href=https://colab.research.google.com/notebooks/data_table.ipynb>data table notebook</a>'\n",
              "          + ' to learn more about interactive tables.';\n",
              "        element.innerHTML = '';\n",
              "        dataTable['output_type'] = 'display_data';\n",
              "        await google.colab.output.renderOutput(dataTable, element);\n",
              "        const docLink = document.createElement('div');\n",
              "        docLink.innerHTML = docLinkHtml;\n",
              "        element.appendChild(docLink);\n",
              "      }\n",
              "    </script>\n",
              "  </div>\n",
              "\n",
              "\n",
              "<div id=\"df-3f6ffb64-0874-4995-a225-b8a58ad64c63\">\n",
              "  <button class=\"colab-df-quickchart\" onclick=\"quickchart('df-3f6ffb64-0874-4995-a225-b8a58ad64c63')\"\n",
              "            title=\"Suggest charts\"\n",
              "            style=\"display:none;\">\n",
              "\n",
              "<svg xmlns=\"http://www.w3.org/2000/svg\" height=\"24px\"viewBox=\"0 0 24 24\"\n",
              "     width=\"24px\">\n",
              "    <g>\n",
              "        <path d=\"M19 3H5c-1.1 0-2 .9-2 2v14c0 1.1.9 2 2 2h14c1.1 0 2-.9 2-2V5c0-1.1-.9-2-2-2zM9 17H7v-7h2v7zm4 0h-2V7h2v10zm4 0h-2v-4h2v4z\"/>\n",
              "    </g>\n",
              "</svg>\n",
              "  </button>\n",
              "\n",
              "<style>\n",
              "  .colab-df-quickchart {\n",
              "      --bg-color: #E8F0FE;\n",
              "      --fill-color: #1967D2;\n",
              "      --hover-bg-color: #E2EBFA;\n",
              "      --hover-fill-color: #174EA6;\n",
              "      --disabled-fill-color: #AAA;\n",
              "      --disabled-bg-color: #DDD;\n",
              "  }\n",
              "\n",
              "  [theme=dark] .colab-df-quickchart {\n",
              "      --bg-color: #3B4455;\n",
              "      --fill-color: #D2E3FC;\n",
              "      --hover-bg-color: #434B5C;\n",
              "      --hover-fill-color: #FFFFFF;\n",
              "      --disabled-bg-color: #3B4455;\n",
              "      --disabled-fill-color: #666;\n",
              "  }\n",
              "\n",
              "  .colab-df-quickchart {\n",
              "    background-color: var(--bg-color);\n",
              "    border: none;\n",
              "    border-radius: 50%;\n",
              "    cursor: pointer;\n",
              "    display: none;\n",
              "    fill: var(--fill-color);\n",
              "    height: 32px;\n",
              "    padding: 0;\n",
              "    width: 32px;\n",
              "  }\n",
              "\n",
              "  .colab-df-quickchart:hover {\n",
              "    background-color: var(--hover-bg-color);\n",
              "    box-shadow: 0 1px 2px rgba(60, 64, 67, 0.3), 0 1px 3px 1px rgba(60, 64, 67, 0.15);\n",
              "    fill: var(--button-hover-fill-color);\n",
              "  }\n",
              "\n",
              "  .colab-df-quickchart-complete:disabled,\n",
              "  .colab-df-quickchart-complete:disabled:hover {\n",
              "    background-color: var(--disabled-bg-color);\n",
              "    fill: var(--disabled-fill-color);\n",
              "    box-shadow: none;\n",
              "  }\n",
              "\n",
              "  .colab-df-spinner {\n",
              "    border: 2px solid var(--fill-color);\n",
              "    border-color: transparent;\n",
              "    border-bottom-color: var(--fill-color);\n",
              "    animation:\n",
              "      spin 1s steps(1) infinite;\n",
              "  }\n",
              "\n",
              "  @keyframes spin {\n",
              "    0% {\n",
              "      border-color: transparent;\n",
              "      border-bottom-color: var(--fill-color);\n",
              "      border-left-color: var(--fill-color);\n",
              "    }\n",
              "    20% {\n",
              "      border-color: transparent;\n",
              "      border-left-color: var(--fill-color);\n",
              "      border-top-color: var(--fill-color);\n",
              "    }\n",
              "    30% {\n",
              "      border-color: transparent;\n",
              "      border-left-color: var(--fill-color);\n",
              "      border-top-color: var(--fill-color);\n",
              "      border-right-color: var(--fill-color);\n",
              "    }\n",
              "    40% {\n",
              "      border-color: transparent;\n",
              "      border-right-color: var(--fill-color);\n",
              "      border-top-color: var(--fill-color);\n",
              "    }\n",
              "    60% {\n",
              "      border-color: transparent;\n",
              "      border-right-color: var(--fill-color);\n",
              "    }\n",
              "    80% {\n",
              "      border-color: transparent;\n",
              "      border-right-color: var(--fill-color);\n",
              "      border-bottom-color: var(--fill-color);\n",
              "    }\n",
              "    90% {\n",
              "      border-color: transparent;\n",
              "      border-bottom-color: var(--fill-color);\n",
              "    }\n",
              "  }\n",
              "</style>\n",
              "\n",
              "  <script>\n",
              "    async function quickchart(key) {\n",
              "      const quickchartButtonEl =\n",
              "        document.querySelector('#' + key + ' button');\n",
              "      quickchartButtonEl.disabled = true;  // To prevent multiple clicks.\n",
              "      quickchartButtonEl.classList.add('colab-df-spinner');\n",
              "      try {\n",
              "        const charts = await google.colab.kernel.invokeFunction(\n",
              "            'suggestCharts', [key], {});\n",
              "      } catch (error) {\n",
              "        console.error('Error during call to suggestCharts:', error);\n",
              "      }\n",
              "      quickchartButtonEl.classList.remove('colab-df-spinner');\n",
              "      quickchartButtonEl.classList.add('colab-df-quickchart-complete');\n",
              "    }\n",
              "    (() => {\n",
              "      let quickchartButtonEl =\n",
              "        document.querySelector('#df-3f6ffb64-0874-4995-a225-b8a58ad64c63 button');\n",
              "      quickchartButtonEl.style.display =\n",
              "        google.colab.kernel.accessAllowed ? 'block' : 'none';\n",
              "    })();\n",
              "  </script>\n",
              "</div>\n",
              "\n",
              "    </div>\n",
              "  </div>\n"
            ],
            "text/plain": [
              "               id                                               name  \\\n",
              "0  317000001H1178  BRONX-LEBANON HOSPITAL CENTER - CONCOURSE DIVI...   \n",
              "1  317000001H1164    BRONX-LEBANON HOSPITAL CENTER - FULTON DIVISION   \n",
              "2  317000011H1175                               CALVARY HOSPITAL INC   \n",
              "3  317000002H1165                              JACOBI MEDICAL CENTER   \n",
              "4  317000008H1172             LINCOLN MEDICAL & MENTAL HEALTH CENTER   \n",
              "\n",
              "                  address    zip factype   facname capacity capname  bcode  \\\n",
              "0    1650 Grand Concourse  10457    3102  Hospital      415    Beds  36005   \n",
              "1         1276 Fulton Ave  10456    3102  Hospital      164    Beds  36005   \n",
              "2  1740-70 Eastchester Rd  10461    3102  Hospital      225    Beds  36005   \n",
              "3        1400 Pelham Pkwy  10461    3102  Hospital      457    Beds  36005   \n",
              "4            234 E 149 St  10451    3102  Hospital      362    Beds  36005   \n",
              "\n",
              "      xcoord    ycoord   latitude  longitude                        geometry  \n",
              "0  1008872.0  246596.0  40.843490 -73.911010  POINT (1008872.000 246596.000)  \n",
              "1  1011044.0  242204.0  40.831429 -73.903178  POINT (1011044.000 242204.000)  \n",
              "2  1027505.0  248287.0  40.848060 -73.843656  POINT (1027505.000 248287.000)  \n",
              "3  1027042.0  251065.0  40.855687 -73.845311  POINT (1027042.000 251065.000)  \n",
              "4  1005154.0  236853.0  40.816758 -73.924478  POINT (1005154.000 236853.000)  "
            ]
          },
          "execution_count": 9,
          "metadata": {},
          "output_type": "execute_result"
        }
      ]
    },
    {
      "cell_type": "markdown",
      "source": [
        "Use the \"latitude\" and \"longitude\" columns to visualize the hospital locations."
      ],
      "metadata": {
        "id": "_OIoEFgSjRNs"
      }
    },
    {
      "cell_type": "code",
      "source": [
        "m_2 = folium.Map(location=[40.7, -74], zoom_start=11)\n",
        "\n",
        "# Your code here: Visualize the hospital locations\n",
        "for idx, row in hospitals.iterrows():\n",
        "    Marker([row['latitude'], row['longitude']]).add_to(m_2)\n",
        "\n",
        "# Uncomment to see a hint\n",
        "#q_2.hint()\n",
        "\n",
        "# Show the map\n",
        "embed_map(m_2, \"q_2.html\")"
      ],
      "metadata": {
        "execution": {
          "iopub.status.busy": "2024-03-15T09:11:03.188776Z",
          "iopub.status.idle": "2024-03-15T09:11:03.18947Z",
          "shell.execute_reply.started": "2024-03-15T09:11:03.189125Z",
          "shell.execute_reply": "2024-03-15T09:11:03.189161Z"
        },
        "trusted": true,
        "id": "4WvfdYHbjRNs",
        "colab": {
          "base_uri": "https://localhost:8080/",
          "height": 521
        },
        "outputId": "5ed7d4b1-8654-4d8f-9e9a-a9597e6a2d83"
      },
      "execution_count": 10,
      "outputs": [
        {
          "data": {
            "text/html": [
              "\n",
              "        <iframe\n",
              "            width=\"100%\"\n",
              "            height=\"500px\"\n",
              "            src=\"q_2.html\"\n",
              "            frameborder=\"0\"\n",
              "            allowfullscreen\n",
              "            \n",
              "        ></iframe>\n",
              "        "
            ],
            "text/plain": [
              "<IPython.lib.display.IFrame at 0x7ba0dddb9090>"
            ]
          },
          "execution_count": 10,
          "metadata": {},
          "output_type": "execute_result"
        }
      ]
    },
    {
      "cell_type": "code",
      "source": [
        "# Get credit for your work after you have created a map\n",
        "q_2.check()\n",
        "\n",
        "# Uncomment to see our solution (your code may look different!)\n",
        "#q_2.solution()"
      ],
      "metadata": {
        "execution": {
          "iopub.status.busy": "2024-03-15T09:11:03.204093Z",
          "iopub.status.idle": "2024-03-15T09:11:03.204959Z",
          "shell.execute_reply.started": "2024-03-15T09:11:03.204393Z",
          "shell.execute_reply": "2024-03-15T09:11:03.204419Z"
        },
        "trusted": true,
        "colab": {
          "base_uri": "https://localhost:8080/",
          "height": 46
        },
        "id": "C6XoabmjjRNt",
        "outputId": "53defb4b-667e-42b7-a823-ea0bb4eeaa87"
      },
      "execution_count": 11,
      "outputs": [
        {
          "data": {
            "application/javascript": [
              "parent.postMessage({\"jupyterEvent\": \"custom.exercise_interaction\", \"data\": {\"outcomeType\": 1, \"valueTowardsCompletion\": 0.16666666666666666, \"interactionType\": 1, \"questionType\": 2, \"questionId\": \"2_Q2\", \"learnToolsVersion\": \"0.3.4\", \"failureMessage\": \"\", \"exceptionClass\": \"\", \"trace\": \"\"}}, \"*\")"
            ],
            "text/plain": [
              "<IPython.core.display.Javascript object>"
            ]
          },
          "metadata": {},
          "output_type": "display_data"
        },
        {
          "data": {
            "text/markdown": "<span style=\"color:#33cc33\">Thank you for creating a map!</span>",
            "text/plain": [
              "Thank you for creating a map!"
            ]
          },
          "metadata": {},
          "output_type": "display_data"
        }
      ]
    },
    {
      "cell_type": "markdown",
      "source": [
        "### 3) When was the closest hospital more than 10 kilometers away?\n",
        "\n",
        "Create a DataFrame `outside_range` containing all rows from `collisions` with crashes that occurred more than 10 kilometers from the closest hospital.\n",
        "\n",
        "Note that both `hospitals` and `collisions` have EPSG 2263 as the coordinate reference system, and EPSG 2263 has units of meters."
      ],
      "metadata": {
        "id": "iIpPuWIcjRNu"
      }
    },
    {
      "cell_type": "code",
      "source": [
        "buffer = hospitals.geometry.buffer(10000)\n",
        "buffer.head()"
      ],
      "metadata": {
        "colab": {
          "base_uri": "https://localhost:8080/"
        },
        "id": "esajM_CnrSPR",
        "outputId": "5eaf7793-08f0-4917-dced-5ba0fb4b2f42"
      },
      "execution_count": 12,
      "outputs": [
        {
          "data": {
            "text/plain": [
              "0    POLYGON ((1018872.000 246596.000, 1018823.847 ...\n",
              "1    POLYGON ((1021044.000 242204.000, 1020995.847 ...\n",
              "2    POLYGON ((1037505.000 248287.000, 1037456.847 ...\n",
              "3    POLYGON ((1037042.000 251065.000, 1036993.847 ...\n",
              "4    POLYGON ((1015154.000 236853.000, 1015105.847 ...\n",
              "dtype: geometry"
            ]
          },
          "execution_count": 12,
          "metadata": {},
          "output_type": "execute_result"
        }
      ]
    },
    {
      "cell_type": "code",
      "source": [
        "from folium import  GeoJson\n",
        "from folium.plugins import HeatMap\n",
        "# Create map with collisions and hospitals\n",
        "m = folium.Map(location=[40.7, -74], zoom_start=11)\n",
        "HeatMap(data=hospitals[['latitude', 'longitude']], radius=10).add_to(m)\n",
        "for idx, row in collisions.iterrows():\n",
        "    Marker([row['LATITUDE'], row['LONGITUDE']]).add_to(m)\n",
        "\n",
        "# Plot each polygon on the map\n",
        "GeoJson(buffer.to_crs(epsg=2263)).add_to(m)\n",
        "\n",
        "# Show the map\n",
        "embed_map(m, \"q_3.html\")"
      ],
      "metadata": {
        "id": "vsWFWQelrqxG",
        "colab": {
          "base_uri": "https://localhost:8080/",
          "height": 521
        },
        "outputId": "802f6bd5-2f87-4477-e9f0-53e242edca36"
      },
      "execution_count": 13,
      "outputs": [
        {
          "data": {
            "text/html": [
              "\n",
              "        <iframe\n",
              "            width=\"100%\"\n",
              "            height=\"500px\"\n",
              "            src=\"q_3.html\"\n",
              "            frameborder=\"0\"\n",
              "            allowfullscreen\n",
              "            \n",
              "        ></iframe>\n",
              "        "
            ],
            "text/plain": [
              "<IPython.lib.display.IFrame at 0x7ba0b83fb910>"
            ]
          },
          "execution_count": 13,
          "metadata": {},
          "output_type": "execute_result"
        }
      ]
    },
    {
      "cell_type": "code",
      "source": [
        "# Your code here\n",
        "my_union = buffer.geometry.unary_union\n",
        "print('Type:', type(my_union))\n",
        "collisions['Results'] = ['True' if my_union.contains(geo) else 'Fail' for geo in collisions['geometry']]\n",
        "outside_range = collisions[collisions['Results']=='Fail'].drop(['Results'],axis=1)\n",
        "\n",
        "# Check your answer\n",
        "q_3.check()"
      ],
      "metadata": {
        "execution": {
          "iopub.status.busy": "2024-03-15T08:05:07.465888Z",
          "iopub.status.idle": "2024-03-15T08:05:07.466274Z",
          "shell.execute_reply.started": "2024-03-15T08:05:07.466088Z",
          "shell.execute_reply": "2024-03-15T08:05:07.466105Z"
        },
        "trusted": true,
        "id": "n8DXzUBIjRNu",
        "colab": {
          "base_uri": "https://localhost:8080/",
          "height": 64
        },
        "outputId": "9e77a02c-ea29-45bf-d292-85b908423234"
      },
      "execution_count": 14,
      "outputs": [
        {
          "metadata": {
            "tags": null
          },
          "name": "stdout",
          "output_type": "stream",
          "text": [
            "Type: <class 'shapely.geometry.multipolygon.MultiPolygon'>\n"
          ]
        },
        {
          "output_type": "display_data",
          "data": {
            "text/plain": [
              "<IPython.core.display.Javascript object>"
            ],
            "application/javascript": [
              "parent.postMessage({\"jupyterEvent\": \"custom.exercise_interaction\", \"data\": {\"outcomeType\": 1, \"valueTowardsCompletion\": 0.16666666666666666, \"interactionType\": 1, \"questionType\": 2, \"questionId\": \"3_Q3\", \"learnToolsVersion\": \"0.3.4\", \"failureMessage\": \"\", \"exceptionClass\": \"\", \"trace\": \"\"}}, \"*\")"
            ]
          },
          "metadata": {}
        },
        {
          "output_type": "display_data",
          "data": {
            "text/plain": [
              "Correct"
            ],
            "text/markdown": "<span style=\"color:#33cc33\">Correct</span>"
          },
          "metadata": {}
        }
      ]
    },
    {
      "cell_type": "code",
      "source": [
        "outside_range.info()"
      ],
      "metadata": {
        "id": "H7GQBflOxhi0",
        "colab": {
          "base_uri": "https://localhost:8080/"
        },
        "outputId": "1d9b5056-ddfb-4e47-802f-7f8068ff9b9f"
      },
      "execution_count": 15,
      "outputs": [
        {
          "output_type": "stream",
          "name": "stdout",
          "text": [
            "<class 'geopandas.geodataframe.GeoDataFrame'>\n",
            "Int64Index: 39595 entries, 0 to 261900\n",
            "Data columns (total 30 columns):\n",
            " #   Column      Non-Null Count  Dtype   \n",
            "---  ------      --------------  -----   \n",
            " 0   DATE        39595 non-null  object  \n",
            " 1   TIME        39595 non-null  object  \n",
            " 2   BOROUGH     25898 non-null  object  \n",
            " 3   ZIP CODE    25891 non-null  object  \n",
            " 4   LATITUDE    39595 non-null  float64 \n",
            " 5   LONGITUDE   39595 non-null  float64 \n",
            " 6   LOCATION    39595 non-null  object  \n",
            " 7   ON STREET   33001 non-null  object  \n",
            " 8   CROSS STRE  25642 non-null  object  \n",
            " 9   OFF STREET  2936 non-null   object  \n",
            " 10  NUMBER OF   39595 non-null  float64 \n",
            " 11  NUMBER O_1  39593 non-null  float64 \n",
            " 12  NUMBER O_2  39595 non-null  int64   \n",
            " 13  NUMBER O_3  39595 non-null  int64   \n",
            " 14  NUMBER O_4  39595 non-null  int64   \n",
            " 15  NUMBER O_5  39595 non-null  int64   \n",
            " 16  NUMBER O_6  39595 non-null  int64   \n",
            " 17  NUMBER O_7  39595 non-null  int64   \n",
            " 18  CONTRIBUTI  39427 non-null  object  \n",
            " 19  CONTRIBU_1  30449 non-null  object  \n",
            " 20  CONTRIBU_2  6150 non-null   object  \n",
            " 21  CONTRIBU_3  1565 non-null   object  \n",
            " 22  CONTRIBU_4  396 non-null    object  \n",
            " 23  UNIQUE KEY  39595 non-null  int64   \n",
            " 24  VEHICLE TY  39319 non-null  object  \n",
            " 25  VEHICLE _1  30207 non-null  object  \n",
            " 26  VEHICLE _2  6966 non-null   object  \n",
            " 27  VEHICLE _3  2523 non-null   object  \n",
            " 28  VEHICLE _4  734 non-null    object  \n",
            " 29  geometry    39595 non-null  geometry\n",
            "dtypes: float64(4), geometry(1), int64(7), object(18)\n",
            "memory usage: 9.4+ MB\n"
          ]
        }
      ]
    },
    {
      "cell_type": "code",
      "source": [
        "# Lines below will give you a hint or solution code\n",
        "#q_3.hint()\n",
        "#q_3.solution()"
      ],
      "metadata": {
        "execution": {
          "iopub.status.busy": "2024-03-15T08:05:07.469761Z",
          "iopub.status.idle": "2024-03-15T08:05:07.470159Z",
          "shell.execute_reply.started": "2024-03-15T08:05:07.469967Z",
          "shell.execute_reply": "2024-03-15T08:05:07.469984Z"
        },
        "trusted": true,
        "id": "9bVXtWHrjRNv"
      },
      "execution_count": 16,
      "outputs": []
    },
    {
      "cell_type": "markdown",
      "source": [
        "The next code cell calculates the percentage of collisions that occurred more than 10 kilometers away from the closest hospital."
      ],
      "metadata": {
        "id": "VeaOhIebjRNv"
      }
    },
    {
      "cell_type": "code",
      "source": [
        "percentage = round(100*len(outside_range)/len(collisions), 2)\n",
        "print(\"Percentage of collisions more than 10 km away from the closest hospital: {}%\".format(percentage))"
      ],
      "metadata": {
        "execution": {
          "iopub.status.busy": "2024-03-15T08:05:07.471715Z",
          "iopub.status.idle": "2024-03-15T08:05:07.472114Z",
          "shell.execute_reply.started": "2024-03-15T08:05:07.471918Z",
          "shell.execute_reply": "2024-03-15T08:05:07.471934Z"
        },
        "trusted": true,
        "id": "dFkSZ_6njRNv",
        "colab": {
          "base_uri": "https://localhost:8080/"
        },
        "outputId": "5b79d8ad-9944-40d9-9a44-06e9bbeb2897"
      },
      "execution_count": 17,
      "outputs": [
        {
          "output_type": "stream",
          "name": "stdout",
          "text": [
            "Percentage of collisions more than 10 km away from the closest hospital: 15.12%\n"
          ]
        }
      ]
    },
    {
      "cell_type": "markdown",
      "source": [
        "### 4) Make a recommender.\n",
        "\n",
        "When collisions occur in distant locations, it becomes even more vital that injured persons are transported to the nearest available hospital.\n",
        "\n",
        "With this in mind, you decide to create a recommender that:\n",
        "- takes the location of the crash (in EPSG 2263) as input,\n",
        "- finds the closest hospital (where distance calculations are done in EPSG 2263), and\n",
        "- returns the name of the closest hospital."
      ],
      "metadata": {
        "id": "2TkANRRhjRNw"
      }
    },
    {
      "cell_type": "code",
      "source": [
        "def best_hospital(collision_location):\n",
        "    # Your code here\n",
        "    distances = hospitals.geometry.distance(collision_location)\n",
        "    name = hospitals.iloc[distances.idxmin()][\"name\"]\n",
        "    return name\n",
        "\n",
        "# Test your function: this should suggest CALVARY HOSPITAL INC\n",
        "print(best_hospital(outside_range.geometry.iloc[0]))\n",
        "\n",
        "# Check your answer\n",
        "q_4.check()"
      ],
      "metadata": {
        "execution": {
          "iopub.status.busy": "2024-03-15T08:05:07.47361Z",
          "iopub.status.idle": "2024-03-15T08:05:07.473999Z",
          "shell.execute_reply.started": "2024-03-15T08:05:07.473809Z",
          "shell.execute_reply": "2024-03-15T08:05:07.473825Z"
        },
        "trusted": true,
        "id": "CEfCOgXTjRNw",
        "colab": {
          "base_uri": "https://localhost:8080/",
          "height": 64
        },
        "outputId": "52b04ad7-b0a5-4844-bc35-29ffa5419302"
      },
      "execution_count": 18,
      "outputs": [
        {
          "metadata": {
            "tags": null
          },
          "name": "stdout",
          "output_type": "stream",
          "text": [
            "CALVARY HOSPITAL INC\n"
          ]
        },
        {
          "data": {
            "application/javascript": [
              "parent.postMessage({\"jupyterEvent\": \"custom.exercise_interaction\", \"data\": {\"outcomeType\": 1, \"valueTowardsCompletion\": 0.16666666666666666, \"interactionType\": 1, \"questionType\": 2, \"questionId\": \"4_Q4\", \"learnToolsVersion\": \"0.3.4\", \"failureMessage\": \"\", \"exceptionClass\": \"\", \"trace\": \"\"}}, \"*\")"
            ],
            "text/plain": [
              "<IPython.core.display.Javascript object>"
            ]
          },
          "metadata": {},
          "output_type": "display_data"
        },
        {
          "data": {
            "text/markdown": "<span style=\"color:#33cc33\">Correct</span>",
            "text/plain": [
              "Correct"
            ]
          },
          "metadata": {},
          "output_type": "display_data"
        }
      ]
    },
    {
      "cell_type": "code",
      "source": [
        "# Lines below will give you a hint or solution code\n",
        "#q_4.hint()\n",
        "#q_4.solution()"
      ],
      "metadata": {
        "execution": {
          "iopub.status.busy": "2024-03-15T08:05:07.475555Z",
          "iopub.status.idle": "2024-03-15T08:05:07.475952Z",
          "shell.execute_reply.started": "2024-03-15T08:05:07.475759Z",
          "shell.execute_reply": "2024-03-15T08:05:07.475776Z"
        },
        "trusted": true,
        "id": "6LHiV8xyjRNx"
      },
      "execution_count": 19,
      "outputs": []
    },
    {
      "cell_type": "markdown",
      "source": [
        "### 5) Which hospital is under the highest demand?\n",
        "\n",
        "Considering only collisions in the `outside_range` DataFrame, which hospital is most recommended?  \n",
        "\n",
        "Your answer should be a Python string that exactly matches the name of the hospital returned by the function you created in **4)**."
      ],
      "metadata": {
        "id": "qAhLv2p-jRNx"
      }
    },
    {
      "cell_type": "code",
      "source": [
        "# Your code here\n",
        "best_hospitals=[best_hospital(geo) for geo in outside_range.geometry]\n",
        "highest_demand = max(best_hospitals,key=best_hospitals.count)\n",
        "\n",
        "# Check your answer\n",
        "q_5.check()"
      ],
      "metadata": {
        "execution": {
          "iopub.status.busy": "2024-03-15T08:05:07.477759Z",
          "iopub.status.idle": "2024-03-15T08:05:07.478151Z",
          "shell.execute_reply.started": "2024-03-15T08:05:07.477959Z",
          "shell.execute_reply": "2024-03-15T08:05:07.477976Z"
        },
        "trusted": true,
        "id": "qrz1tbYDjRNy",
        "colab": {
          "base_uri": "https://localhost:8080/",
          "height": 46
        },
        "outputId": "8505748f-2713-403a-bf11-cdcf4f6e4a38"
      },
      "execution_count": 20,
      "outputs": [
        {
          "output_type": "display_data",
          "data": {
            "text/plain": [
              "<IPython.core.display.Javascript object>"
            ],
            "application/javascript": [
              "parent.postMessage({\"jupyterEvent\": \"custom.exercise_interaction\", \"data\": {\"outcomeType\": 1, \"valueTowardsCompletion\": 0.16666666666666666, \"interactionType\": 1, \"questionType\": 2, \"questionId\": \"5_Q5\", \"learnToolsVersion\": \"0.3.4\", \"failureMessage\": \"\", \"exceptionClass\": \"\", \"trace\": \"\"}}, \"*\")"
            ]
          },
          "metadata": {}
        },
        {
          "output_type": "display_data",
          "data": {
            "text/plain": [
              "Correct"
            ],
            "text/markdown": "<span style=\"color:#33cc33\">Correct</span>"
          },
          "metadata": {}
        }
      ]
    },
    {
      "cell_type": "code",
      "source": [
        "# Lines below will give you a hint or solution code\n",
        "q_5.hint()\n",
        "#q_5.solution()"
      ],
      "metadata": {
        "execution": {
          "iopub.status.busy": "2024-03-15T08:05:07.479338Z",
          "iopub.status.idle": "2024-03-15T08:05:07.479758Z",
          "shell.execute_reply.started": "2024-03-15T08:05:07.479559Z",
          "shell.execute_reply": "2024-03-15T08:05:07.479579Z"
        },
        "trusted": true,
        "id": "jMFoqAo3jRNy",
        "colab": {
          "base_uri": "https://localhost:8080/",
          "height": 46
        },
        "outputId": "f710c952-183c-49d0-a26f-d0ea3cb55088"
      },
      "execution_count": 21,
      "outputs": [
        {
          "data": {
            "application/javascript": [
              "parent.postMessage({\"jupyterEvent\": \"custom.exercise_interaction\", \"data\": {\"interactionType\": 2, \"questionType\": 2, \"questionId\": \"5_Q5\", \"learnToolsVersion\": \"0.3.4\", \"valueTowardsCompletion\": 0.0, \"failureMessage\": \"\", \"exceptionClass\": \"\", \"trace\": \"\", \"outcomeType\": 4}}, \"*\")"
            ],
            "text/plain": [
              "<IPython.core.display.Javascript object>"
            ]
          },
          "metadata": {},
          "output_type": "display_data"
        },
        {
          "output_type": "display_data",
          "data": {
            "text/plain": [
              "Hint: Begin by applying the `best_hospital()` function to every entry in `outside_range.geometry`."
            ],
            "text/markdown": "<span style=\"color:#3366cc\">Hint:</span> Begin by applying the `best_hospital()` function to every entry in `outside_range.geometry`."
          },
          "metadata": {}
        }
      ]
    },
    {
      "cell_type": "markdown",
      "source": [
        "### 6) Where should the city construct new hospitals?\n",
        "\n",
        "Run the next code cell (without changes) to visualize hospital locations, in addition to collisions that occurred more than 10 kilometers away from the closest hospital."
      ],
      "metadata": {
        "id": "j7mZ_xaSjRNy"
      }
    },
    {
      "cell_type": "code",
      "source": [
        "m_6 = folium.Map(location=[40.7, -74], zoom_start=11)\n",
        "\n",
        "coverage = gpd.GeoDataFrame(geometry=hospitals.geometry).buffer(10000)\n",
        "folium.GeoJson(coverage.geometry.to_crs(epsg=4326)).add_to(m_6)\n",
        "HeatMap(data=outside_range[['LATITUDE', 'LONGITUDE']], radius=9).add_to(m_6)\n",
        "folium.LatLngPopup().add_to(m_6)\n",
        "\n",
        "embed_map(m_6, 'm_6.html')"
      ],
      "metadata": {
        "scrolled": true,
        "execution": {
          "iopub.status.busy": "2024-03-15T08:05:07.480888Z",
          "iopub.status.idle": "2024-03-15T08:05:07.481284Z",
          "shell.execute_reply.started": "2024-03-15T08:05:07.481097Z",
          "shell.execute_reply": "2024-03-15T08:05:07.481114Z"
        },
        "trusted": true,
        "id": "zCGhLY23jRNz",
        "colab": {
          "base_uri": "https://localhost:8080/",
          "height": 521
        },
        "outputId": "a1c1ab4e-98f2-4536-c4bd-95b5882dbc34"
      },
      "execution_count": 22,
      "outputs": [
        {
          "output_type": "execute_result",
          "data": {
            "text/plain": [
              "<IPython.lib.display.IFrame at 0x7ba0b0fa22c0>"
            ],
            "text/html": [
              "\n",
              "        <iframe\n",
              "            width=\"100%\"\n",
              "            height=\"500px\"\n",
              "            src=\"m_6.html\"\n",
              "            frameborder=\"0\"\n",
              "            allowfullscreen\n",
              "            \n",
              "        ></iframe>\n",
              "        "
            ]
          },
          "metadata": {},
          "execution_count": 22
        }
      ]
    },
    {
      "cell_type": "markdown",
      "source": [
        "Click anywhere on the map to see a pop-up with the corresponding location in latitude and longitude.\n",
        "\n",
        "The city of New York reaches out to you for help with deciding locations for two brand new hospitals.  They specifically want your help with identifying locations to bring the calculated percentage from step **3)** to less than ten percent.  Using the map (and without worrying about zoning laws or what potential buildings would have to be removed in order to build the hospitals), can you identify two locations that would help the city accomplish this goal?  \n",
        "\n",
        "Put the proposed latitude and longitude for hospital 1 in `lat_1` and `long_1`, respectively.  (Likewise for hospital 2.)\n",
        "\n",
        "Then, run the rest of the cell as-is to see the effect of the new hospitals.  Your answer will be marked correct, if the two new hospitals bring the percentage to less than ten percent."
      ],
      "metadata": {
        "id": "ly4yOkHzjRNz"
      }
    },
    {
      "cell_type": "code",
      "source": [
        "import matplotlib.pyplot as plt\n",
        "import sklearn\n",
        "from sklearn.cluster import KMeans\n",
        "import numpy\n",
        "\n"
      ],
      "metadata": {
        "id": "wdG0EaNcQSgF"
      },
      "execution_count": 23,
      "outputs": []
    },
    {
      "cell_type": "code",
      "source": [
        "import seaborn as sns"
      ],
      "metadata": {
        "id": "EQDkZa_3lnIT"
      },
      "execution_count": 71,
      "outputs": []
    },
    {
      "cell_type": "code",
      "source": [
        "outside_range_new=outside_range[outside_range['LATITUDE']>-150]\n",
        "outside_range_new= outside_range_new[outside_range_new['LONGITUDE']>-75.65517313734796]\n",
        "\n",
        "COORDS=outside_range_new[['LATITUDE','LONGITUDE']].copy()\n",
        "\n",
        "sns.scatterplot(data = COORDS, x = 'LONGITUDE', y = 'LATITUDE')\n",
        "km = KMeans(n_clusters=6, random_state=0).fit(COORDS)\n",
        "cluster_map = pd.DataFrame()\n",
        "# cluster_map['data_index'] = COORDS.index.values\n",
        "cluster_map['cluster'] = km.labels_\n",
        "\n"
      ],
      "metadata": {
        "colab": {
          "base_uri": "https://localhost:8080/",
          "height": 504
        },
        "id": "D-Wd_K3nPsdU",
        "outputId": "d2c86ee3-9e8c-464c-a018-a4f96a877a53"
      },
      "execution_count": 96,
      "outputs": [
        {
          "output_type": "stream",
          "name": "stderr",
          "text": [
            "/usr/local/lib/python3.10/dist-packages/sklearn/cluster/_kmeans.py:870: FutureWarning: The default value of `n_init` will change from 10 to 'auto' in 1.4. Set the value of `n_init` explicitly to suppress the warning\n",
            "  warnings.warn(\n"
          ]
        },
        {
          "output_type": "display_data",
          "data": {
            "text/plain": [
              "<Figure size 640x480 with 1 Axes>"
            ],
            "image/png": "[encoded data removed]"
          },
          "metadata": {}
        }
      ]
    },
    {
      "cell_type": "code",
      "source": [
        "for center in km.cluster_centers_:\n",
        "   plt.plot(center[0],center[1],'r+')\n",
        "   print(center[0],center[1])"
      ],
      "metadata": {
        "colab": {
          "base_uri": "https://localhost:8080/",
          "height": 534
        },
        "id": "8d0UGB2tdp7N",
        "outputId": "9e74b218-0f7f-499d-dbe0-083cc4c46817"
      },
      "execution_count": 97,
      "outputs": [
        {
          "output_type": "stream",
          "name": "stdout",
          "text": [
            "40.7885540819965 -73.80082018302583\n",
            "0.0 -5.684341886080802e-14\n",
            "40.665226000000004 -32.768513\n",
            "40.58741708094268 -74.1134585647516\n",
            "40.6873934027505 -73.75655768585743\n",
            "40.66425707117469 -73.86260671517122\n"
          ]
        },
        {
          "output_type": "display_data",
          "data": {
            "text/plain": [
              "<Figure size 640x480 with 1 Axes>"
            ],
            "image/png": "[encoded data removed]"
          },
          "metadata": {}
        }
      ]
    },
    {
      "cell_type": "code",
      "source": [
        "print(len(cluster_map[cluster_map.cluster == 3]))\n",
        "print(len(cluster_map[cluster_map.cluster == 1]))\n",
        "print(len(cluster_map[cluster_map.cluster == 0]))\n",
        "print(len(cluster_map[cluster_map.cluster == 2]))\n",
        "print(len(cluster_map[cluster_map.cluster == 4]))\n",
        "print(len(cluster_map[cluster_map.cluster == 5]))\n",
        "# print(len(cluster_map[cluster_map.cluster == 6]))\n",
        "# print(len(cluster_map[cluster_map.cluster == 7]))"
      ],
      "metadata": {
        "colab": {
          "base_uri": "https://localhost:8080/"
        },
        "id": "QjOP31qSXHGU",
        "outputId": "a37d27c7-7761-4a32-97bd-8aeaccbe956d"
      },
      "execution_count": 98,
      "outputs": [
        {
          "output_type": "stream",
          "name": "stdout",
          "text": [
            "7856\n",
            "181\n",
            "5074\n",
            "1\n",
            "15016\n",
            "11458\n"
          ]
        }
      ]
    },
    {
      "cell_type": "code",
      "source": [
        "# convert 2 cluster 0,1 to geometry\n"
      ],
      "metadata": {
        "id": "vC5BQoPLXrd6"
      },
      "execution_count": null,
      "outputs": []
    },
    {
      "cell_type": "code",
      "source": [
        "outside_range_new.info()\n",
        "len(COORDS)"
      ],
      "metadata": {
        "colab": {
          "base_uri": "https://localhost:8080/"
        },
        "id": "xLSNgyLIQVxq",
        "outputId": "e8fecade-7be3-44a8-9738-639c0965c45e"
      },
      "execution_count": 25,
      "outputs": [
        {
          "output_type": "stream",
          "name": "stdout",
          "text": [
            "<class 'geopandas.geodataframe.GeoDataFrame'>\n",
            "Int64Index: 39586 entries, 0 to 261900\n",
            "Data columns (total 30 columns):\n",
            " #   Column      Non-Null Count  Dtype   \n",
            "---  ------      --------------  -----   \n",
            " 0   DATE        39586 non-null  object  \n",
            " 1   TIME        39586 non-null  object  \n",
            " 2   BOROUGH     25898 non-null  object  \n",
            " 3   ZIP CODE    25891 non-null  object  \n",
            " 4   LATITUDE    39586 non-null  float64 \n",
            " 5   LONGITUDE   39586 non-null  float64 \n",
            " 6   LOCATION    39586 non-null  object  \n",
            " 7   ON STREET   32992 non-null  object  \n",
            " 8   CROSS STRE  25642 non-null  object  \n",
            " 9   OFF STREET  2936 non-null   object  \n",
            " 10  NUMBER OF   39586 non-null  float64 \n",
            " 11  NUMBER O_1  39584 non-null  float64 \n",
            " 12  NUMBER O_2  39586 non-null  int64   \n",
            " 13  NUMBER O_3  39586 non-null  int64   \n",
            " 14  NUMBER O_4  39586 non-null  int64   \n",
            " 15  NUMBER O_5  39586 non-null  int64   \n",
            " 16  NUMBER O_6  39586 non-null  int64   \n",
            " 17  NUMBER O_7  39586 non-null  int64   \n",
            " 18  CONTRIBUTI  39418 non-null  object  \n",
            " 19  CONTRIBU_1  30440 non-null  object  \n",
            " 20  CONTRIBU_2  6149 non-null   object  \n",
            " 21  CONTRIBU_3  1564 non-null   object  \n",
            " 22  CONTRIBU_4  396 non-null    object  \n",
            " 23  UNIQUE KEY  39586 non-null  int64   \n",
            " 24  VEHICLE TY  39310 non-null  object  \n",
            " 25  VEHICLE _1  30198 non-null  object  \n",
            " 26  VEHICLE _2  6965 non-null   object  \n",
            " 27  VEHICLE _3  2522 non-null   object  \n",
            " 28  VEHICLE _4  734 non-null    object  \n",
            " 29  geometry    39586 non-null  geometry\n",
            "dtypes: float64(4), geometry(1), int64(7), object(18)\n",
            "memory usage: 9.4+ MB\n"
          ]
        },
        {
          "output_type": "execute_result",
          "data": {
            "text/plain": [
              "39586"
            ]
          },
          "metadata": {},
          "execution_count": 25
        }
      ]
    },
    {
      "cell_type": "code",
      "source": [
        "print(COORDS)"
      ],
      "metadata": {
        "colab": {
          "base_uri": "https://localhost:8080/"
        },
        "id": "EiaEUKu4hnAK",
        "outputId": "bd2c3c08-1dff-4d91-e3c9-8f92e29fdb67"
      },
      "execution_count": 76,
      "outputs": [
        {
          "output_type": "stream",
          "name": "stdout",
          "text": [
            "         LATITUDE  LONGITUDE\n",
            "0       40.841100 -73.784960\n",
            "1       40.710827 -73.770660\n",
            "5       40.721060 -73.759450\n",
            "6       40.676228 -73.761120\n",
            "15      40.588413 -74.166725\n",
            "...           ...        ...\n",
            "261853  40.672278 -73.804492\n",
            "261856  40.659651 -73.773828\n",
            "261888  40.665277 -73.829544\n",
            "261896  40.674954 -73.802036\n",
            "261900  40.708797 -73.727620\n",
            "\n",
            "[39586 rows x 2 columns]\n"
          ]
        }
      ]
    },
    {
      "cell_type": "code",
      "source": [
        "km.cluster_centers_"
      ],
      "metadata": {
        "colab": {
          "base_uri": "https://localhost:8080/"
        },
        "id": "kOMOtvQ6mjo8",
        "outputId": "2a50e18d-223a-4eb8-b880-ac4035961458"
      },
      "execution_count": 92,
      "outputs": [
        {
          "output_type": "execute_result",
          "data": {
            "text/plain": [
              "array([[ 4.06739223e+01, -7.38644872e+01],\n",
              "       [ 0.00000000e+00, -5.68434189e-14],\n",
              "       [ 4.06652260e+01, -3.27685130e+01]])"
            ]
          },
          "metadata": {},
          "execution_count": 92
        }
      ]
    },
    {
      "cell_type": "code",
      "source": [
        "# Your answer here: proposed location of hospital 1\n",
        "lat_1 = km.cluster_centers_[4][0]\n",
        "\n",
        "long_1 =  km.cluster_centers_[4][1]\n",
        "\n",
        "# Your answer here: proposed location of hospital 2\n",
        "lat_2 = km.cluster_centers_[5][0]\n",
        "long_2 = km.cluster_centers_[5][1]\n",
        "# lat_1 = 40.6714\n",
        "\n",
        "# long_1 = -73.8492\n",
        "\n",
        "# # Your answer here: proposed location of hospital 2\n",
        "# lat_2 = 40.6702\n",
        "# long_2 = -73.7612\n",
        "\n",
        "# Do not modify the code below this line\n",
        "try:\n",
        "    new_df = pd.DataFrame(\n",
        "        {'Latitude': [lat_1, lat_2],\n",
        "         'Longitude': [long_1, long_2]})\n",
        "    new_gdf = gpd.GeoDataFrame(new_df, geometry=gpd.points_from_xy(new_df.Longitude,new_df.Latitude))\n",
        "    new_gdf.crs = {'init' :'epsg:4326'}\n",
        "    new_gdf = new_gdf.to_crs(epsg=2263)\n",
        "    new_gdf.head()\n",
        "    # print distance from 2 new hospital to the collision outside_range\n",
        "    distance1=new_gdf.geometry[0].distance(outside_range.geometry)\n",
        "    print(distance1.mean())\n",
        "    distance2=new_gdf.geometry[1].distance(outside_range.geometry)\n",
        "    print(distance2.mean())\n",
        "    # get new percentage\n",
        "    new_coverage = gpd.GeoDataFrame(geometry=new_gdf.geometry).buffer(10000)\n",
        "    new_my_union = new_coverage.geometry.unary_union\n",
        "    new_outside_range = outside_range.loc[~outside_range[\"geometry\"].apply(lambda x: new_my_union.contains(x))]\n",
        "    new_percentage = round(100*len(new_outside_range)/len(collisions), 2)\n",
        "    print(\"(NEW) Percentage of collisions more than 10 km away from the closest hospital: {}%\".format(new_percentage))\n",
        "    # Did you help the city to meet its goal?\n",
        "    q_6.check()\n",
        "    # make the map\n",
        "    m = folium.Map(location=[40.7, -74], zoom_start=11)\n",
        "    folium.GeoJson(coverage.geometry.to_crs(epsg=4326)).add_to(m)\n",
        "    folium.GeoJson(new_coverage.geometry.to_crs(epsg=4326)).add_to(m)\n",
        "    for idx, row in new_gdf.iterrows():\n",
        "        Marker([row['Latitude'], row['Longitude']]).add_to(m)\n",
        "    HeatMap(data=new_outside_range[['LATITUDE', 'LONGITUDE']], radius=9).add_to(m)\n",
        "    folium.LatLngPopup().add_to(m)\n",
        "    display(embed_map(m, 'q_6.html'))\n",
        "except:\n",
        "    q_6.hint()"
      ],
      "metadata": {
        "execution": {
          "iopub.status.busy": "2024-03-15T08:05:07.482845Z",
          "iopub.status.idle": "2024-03-15T08:05:07.483226Z",
          "shell.execute_reply.started": "2024-03-15T08:05:07.48304Z",
          "shell.execute_reply": "2024-03-15T08:05:07.483056Z"
        },
        "trusted": true,
        "id": "Lq03sMMXjRN0",
        "colab": {
          "base_uri": "https://localhost:8080/",
          "height": 657
        },
        "outputId": "306fd3ea-6256-4619-a700-69d1d3126713"
      },
      "execution_count": 99,
      "outputs": [
        {
          "output_type": "stream",
          "name": "stderr",
          "text": [
            "/usr/local/lib/python3.10/dist-packages/pyproj/crs/crs.py:141: FutureWarning: '+init=<authority>:<code>' syntax is deprecated. '<authority>:<code>' is the preferred initialization method. When making the change, be mindful of axis order changes: https://pyproj4.github.io/pyproj/stable/gotchas.html#axis-order-changes-in-proj-6\n",
            "  in_crs_string = _prepare_from_proj_string(in_crs_string)\n"
          ]
        },
        {
          "output_type": "stream",
          "name": "stdout",
          "text": [
            "184018.32377738896\n",
            "181708.70142139102\n",
            "(NEW) Percentage of collisions more than 10 km away from the closest hospital: 8.99%\n"
          ]
        },
        {
          "output_type": "display_data",
          "data": {
            "text/plain": [
              "<IPython.core.display.Javascript object>"
            ],
            "application/javascript": [
              "parent.postMessage({\"jupyterEvent\": \"custom.exercise_interaction\", \"data\": {\"outcomeType\": 1, \"valueTowardsCompletion\": 0.16666666666666666, \"interactionType\": 1, \"questionType\": 2, \"questionId\": \"6_Q6\", \"learnToolsVersion\": \"0.3.4\", \"failureMessage\": \"\", \"exceptionClass\": \"\", \"trace\": \"\"}}, \"*\")"
            ]
          },
          "metadata": {}
        },
        {
          "output_type": "display_data",
          "data": {
            "text/plain": [
              "Correct"
            ],
            "text/markdown": "<span style=\"color:#33cc33\">Correct</span>"
          },
          "metadata": {}
        },
        {
          "output_type": "display_data",
          "data": {
            "text/plain": [
              "<IPython.lib.display.IFrame at 0x7ba10aea1cf0>"
            ],
            "text/html": [
              "\n",
              "        <iframe\n",
              "            width=\"100%\"\n",
              "            height=\"500px\"\n",
              "            src=\"q_6.html\"\n",
              "            frameborder=\"0\"\n",
              "            allowfullscreen\n",
              "            \n",
              "        ></iframe>\n",
              "        "
            ]
          },
          "metadata": {}
        }
      ]
    },
    {
      "cell_type": "code",
      "source": [
        "# Uncomment to see one potential answer\n",
        "q_6.solution()"
      ],
      "metadata": {
        "execution": {
          "iopub.status.busy": "2024-03-15T08:05:07.484994Z",
          "iopub.status.idle": "2024-03-15T08:05:07.485384Z",
          "shell.execute_reply.started": "2024-03-15T08:05:07.485189Z",
          "shell.execute_reply": "2024-03-15T08:05:07.485205Z"
        },
        "trusted": true,
        "id": "gkanSVrojRN0",
        "colab": {
          "base_uri": "https://localhost:8080/",
          "height": 168
        },
        "outputId": "755abb72-0a7d-41b4-a78d-53648f7b2c85"
      },
      "execution_count": 59,
      "outputs": [
        {
          "output_type": "display_data",
          "data": {
            "text/plain": [
              "<IPython.core.display.Javascript object>"
            ],
            "application/javascript": [
              "parent.postMessage({\"jupyterEvent\": \"custom.exercise_interaction\", \"data\": {\"interactionType\": 3, \"questionType\": 2, \"questionId\": \"6_Q6\", \"learnToolsVersion\": \"0.3.4\", \"valueTowardsCompletion\": 0.0, \"failureMessage\": \"\", \"exceptionClass\": \"\", \"trace\": \"\", \"outcomeType\": 4}}, \"*\")"
            ]
          },
          "metadata": {}
        },
        {
          "output_type": "display_data",
          "data": {
            "text/plain": [
              "Solution: \n",
              "```python\n",
              "# Proposed location of hospital 1\n",
              "lat_1 = 40.6714\n",
              "long_1 = -73.8492\n",
              "\n",
              "# Proposed location of hospital 2\n",
              "lat_2 = 40.6702\n",
              "long_2 = -73.7612\n",
              "\n",
              "```"
            ],
            "text/markdown": "<span style=\"color:#33cc99\">Solution:</span> \n```python\n# Proposed location of hospital 1\nlat_1 = 40.6714\nlong_1 = -73.8492\n\n# Proposed location of hospital 2\nlat_2 = 40.6702\nlong_2 = -73.7612\n\n```"
          },
          "metadata": {}
        }
      ]
    },
    {
      "cell_type": "markdown",
      "source": [
        "# Congratulations!\n",
        "\n",
        "You have just completed the Geospatial Analysis micro-course!  Great job!"
      ],
      "metadata": {
        "id": "EH-VFy-LjRN1"
      }
    },
    {
      "cell_type": "markdown",
      "source": [
        "---\n",
        "\n",
        "\n",
        "\n",
        "\n",
        "*Have questions or comments? Visit the [course discussion forum](https://www.kaggle.com/learn/geospatial-analysis/discussion) to chat with other learners.*"
      ],
      "metadata": {
        "id": "FJW5mB1rjRN1"
      }
    }
  ]
}