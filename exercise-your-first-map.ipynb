{
 "cells": [
  {
   "cell_type": "markdown",
   "id": "137912ba",
   "metadata": {
    "papermill": {
     "duration": 0.007443,
     "end_time": "2024-02-24T10:03:36.724479",
     "exception": false,
     "start_time": "2024-02-24T10:03:36.717036",
     "status": "completed"
    },
    "tags": []
   },
   "source": [
    "**This notebook is an exercise in the [Geospatial Analysis](https://www.kaggle.com/learn/geospatial-analysis) course.  You can reference the tutorial at [this link](https://www.kaggle.com/alexisbcook/your-first-map).**\n",
    "\n",
    "---\n"
   ]
  },
  {
   "cell_type": "markdown",
   "id": "4291317b",
   "metadata": {
    "papermill": {
     "duration": 0.00606,
     "end_time": "2024-02-24T10:03:36.737307",
     "exception": false,
     "start_time": "2024-02-24T10:03:36.731247",
     "status": "completed"
    },
    "tags": []
   },
   "source": [
    "# Introduction\n",
    "\n",
    "[Kiva.org](https://www.kiva.org/) is an online crowdfunding platform extending financial services to poor people around the world. Kiva lenders have provided over $1 billion dollars in loans to over 2 million people.\n",
    "\n",
    "<center>\n",
    "<img src=\"https://storage.googleapis.com/kaggle-media/learn/images/2G8C53X.png\" width=\"500\"><br/>\n",
    "</center>\n",
    "\n",
    "Kiva reaches some of the most remote places in the world through their global network of \"Field Partners\". These partners are local organizations working in communities to vet borrowers, provide services, and administer loans.\n",
    "\n",
    "In this exercise, you'll investigate Kiva loans in the Philippines.  Can you identify regions that might be outside of Kiva's current network, in order to identify opportunities for recruiting new Field Partners?\n",
    "\n",
    "To get started, run the code cell below to set up our feedback system."
   ]
  },
  {
   "cell_type": "code",
   "execution_count": 1,
   "id": "f32adbc6",
   "metadata": {
    "execution": {
     "iopub.execute_input": "2024-02-24T10:03:36.752179Z",
     "iopub.status.busy": "2024-02-24T10:03:36.751413Z",
     "iopub.status.idle": "2024-02-24T10:03:41.855699Z",
     "shell.execute_reply": "2024-02-24T10:03:41.854477Z"
    },
    "papermill": {
     "duration": 5.115239,
     "end_time": "2024-02-24T10:03:41.858812",
     "exception": false,
     "start_time": "2024-02-24T10:03:36.743573",
     "status": "completed"
    },
    "tags": []
   },
   "outputs": [
    {
     "name": "stderr",
     "output_type": "stream",
     "text": [
      "/opt/conda/lib/python3.10/site-packages/learntools/geospatial/ex1.py:22: FutureWarning: The geopandas.dataset module is deprecated and will be removed in GeoPandas 1.0. You can get the original 'naturalearth_lowres' data from https://www.naturalearthdata.com/downloads/110m-cultural-vectors/.\n",
      "  world = gpd.read_file(gpd.datasets.get_path('naturalearth_lowres'))\n"
     ]
    }
   ],
   "source": [
    "import geopandas as gpd\n",
    "\n",
    "from learntools.core import binder\n",
    "binder.bind(globals())\n",
    "from learntools.geospatial.ex1 import *"
   ]
  },
  {
   "cell_type": "markdown",
   "id": "3b3fafd0",
   "metadata": {
    "papermill": {
     "duration": 0.006651,
     "end_time": "2024-02-24T10:03:41.872348",
     "exception": false,
     "start_time": "2024-02-24T10:03:41.865697",
     "status": "completed"
    },
    "tags": []
   },
   "source": [
    "### 1) Get the data.\n",
    "\n",
    "Use the next cell to load the shapefile located at `loans_filepath` to create a GeoDataFrame `world_loans`.  "
   ]
  },
  {
   "cell_type": "code",
   "execution_count": 2,
   "id": "9e9634ab",
   "metadata": {
    "execution": {
     "iopub.execute_input": "2024-02-24T10:03:41.887505Z",
     "iopub.status.busy": "2024-02-24T10:03:41.887089Z",
     "iopub.status.idle": "2024-02-24T10:03:46.067658Z",
     "shell.execute_reply": "2024-02-24T10:03:46.066512Z"
    },
    "papermill": {
     "duration": 4.190998,
     "end_time": "2024-02-24T10:03:46.070215",
     "exception": false,
     "start_time": "2024-02-24T10:03:41.879217",
     "status": "completed"
    },
    "tags": []
   },
   "outputs": [
    {
     "data": {
      "application/javascript": [
       "parent.postMessage({\"jupyterEvent\": \"custom.exercise_interaction\", \"data\": {\"outcomeType\": 1, \"valueTowardsCompletion\": 0.3333333333333333, \"interactionType\": 1, \"questionType\": 2, \"questionId\": \"1_Q1\", \"learnToolsVersion\": \"0.3.4\", \"failureMessage\": \"\", \"exceptionClass\": \"\", \"trace\": \"\"}}, \"*\")"
      ],
      "text/plain": [
       "<IPython.core.display.Javascript object>"
      ]
     },
     "metadata": {},
     "output_type": "display_data"
    },
    {
     "data": {
      "text/markdown": [
       "<span style=\"color:#33cc33\">Correct</span>"
      ],
      "text/plain": [
       "Correct"
      ]
     },
     "metadata": {},
     "output_type": "display_data"
    },
    {
     "data": {
      "text/html": [
       "<div>\n",
       "<style scoped>\n",
       "    .dataframe tbody tr th:only-of-type {\n",
       "        vertical-align: middle;\n",
       "    }\n",
       "\n",
       "    .dataframe tbody tr th {\n",
       "        vertical-align: top;\n",
       "    }\n",
       "\n",
       "    .dataframe thead th {\n",
       "        text-align: right;\n",
       "    }\n",
       "</style>\n",
       "<table border=\"1\" class=\"dataframe\">\n",
       "  <thead>\n",
       "    <tr style=\"text-align: right;\">\n",
       "      <th></th>\n",
       "      <th>Partner ID</th>\n",
       "      <th>Field Part</th>\n",
       "      <th>sector</th>\n",
       "      <th>Loan Theme</th>\n",
       "      <th>country</th>\n",
       "      <th>amount</th>\n",
       "      <th>geometry</th>\n",
       "    </tr>\n",
       "  </thead>\n",
       "  <tbody>\n",
       "    <tr>\n",
       "      <th>0</th>\n",
       "      <td>9</td>\n",
       "      <td>KREDIT Microfinance Institution</td>\n",
       "      <td>General Financial Inclusion</td>\n",
       "      <td>Higher Education</td>\n",
       "      <td>Cambodia</td>\n",
       "      <td>450</td>\n",
       "      <td>POINT (102.89751 13.66726)</td>\n",
       "    </tr>\n",
       "    <tr>\n",
       "      <th>1</th>\n",
       "      <td>9</td>\n",
       "      <td>KREDIT Microfinance Institution</td>\n",
       "      <td>General Financial Inclusion</td>\n",
       "      <td>Vulnerable Populations</td>\n",
       "      <td>Cambodia</td>\n",
       "      <td>20275</td>\n",
       "      <td>POINT (102.98962 13.02870)</td>\n",
       "    </tr>\n",
       "    <tr>\n",
       "      <th>2</th>\n",
       "      <td>9</td>\n",
       "      <td>KREDIT Microfinance Institution</td>\n",
       "      <td>General Financial Inclusion</td>\n",
       "      <td>Higher Education</td>\n",
       "      <td>Cambodia</td>\n",
       "      <td>9150</td>\n",
       "      <td>POINT (102.98962 13.02870)</td>\n",
       "    </tr>\n",
       "    <tr>\n",
       "      <th>3</th>\n",
       "      <td>9</td>\n",
       "      <td>KREDIT Microfinance Institution</td>\n",
       "      <td>General Financial Inclusion</td>\n",
       "      <td>Vulnerable Populations</td>\n",
       "      <td>Cambodia</td>\n",
       "      <td>604950</td>\n",
       "      <td>POINT (105.31312 12.09829)</td>\n",
       "    </tr>\n",
       "    <tr>\n",
       "      <th>4</th>\n",
       "      <td>9</td>\n",
       "      <td>KREDIT Microfinance Institution</td>\n",
       "      <td>General Financial Inclusion</td>\n",
       "      <td>Sanitation</td>\n",
       "      <td>Cambodia</td>\n",
       "      <td>275</td>\n",
       "      <td>POINT (105.31312 12.09829)</td>\n",
       "    </tr>\n",
       "  </tbody>\n",
       "</table>\n",
       "</div>"
      ],
      "text/plain": [
       "   Partner ID                       Field Part                       sector  \\\n",
       "0           9  KREDIT Microfinance Institution  General Financial Inclusion   \n",
       "1           9  KREDIT Microfinance Institution  General Financial Inclusion   \n",
       "2           9  KREDIT Microfinance Institution  General Financial Inclusion   \n",
       "3           9  KREDIT Microfinance Institution  General Financial Inclusion   \n",
       "4           9  KREDIT Microfinance Institution  General Financial Inclusion   \n",
       "\n",
       "               Loan Theme   country  amount                    geometry  \n",
       "0        Higher Education  Cambodia     450  POINT (102.89751 13.66726)  \n",
       "1  Vulnerable Populations  Cambodia   20275  POINT (102.98962 13.02870)  \n",
       "2        Higher Education  Cambodia    9150  POINT (102.98962 13.02870)  \n",
       "3  Vulnerable Populations  Cambodia  604950  POINT (105.31312 12.09829)  \n",
       "4              Sanitation  Cambodia     275  POINT (105.31312 12.09829)  "
      ]
     },
     "execution_count": 2,
     "metadata": {},
     "output_type": "execute_result"
    }
   ],
   "source": [
    "loans_filepath = \"../input/geospatial-learn-course-data/kiva_loans/kiva_loans/kiva_loans.shp\"\n",
    "\n",
    "# Your code here: Load the data\n",
    "world_loans = gpd.read_file(loans_filepath)\n",
    "\n",
    "# Check your answer\n",
    "q_1.check()\n",
    "\n",
    "# Uncomment to view the first five rows of the data\n",
    "world_loans.head()"
   ]
  },
  {
   "cell_type": "code",
   "execution_count": 3,
   "id": "905dbfc6",
   "metadata": {
    "execution": {
     "iopub.execute_input": "2024-02-24T10:03:46.087586Z",
     "iopub.status.busy": "2024-02-24T10:03:46.087133Z",
     "iopub.status.idle": "2024-02-24T10:03:46.091935Z",
     "shell.execute_reply": "2024-02-24T10:03:46.090771Z"
    },
    "papermill": {
     "duration": 0.017011,
     "end_time": "2024-02-24T10:03:46.094471",
     "exception": false,
     "start_time": "2024-02-24T10:03:46.077460",
     "status": "completed"
    },
    "tags": []
   },
   "outputs": [],
   "source": [
    "# Lines below will give you a hint or solution code\n",
    "#q_1.hint()\n",
    "#q_1.solution()"
   ]
  },
  {
   "cell_type": "markdown",
   "id": "57e300e1",
   "metadata": {
    "papermill": {
     "duration": 0.00766,
     "end_time": "2024-02-24T10:03:46.109473",
     "exception": false,
     "start_time": "2024-02-24T10:03:46.101813",
     "status": "completed"
    },
    "tags": []
   },
   "source": [
    "### 2) Plot the data.\n",
    "\n",
    "Run the next code cell without changes to load a GeoDataFrame `world` containing country boundaries."
   ]
  },
  {
   "cell_type": "code",
   "execution_count": 4,
   "id": "4d2bcff5",
   "metadata": {
    "execution": {
     "iopub.execute_input": "2024-02-24T10:03:46.125787Z",
     "iopub.status.busy": "2024-02-24T10:03:46.125362Z",
     "iopub.status.idle": "2024-02-24T10:03:46.211531Z",
     "shell.execute_reply": "2024-02-24T10:03:46.210468Z"
    },
    "papermill": {
     "duration": 0.097009,
     "end_time": "2024-02-24T10:03:46.213836",
     "exception": false,
     "start_time": "2024-02-24T10:03:46.116827",
     "status": "completed"
    },
    "tags": []
   },
   "outputs": [
    {
     "name": "stderr",
     "output_type": "stream",
     "text": [
      "/tmp/ipykernel_18/3126548565.py:2: FutureWarning: The geopandas.dataset module is deprecated and will be removed in GeoPandas 1.0. You can get the original 'naturalearth_lowres' data from https://www.naturalearthdata.com/downloads/110m-cultural-vectors/.\n",
      "  world_filepath = gpd.datasets.get_path('naturalearth_lowres')\n"
     ]
    },
    {
     "data": {
      "text/html": [
       "<div>\n",
       "<style scoped>\n",
       "    .dataframe tbody tr th:only-of-type {\n",
       "        vertical-align: middle;\n",
       "    }\n",
       "\n",
       "    .dataframe tbody tr th {\n",
       "        vertical-align: top;\n",
       "    }\n",
       "\n",
       "    .dataframe thead th {\n",
       "        text-align: right;\n",
       "    }\n",
       "</style>\n",
       "<table border=\"1\" class=\"dataframe\">\n",
       "  <thead>\n",
       "    <tr style=\"text-align: right;\">\n",
       "      <th></th>\n",
       "      <th>pop_est</th>\n",
       "      <th>continent</th>\n",
       "      <th>name</th>\n",
       "      <th>iso_a3</th>\n",
       "      <th>gdp_md_est</th>\n",
       "      <th>geometry</th>\n",
       "    </tr>\n",
       "  </thead>\n",
       "  <tbody>\n",
       "    <tr>\n",
       "      <th>0</th>\n",
       "      <td>889953.0</td>\n",
       "      <td>Oceania</td>\n",
       "      <td>Fiji</td>\n",
       "      <td>FJI</td>\n",
       "      <td>5496</td>\n",
       "      <td>MULTIPOLYGON (((180.00000 -16.06713, 180.00000...</td>\n",
       "    </tr>\n",
       "    <tr>\n",
       "      <th>1</th>\n",
       "      <td>58005463.0</td>\n",
       "      <td>Africa</td>\n",
       "      <td>Tanzania</td>\n",
       "      <td>TZA</td>\n",
       "      <td>63177</td>\n",
       "      <td>POLYGON ((33.90371 -0.95000, 34.07262 -1.05982...</td>\n",
       "    </tr>\n",
       "    <tr>\n",
       "      <th>2</th>\n",
       "      <td>603253.0</td>\n",
       "      <td>Africa</td>\n",
       "      <td>W. Sahara</td>\n",
       "      <td>ESH</td>\n",
       "      <td>907</td>\n",
       "      <td>POLYGON ((-8.66559 27.65643, -8.66512 27.58948...</td>\n",
       "    </tr>\n",
       "    <tr>\n",
       "      <th>3</th>\n",
       "      <td>37589262.0</td>\n",
       "      <td>North America</td>\n",
       "      <td>Canada</td>\n",
       "      <td>CAN</td>\n",
       "      <td>1736425</td>\n",
       "      <td>MULTIPOLYGON (((-122.84000 49.00000, -122.9742...</td>\n",
       "    </tr>\n",
       "    <tr>\n",
       "      <th>4</th>\n",
       "      <td>328239523.0</td>\n",
       "      <td>North America</td>\n",
       "      <td>United States of America</td>\n",
       "      <td>USA</td>\n",
       "      <td>21433226</td>\n",
       "      <td>MULTIPOLYGON (((-122.84000 49.00000, -120.0000...</td>\n",
       "    </tr>\n",
       "  </tbody>\n",
       "</table>\n",
       "</div>"
      ],
      "text/plain": [
       "       pop_est      continent                      name iso_a3  gdp_md_est  \\\n",
       "0     889953.0        Oceania                      Fiji    FJI        5496   \n",
       "1   58005463.0         Africa                  Tanzania    TZA       63177   \n",
       "2     603253.0         Africa                 W. Sahara    ESH         907   \n",
       "3   37589262.0  North America                    Canada    CAN     1736425   \n",
       "4  328239523.0  North America  United States of America    USA    21433226   \n",
       "\n",
       "                                            geometry  \n",
       "0  MULTIPOLYGON (((180.00000 -16.06713, 180.00000...  \n",
       "1  POLYGON ((33.90371 -0.95000, 34.07262 -1.05982...  \n",
       "2  POLYGON ((-8.66559 27.65643, -8.66512 27.58948...  \n",
       "3  MULTIPOLYGON (((-122.84000 49.00000, -122.9742...  \n",
       "4  MULTIPOLYGON (((-122.84000 49.00000, -120.0000...  "
      ]
     },
     "execution_count": 4,
     "metadata": {},
     "output_type": "execute_result"
    }
   ],
   "source": [
    "# This dataset is provided in GeoPandas\n",
    "world_filepath = gpd.datasets.get_path('naturalearth_lowres')\n",
    "world = gpd.read_file(world_filepath)\n",
    "world.head()"
   ]
  },
  {
   "cell_type": "markdown",
   "id": "476d628c",
   "metadata": {
    "papermill": {
     "duration": 0.007557,
     "end_time": "2024-02-24T10:03:46.229393",
     "exception": false,
     "start_time": "2024-02-24T10:03:46.221836",
     "status": "completed"
    },
    "tags": []
   },
   "source": [
    "Use the `world` and `world_loans` GeoDataFrames to visualize Kiva loan locations across the world."
   ]
  },
  {
   "cell_type": "code",
   "execution_count": 5,
   "id": "b3de9248",
   "metadata": {
    "execution": {
     "iopub.execute_input": "2024-02-24T10:03:46.246513Z",
     "iopub.status.busy": "2024-02-24T10:03:46.246059Z",
     "iopub.status.idle": "2024-02-24T10:03:46.253044Z",
     "shell.execute_reply": "2024-02-24T10:03:46.251855Z"
    },
    "papermill": {
     "duration": 0.018497,
     "end_time": "2024-02-24T10:03:46.255543",
     "exception": false,
     "start_time": "2024-02-24T10:03:46.237046",
     "status": "completed"
    },
    "tags": []
   },
   "outputs": [
    {
     "data": {
      "text/markdown": [],
      "text/plain": [
       "<learntools.core.constants.PlaceholderValue at 0x7f6423bff9d0>"
      ]
     },
     "execution_count": 5,
     "metadata": {},
     "output_type": "execute_result"
    }
   ],
   "source": [
    "# Your code here\n",
    "____\n",
    "\n",
    "# Uncomment to see a hint\n",
    "#q_2.hint()"
   ]
  },
  {
   "cell_type": "code",
   "execution_count": 6,
   "id": "88012550",
   "metadata": {
    "execution": {
     "iopub.execute_input": "2024-02-24T10:03:46.273282Z",
     "iopub.status.busy": "2024-02-24T10:03:46.272864Z",
     "iopub.status.idle": "2024-02-24T10:03:46.283667Z",
     "shell.execute_reply": "2024-02-24T10:03:46.282579Z"
    },
    "papermill": {
     "duration": 0.022389,
     "end_time": "2024-02-24T10:03:46.285980",
     "exception": false,
     "start_time": "2024-02-24T10:03:46.263591",
     "status": "completed"
    },
    "tags": []
   },
   "outputs": [
    {
     "data": {
      "application/javascript": [
       "parent.postMessage({\"jupyterEvent\": \"custom.exercise_interaction\", \"data\": {\"outcomeType\": 1, \"valueTowardsCompletion\": 0.3333333333333333, \"interactionType\": 1, \"questionType\": 2, \"questionId\": \"2_Q2\", \"learnToolsVersion\": \"0.3.4\", \"failureMessage\": \"\", \"exceptionClass\": \"\", \"trace\": \"\"}}, \"*\")"
      ],
      "text/plain": [
       "<IPython.core.display.Javascript object>"
      ]
     },
     "metadata": {},
     "output_type": "display_data"
    },
    {
     "data": {
      "text/markdown": [
       "<span style=\"color:#33cc33\">Thank you for creating a map!</span>"
      ],
      "text/plain": [
       "Thank you for creating a map!"
      ]
     },
     "metadata": {},
     "output_type": "display_data"
    }
   ],
   "source": [
    "# Get credit for your work after you have created a map\n",
    "q_2.check()\n",
    "\n",
    "# Uncomment to see our solution (your code may look different!)\n",
    "#q_2.solution()"
   ]
  },
  {
   "cell_type": "markdown",
   "id": "b12a18bb",
   "metadata": {
    "papermill": {
     "duration": 0.008939,
     "end_time": "2024-02-24T10:03:46.303457",
     "exception": false,
     "start_time": "2024-02-24T10:03:46.294518",
     "status": "completed"
    },
    "tags": []
   },
   "source": [
    "### 3) Select loans based in the Philippines.\n",
    "\n",
    "Next, you'll focus on loans that are based in the Philippines.  Use the next code cell to create a GeoDataFrame `PHL_loans` which contains all rows from `world_loans` with loans that are based in the Philippines."
   ]
  },
  {
   "cell_type": "code",
   "execution_count": 7,
   "id": "b468da00",
   "metadata": {
    "execution": {
     "iopub.execute_input": "2024-02-24T10:03:46.322056Z",
     "iopub.status.busy": "2024-02-24T10:03:46.321653Z",
     "iopub.status.idle": "2024-02-24T10:03:46.330796Z",
     "shell.execute_reply": "2024-02-24T10:03:46.329724Z"
    },
    "papermill": {
     "duration": 0.021642,
     "end_time": "2024-02-24T10:03:46.333342",
     "exception": false,
     "start_time": "2024-02-24T10:03:46.311700",
     "status": "completed"
    },
    "tags": []
   },
   "outputs": [
    {
     "data": {
      "application/javascript": [
       "parent.postMessage({\"jupyterEvent\": \"custom.exercise_interaction\", \"data\": {\"outcomeType\": 4, \"interactionType\": 1, \"questionType\": 2, \"questionId\": \"3_Q3\", \"learnToolsVersion\": \"0.3.4\", \"valueTowardsCompletion\": 0.0, \"failureMessage\": \"\", \"exceptionClass\": \"\", \"trace\": \"\"}}, \"*\")"
      ],
      "text/plain": [
       "<IPython.core.display.Javascript object>"
      ]
     },
     "metadata": {},
     "output_type": "display_data"
    },
    {
     "data": {
      "text/markdown": [
       "<span style=\"color:#ccaa33\">Check:</span> When you've updated the starter code, `check()` will tell you whether your code is correct. You need to update the code that creates variable `PHL_loans`"
      ],
      "text/plain": [
       "Check: When you've updated the starter code, `check()` will tell you whether your code is correct. You need to update the code that creates variable `PHL_loans`"
      ]
     },
     "metadata": {},
     "output_type": "display_data"
    }
   ],
   "source": [
    "# Your code here\n",
    "PHL_loans = ____\n",
    "\n",
    "# Check your answer\n",
    "q_3.check()"
   ]
  },
  {
   "cell_type": "code",
   "execution_count": 8,
   "id": "f496b877",
   "metadata": {
    "execution": {
     "iopub.execute_input": "2024-02-24T10:03:46.352981Z",
     "iopub.status.busy": "2024-02-24T10:03:46.352187Z",
     "iopub.status.idle": "2024-02-24T10:03:46.356168Z",
     "shell.execute_reply": "2024-02-24T10:03:46.355390Z"
    },
    "papermill": {
     "duration": 0.01637,
     "end_time": "2024-02-24T10:03:46.358350",
     "exception": false,
     "start_time": "2024-02-24T10:03:46.341980",
     "status": "completed"
    },
    "tags": []
   },
   "outputs": [],
   "source": [
    "# Lines below will give you a hint or solution code\n",
    "#q_3.hint()\n",
    "#q_3.solution()"
   ]
  },
  {
   "cell_type": "markdown",
   "id": "ce41fe6f",
   "metadata": {
    "papermill": {
     "duration": 0.008458,
     "end_time": "2024-02-24T10:03:46.375739",
     "exception": false,
     "start_time": "2024-02-24T10:03:46.367281",
     "status": "completed"
    },
    "tags": []
   },
   "source": [
    "### 4) Understand loans in the Philippines.\n",
    "\n",
    "Run the next code cell without changes to load a GeoDataFrame `PHL` containing boundaries for all islands in the Philippines."
   ]
  },
  {
   "cell_type": "code",
   "execution_count": 9,
   "id": "0aac5b49",
   "metadata": {
    "execution": {
     "iopub.execute_input": "2024-02-24T10:03:46.395364Z",
     "iopub.status.busy": "2024-02-24T10:03:46.394956Z",
     "iopub.status.idle": "2024-02-24T10:03:50.781966Z",
     "shell.execute_reply": "2024-02-24T10:03:50.780606Z"
    },
    "papermill": {
     "duration": 4.400062,
     "end_time": "2024-02-24T10:03:50.784568",
     "exception": false,
     "start_time": "2024-02-24T10:03:46.384506",
     "status": "completed"
    },
    "tags": []
   },
   "outputs": [
    {
     "data": {
      "text/html": [
       "<div>\n",
       "<style scoped>\n",
       "    .dataframe tbody tr th:only-of-type {\n",
       "        vertical-align: middle;\n",
       "    }\n",
       "\n",
       "    .dataframe tbody tr th {\n",
       "        vertical-align: top;\n",
       "    }\n",
       "\n",
       "    .dataframe thead th {\n",
       "        text-align: right;\n",
       "    }\n",
       "</style>\n",
       "<table border=\"1\" class=\"dataframe\">\n",
       "  <thead>\n",
       "    <tr style=\"text-align: right;\">\n",
       "      <th></th>\n",
       "      <th>Name</th>\n",
       "      <th>Description</th>\n",
       "      <th>geometry</th>\n",
       "    </tr>\n",
       "  </thead>\n",
       "  <tbody>\n",
       "    <tr>\n",
       "      <th>0</th>\n",
       "      <td>Autonomous Region in Muslim Mindanao</td>\n",
       "      <td></td>\n",
       "      <td>MULTIPOLYGON (((119.46690 4.58718, 119.46653 4...</td>\n",
       "    </tr>\n",
       "    <tr>\n",
       "      <th>1</th>\n",
       "      <td>Bicol Region</td>\n",
       "      <td></td>\n",
       "      <td>MULTIPOLYGON (((124.04577 11.57862, 124.04594 ...</td>\n",
       "    </tr>\n",
       "    <tr>\n",
       "      <th>2</th>\n",
       "      <td>Cagayan Valley</td>\n",
       "      <td></td>\n",
       "      <td>MULTIPOLYGON (((122.51581 17.04436, 122.51568 ...</td>\n",
       "    </tr>\n",
       "    <tr>\n",
       "      <th>3</th>\n",
       "      <td>Calabarzon</td>\n",
       "      <td></td>\n",
       "      <td>MULTIPOLYGON (((120.49202 14.05403, 120.49201 ...</td>\n",
       "    </tr>\n",
       "    <tr>\n",
       "      <th>4</th>\n",
       "      <td>Caraga</td>\n",
       "      <td></td>\n",
       "      <td>MULTIPOLYGON (((126.45401 8.24400, 126.45407 8...</td>\n",
       "    </tr>\n",
       "  </tbody>\n",
       "</table>\n",
       "</div>"
      ],
      "text/plain": [
       "                                   Name Description  \\\n",
       "0  Autonomous Region in Muslim Mindanao               \n",
       "1                          Bicol Region               \n",
       "2                        Cagayan Valley               \n",
       "3                            Calabarzon               \n",
       "4                                Caraga               \n",
       "\n",
       "                                            geometry  \n",
       "0  MULTIPOLYGON (((119.46690 4.58718, 119.46653 4...  \n",
       "1  MULTIPOLYGON (((124.04577 11.57862, 124.04594 ...  \n",
       "2  MULTIPOLYGON (((122.51581 17.04436, 122.51568 ...  \n",
       "3  MULTIPOLYGON (((120.49202 14.05403, 120.49201 ...  \n",
       "4  MULTIPOLYGON (((126.45401 8.24400, 126.45407 8...  "
      ]
     },
     "execution_count": 9,
     "metadata": {},
     "output_type": "execute_result"
    }
   ],
   "source": [
    "# Load a KML file containing island boundaries\n",
    "gpd.io.file.fiona.drvsupport.supported_drivers['KML'] = 'rw'\n",
    "PHL = gpd.read_file(\"../input/geospatial-learn-course-data/Philippines_AL258.kml\", driver='KML')\n",
    "PHL.head()"
   ]
  },
  {
   "cell_type": "markdown",
   "id": "c576894b",
   "metadata": {
    "papermill": {
     "duration": 0.008781,
     "end_time": "2024-02-24T10:03:50.802608",
     "exception": false,
     "start_time": "2024-02-24T10:03:50.793827",
     "status": "completed"
    },
    "tags": []
   },
   "source": [
    "Use the `PHL` and `PHL_loans` GeoDataFrames to visualize loans in the Philippines."
   ]
  },
  {
   "cell_type": "code",
   "execution_count": 10,
   "id": "1f580606",
   "metadata": {
    "execution": {
     "iopub.execute_input": "2024-02-24T10:03:50.822526Z",
     "iopub.status.busy": "2024-02-24T10:03:50.822114Z",
     "iopub.status.idle": "2024-02-24T10:03:50.829016Z",
     "shell.execute_reply": "2024-02-24T10:03:50.827951Z"
    },
    "papermill": {
     "duration": 0.019851,
     "end_time": "2024-02-24T10:03:50.831493",
     "exception": false,
     "start_time": "2024-02-24T10:03:50.811642",
     "status": "completed"
    },
    "tags": []
   },
   "outputs": [
    {
     "data": {
      "text/markdown": [],
      "text/plain": [
       "<learntools.core.constants.PlaceholderValue at 0x7f6423bff9d0>"
      ]
     },
     "execution_count": 10,
     "metadata": {},
     "output_type": "execute_result"
    }
   ],
   "source": [
    "# Your code here\n",
    "____\n",
    "\n",
    "# Uncomment to see a hint\n",
    "#q_4.a.hint()"
   ]
  },
  {
   "cell_type": "code",
   "execution_count": 11,
   "id": "7ec74a6b",
   "metadata": {
    "execution": {
     "iopub.execute_input": "2024-02-24T10:03:50.853198Z",
     "iopub.status.busy": "2024-02-24T10:03:50.852288Z",
     "iopub.status.idle": "2024-02-24T10:03:50.860034Z",
     "shell.execute_reply": "2024-02-24T10:03:50.859305Z"
    },
    "papermill": {
     "duration": 0.021224,
     "end_time": "2024-02-24T10:03:50.862701",
     "exception": false,
     "start_time": "2024-02-24T10:03:50.841477",
     "status": "completed"
    },
    "tags": []
   },
   "outputs": [
    {
     "data": {
      "application/javascript": [
       "parent.postMessage({\"jupyterEvent\": \"custom.exercise_interaction\", \"data\": {\"outcomeType\": 1, \"valueTowardsCompletion\": 0.3333333333333333, \"interactionType\": 1, \"questionType\": 2, \"questionId\": \"4.1_Q4P\", \"learnToolsVersion\": \"0.3.4\", \"failureMessage\": \"\", \"exceptionClass\": \"\", \"trace\": \"\"}}, \"*\")"
      ],
      "text/plain": [
       "<IPython.core.display.Javascript object>"
      ]
     },
     "metadata": {},
     "output_type": "display_data"
    },
    {
     "data": {
      "text/markdown": [
       "<span style=\"color:#33cc33\">Thank you for creating a map!</span>"
      ],
      "text/plain": [
       "Thank you for creating a map!"
      ]
     },
     "metadata": {},
     "output_type": "display_data"
    }
   ],
   "source": [
    "# Get credit for your work after you have created a map\n",
    "q_4.a.check()\n",
    "\n",
    "# Uncomment to see our solution (your code may look different!)\n",
    "#q_4.a.solution()"
   ]
  },
  {
   "cell_type": "markdown",
   "id": "79e92723",
   "metadata": {
    "papermill": {
     "duration": 0.009506,
     "end_time": "2024-02-24T10:03:50.882003",
     "exception": false,
     "start_time": "2024-02-24T10:03:50.872497",
     "status": "completed"
    },
    "tags": []
   },
   "source": [
    "Can you identify any islands where it might be useful to recruit new Field Partners?  Do any islands currently look outside of Kiva's reach?\n",
    "\n",
    "You might find [this map](https://bit.ly/2U2G7x7) useful to answer the question."
   ]
  },
  {
   "cell_type": "code",
   "execution_count": 12,
   "id": "33fbab89",
   "metadata": {
    "execution": {
     "iopub.execute_input": "2024-02-24T10:03:50.903667Z",
     "iopub.status.busy": "2024-02-24T10:03:50.903285Z",
     "iopub.status.idle": "2024-02-24T10:03:50.912359Z",
     "shell.execute_reply": "2024-02-24T10:03:50.911117Z"
    },
    "papermill": {
     "duration": 0.022761,
     "end_time": "2024-02-24T10:03:50.914702",
     "exception": false,
     "start_time": "2024-02-24T10:03:50.891941",
     "status": "completed"
    },
    "tags": []
   },
   "outputs": [
    {
     "data": {
      "application/javascript": [
       "parent.postMessage({\"jupyterEvent\": \"custom.exercise_interaction\", \"data\": {\"interactionType\": 3, \"questionType\": 4, \"questionId\": \"4.2_Q4T\", \"learnToolsVersion\": \"0.3.4\", \"valueTowardsCompletion\": 0.0, \"failureMessage\": \"\", \"exceptionClass\": \"\", \"trace\": \"\", \"outcomeType\": 4}}, \"*\")"
      ],
      "text/plain": [
       "<IPython.core.display.Javascript object>"
      ]
     },
     "metadata": {},
     "output_type": "display_data"
    },
    {
     "data": {
      "text/markdown": [
       "<span style=\"color:#33cc99\">Solution:</span> There are a number of potential islands, but **Mindoro** (in the central part of the Philippines) stands out as a relatively large island without any loans in the current dataset.  This island is potentially a good location for recruiting new Field Partners!"
      ],
      "text/plain": [
       "Solution: There are a number of potential islands, but **Mindoro** (in the central part of the Philippines) stands out as a relatively large island without any loans in the current dataset.  This island is potentially a good location for recruiting new Field Partners!"
      ]
     },
     "metadata": {},
     "output_type": "display_data"
    }
   ],
   "source": [
    "# View the solution (Run this code cell to receive credit!)\n",
    "q_4.b.solution()"
   ]
  },
  {
   "cell_type": "markdown",
   "id": "927cb82f",
   "metadata": {
    "papermill": {
     "duration": 0.009943,
     "end_time": "2024-02-24T10:03:50.934836",
     "exception": false,
     "start_time": "2024-02-24T10:03:50.924893",
     "status": "completed"
    },
    "tags": []
   },
   "source": [
    "# Keep going\n",
    "\n",
    "Continue to learn about **[coordinate reference systems](https://www.kaggle.com/alexisbcook/coordinate-reference-systems)**."
   ]
  },
  {
   "cell_type": "markdown",
   "id": "18d33829",
   "metadata": {
    "papermill": {
     "duration": 0.009994,
     "end_time": "2024-02-24T10:03:50.955206",
     "exception": false,
     "start_time": "2024-02-24T10:03:50.945212",
     "status": "completed"
    },
    "tags": []
   },
   "source": [
    "---\n",
    "\n",
    "\n",
    "\n",
    "\n",
    "*Have questions or comments? Visit the [course discussion forum](https://www.kaggle.com/learn/geospatial-analysis/discussion) to chat with other learners.*"
   ]
  }
 ],
 "metadata": {
  "kaggle": {
   "accelerator": "none",
   "dataSources": [
    {
     "datasetId": 348259,
     "sourceId": 695175,
     "sourceType": "datasetVersion"
    },
    {
     "datasetId": 116573,
     "sourceId": 3551030,
     "sourceType": "datasetVersion"
    }
   ],
   "isGpuEnabled": false,
   "isInternetEnabled": false,
   "language": "python",
   "sourceType": "notebook"
  },
  "kernelspec": {
   "display_name": "Python 3",
   "language": "python",
   "name": "python3"
  },
  "language_info": {
   "codemirror_mode": {
    "name": "ipython",
    "version": 3
   },
   "file_extension": ".py",
   "mimetype": "text/x-python",
   "name": "python",
   "nbconvert_exporter": "python",
   "pygments_lexer": "ipython3",
   "version": "3.10.13"
  },
  "papermill": {
   "default_parameters": {},
   "duration": 18.040309,
   "end_time": "2024-02-24T10:03:51.788573",
   "environment_variables": {},
   "exception": null,
   "input_path": "__notebook__.ipynb",
   "output_path": "__notebook__.ipynb",
   "parameters": {},
   "start_time": "2024-02-24T10:03:33.748264",
   "version": "2.5.0"
  }
 },
 "nbformat": 4,
 "nbformat_minor": 5
}
