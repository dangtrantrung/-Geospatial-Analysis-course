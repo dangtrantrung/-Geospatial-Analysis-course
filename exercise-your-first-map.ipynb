{
 "cells": [
  {
   "cell_type": "markdown",
   "id": "7852ab9e",
   "metadata": {
    "papermill": {
     "duration": 0.006067,
     "end_time": "2024-03-14T02:11:05.400291",
     "exception": false,
     "start_time": "2024-03-14T02:11:05.394224",
     "status": "completed"
    },
    "tags": []
   },
   "source": [
    "**This notebook is an exercise in the [Geospatial Analysis](https://www.kaggle.com/learn/geospatial-analysis) course.  You can reference the tutorial at [this link](https://www.kaggle.com/alexisbcook/your-first-map).**\n",
    "\n",
    "---\n"
   ]
  },
  {
   "cell_type": "markdown",
   "id": "cb41a621",
   "metadata": {
    "papermill": {
     "duration": 0.004613,
     "end_time": "2024-03-14T02:11:05.410132",
     "exception": false,
     "start_time": "2024-03-14T02:11:05.405519",
     "status": "completed"
    },
    "tags": []
   },
   "source": [
    "# Introduction\n",
    "\n",
    "[Kiva.org](https://www.kiva.org/) is an online crowdfunding platform extending financial services to poor people around the world. Kiva lenders have provided over $1 billion dollars in loans to over 2 million people.\n",
    "\n",
    "<center>\n",
    "<img src=\"https://storage.googleapis.com/kaggle-media/learn/images/2G8C53X.png\" width=\"500\"><br/>\n",
    "</center>\n",
    "\n",
    "Kiva reaches some of the most remote places in the world through their global network of \"Field Partners\". These partners are local organizations working in communities to vet borrowers, provide services, and administer loans.\n",
    "\n",
    "In this exercise, you'll investigate Kiva loans in the Philippines.  Can you identify regions that might be outside of Kiva's current network, in order to identify opportunities for recruiting new Field Partners?\n",
    "\n",
    "To get started, run the code cell below to set up our feedback system."
   ]
  },
  {
   "cell_type": "code",
   "execution_count": 1,
   "id": "171438f7",
   "metadata": {
    "execution": {
     "iopub.execute_input": "2024-03-14T02:11:05.422691Z",
     "iopub.status.busy": "2024-03-14T02:11:05.421908Z",
     "iopub.status.idle": "2024-03-14T02:11:09.284896Z",
     "shell.execute_reply": "2024-03-14T02:11:09.284051Z"
    },
    "papermill": {
     "duration": 3.872258,
     "end_time": "2024-03-14T02:11:09.287067",
     "exception": false,
     "start_time": "2024-03-14T02:11:05.414809",
     "status": "completed"
    },
    "tags": []
   },
   "outputs": [
    {
     "name": "stderr",
     "output_type": "stream",
     "text": [
      "/opt/conda/lib/python3.10/site-packages/learntools/geospatial/ex1.py:22: FutureWarning: The geopandas.dataset module is deprecated and will be removed in GeoPandas 1.0. You can get the original 'naturalearth_lowres' data from https://www.naturalearthdata.com/downloads/110m-cultural-vectors/.\n",
      "  world = gpd.read_file(gpd.datasets.get_path('naturalearth_lowres'))\n"
     ]
    }
   ],
   "source": [
    "import geopandas as gpd\n",
    "\n",
    "from learntools.core import binder\n",
    "binder.bind(globals())\n",
    "from learntools.geospatial.ex1 import *"
   ]
  },
  {
   "cell_type": "markdown",
   "id": "3b442ec7",
   "metadata": {
    "papermill": {
     "duration": 0.004658,
     "end_time": "2024-03-14T02:11:09.297002",
     "exception": false,
     "start_time": "2024-03-14T02:11:09.292344",
     "status": "completed"
    },
    "tags": []
   },
   "source": [
    "### 1) Get the data.\n",
    "\n",
    "Use the next cell to load the shapefile located at `loans_filepath` to create a GeoDataFrame `world_loans`.  "
   ]
  },
  {
   "cell_type": "code",
   "execution_count": 2,
   "id": "001f67e1",
   "metadata": {
    "execution": {
     "iopub.execute_input": "2024-03-14T02:11:09.308243Z",
     "iopub.status.busy": "2024-03-14T02:11:09.307909Z",
     "iopub.status.idle": "2024-03-14T02:11:11.959817Z",
     "shell.execute_reply": "2024-03-14T02:11:11.958141Z"
    },
    "papermill": {
     "duration": 2.6612,
     "end_time": "2024-03-14T02:11:11.962958",
     "exception": false,
     "start_time": "2024-03-14T02:11:09.301758",
     "status": "completed"
    },
    "tags": []
   },
   "outputs": [
    {
     "data": {
      "application/javascript": [
       "parent.postMessage({\"jupyterEvent\": \"custom.exercise_interaction\", \"data\": {\"outcomeType\": 1, \"valueTowardsCompletion\": 0.3333333333333333, \"interactionType\": 1, \"questionType\": 2, \"questionId\": \"1_Q1\", \"learnToolsVersion\": \"0.3.4\", \"failureMessage\": \"\", \"exceptionClass\": \"\", \"trace\": \"\"}}, \"*\")"
      ],
      "text/plain": [
       "<IPython.core.display.Javascript object>"
      ]
     },
     "metadata": {},
     "output_type": "display_data"
    },
    {
     "data": {
      "text/markdown": [
       "<span style=\"color:#33cc33\">Correct</span>"
      ],
      "text/plain": [
       "Correct"
      ]
     },
     "metadata": {},
     "output_type": "display_data"
    },
    {
     "data": {
      "text/html": [
       "<div>\n",
       "<style scoped>\n",
       "    .dataframe tbody tr th:only-of-type {\n",
       "        vertical-align: middle;\n",
       "    }\n",
       "\n",
       "    .dataframe tbody tr th {\n",
       "        vertical-align: top;\n",
       "    }\n",
       "\n",
       "    .dataframe thead th {\n",
       "        text-align: right;\n",
       "    }\n",
       "</style>\n",
       "<table border=\"1\" class=\"dataframe\">\n",
       "  <thead>\n",
       "    <tr style=\"text-align: right;\">\n",
       "      <th></th>\n",
       "      <th>Partner ID</th>\n",
       "      <th>Field Part</th>\n",
       "      <th>sector</th>\n",
       "      <th>Loan Theme</th>\n",
       "      <th>country</th>\n",
       "      <th>amount</th>\n",
       "      <th>geometry</th>\n",
       "    </tr>\n",
       "  </thead>\n",
       "  <tbody>\n",
       "    <tr>\n",
       "      <th>0</th>\n",
       "      <td>9</td>\n",
       "      <td>KREDIT Microfinance Institution</td>\n",
       "      <td>General Financial Inclusion</td>\n",
       "      <td>Higher Education</td>\n",
       "      <td>Cambodia</td>\n",
       "      <td>450</td>\n",
       "      <td>POINT (102.89751 13.66726)</td>\n",
       "    </tr>\n",
       "    <tr>\n",
       "      <th>1</th>\n",
       "      <td>9</td>\n",
       "      <td>KREDIT Microfinance Institution</td>\n",
       "      <td>General Financial Inclusion</td>\n",
       "      <td>Vulnerable Populations</td>\n",
       "      <td>Cambodia</td>\n",
       "      <td>20275</td>\n",
       "      <td>POINT (102.98962 13.02870)</td>\n",
       "    </tr>\n",
       "    <tr>\n",
       "      <th>2</th>\n",
       "      <td>9</td>\n",
       "      <td>KREDIT Microfinance Institution</td>\n",
       "      <td>General Financial Inclusion</td>\n",
       "      <td>Higher Education</td>\n",
       "      <td>Cambodia</td>\n",
       "      <td>9150</td>\n",
       "      <td>POINT (102.98962 13.02870)</td>\n",
       "    </tr>\n",
       "    <tr>\n",
       "      <th>3</th>\n",
       "      <td>9</td>\n",
       "      <td>KREDIT Microfinance Institution</td>\n",
       "      <td>General Financial Inclusion</td>\n",
       "      <td>Vulnerable Populations</td>\n",
       "      <td>Cambodia</td>\n",
       "      <td>604950</td>\n",
       "      <td>POINT (105.31312 12.09829)</td>\n",
       "    </tr>\n",
       "    <tr>\n",
       "      <th>4</th>\n",
       "      <td>9</td>\n",
       "      <td>KREDIT Microfinance Institution</td>\n",
       "      <td>General Financial Inclusion</td>\n",
       "      <td>Sanitation</td>\n",
       "      <td>Cambodia</td>\n",
       "      <td>275</td>\n",
       "      <td>POINT (105.31312 12.09829)</td>\n",
       "    </tr>\n",
       "  </tbody>\n",
       "</table>\n",
       "</div>"
      ],
      "text/plain": [
       "   Partner ID                       Field Part                       sector  \\\n",
       "0           9  KREDIT Microfinance Institution  General Financial Inclusion   \n",
       "1           9  KREDIT Microfinance Institution  General Financial Inclusion   \n",
       "2           9  KREDIT Microfinance Institution  General Financial Inclusion   \n",
       "3           9  KREDIT Microfinance Institution  General Financial Inclusion   \n",
       "4           9  KREDIT Microfinance Institution  General Financial Inclusion   \n",
       "\n",
       "               Loan Theme   country  amount                    geometry  \n",
       "0        Higher Education  Cambodia     450  POINT (102.89751 13.66726)  \n",
       "1  Vulnerable Populations  Cambodia   20275  POINT (102.98962 13.02870)  \n",
       "2        Higher Education  Cambodia    9150  POINT (102.98962 13.02870)  \n",
       "3  Vulnerable Populations  Cambodia  604950  POINT (105.31312 12.09829)  \n",
       "4              Sanitation  Cambodia     275  POINT (105.31312 12.09829)  "
      ]
     },
     "execution_count": 2,
     "metadata": {},
     "output_type": "execute_result"
    }
   ],
   "source": [
    "loans_filepath = \"../input/geospatial-learn-course-data/kiva_loans/kiva_loans/kiva_loans.shp\"\n",
    "\n",
    "# Your code here: Load the data\n",
    "world_loans = gpd.read_file(loans_filepath)\n",
    "\n",
    "# Check your answer\n",
    "q_1.check()\n",
    "\n",
    "# Uncomment to view the first five rows of the data\n",
    "world_loans.head()"
   ]
  },
  {
   "cell_type": "code",
   "execution_count": 3,
   "id": "a8cacd20",
   "metadata": {
    "execution": {
     "iopub.execute_input": "2024-03-14T02:11:11.982325Z",
     "iopub.status.busy": "2024-03-14T02:11:11.981185Z",
     "iopub.status.idle": "2024-03-14T02:11:11.986140Z",
     "shell.execute_reply": "2024-03-14T02:11:11.985338Z"
    },
    "papermill": {
     "duration": 0.016499,
     "end_time": "2024-03-14T02:11:11.988436",
     "exception": false,
     "start_time": "2024-03-14T02:11:11.971937",
     "status": "completed"
    },
    "tags": []
   },
   "outputs": [],
   "source": [
    "# Lines below will give you a hint or solution code\n",
    "#q_1.hint()\n",
    "#q_1.solution()"
   ]
  },
  {
   "cell_type": "markdown",
   "id": "393e650f",
   "metadata": {
    "papermill": {
     "duration": 0.007468,
     "end_time": "2024-03-14T02:11:12.004291",
     "exception": false,
     "start_time": "2024-03-14T02:11:11.996823",
     "status": "completed"
    },
    "tags": []
   },
   "source": [
    "### 2) Plot the data.\n",
    "\n",
    "Run the next code cell without changes to load a GeoDataFrame `world` containing country boundaries."
   ]
  },
  {
   "cell_type": "code",
   "execution_count": 4,
   "id": "4e3f3848",
   "metadata": {
    "execution": {
     "iopub.execute_input": "2024-03-14T02:11:12.024188Z",
     "iopub.status.busy": "2024-03-14T02:11:12.022692Z",
     "iopub.status.idle": "2024-03-14T02:11:12.091834Z",
     "shell.execute_reply": "2024-03-14T02:11:12.090635Z"
    },
    "papermill": {
     "duration": 0.082691,
     "end_time": "2024-03-14T02:11:12.095431",
     "exception": false,
     "start_time": "2024-03-14T02:11:12.012740",
     "status": "completed"
    },
    "tags": []
   },
   "outputs": [
    {
     "name": "stderr",
     "output_type": "stream",
     "text": [
      "/tmp/ipykernel_18/3126548565.py:2: FutureWarning: The geopandas.dataset module is deprecated and will be removed in GeoPandas 1.0. You can get the original 'naturalearth_lowres' data from https://www.naturalearthdata.com/downloads/110m-cultural-vectors/.\n",
      "  world_filepath = gpd.datasets.get_path('naturalearth_lowres')\n"
     ]
    },
    {
     "data": {
      "text/html": [
       "<div>\n",
       "<style scoped>\n",
       "    .dataframe tbody tr th:only-of-type {\n",
       "        vertical-align: middle;\n",
       "    }\n",
       "\n",
       "    .dataframe tbody tr th {\n",
       "        vertical-align: top;\n",
       "    }\n",
       "\n",
       "    .dataframe thead th {\n",
       "        text-align: right;\n",
       "    }\n",
       "</style>\n",
       "<table border=\"1\" class=\"dataframe\">\n",
       "  <thead>\n",
       "    <tr style=\"text-align: right;\">\n",
       "      <th></th>\n",
       "      <th>pop_est</th>\n",
       "      <th>continent</th>\n",
       "      <th>name</th>\n",
       "      <th>iso_a3</th>\n",
       "      <th>gdp_md_est</th>\n",
       "      <th>geometry</th>\n",
       "    </tr>\n",
       "  </thead>\n",
       "  <tbody>\n",
       "    <tr>\n",
       "      <th>0</th>\n",
       "      <td>889953.0</td>\n",
       "      <td>Oceania</td>\n",
       "      <td>Fiji</td>\n",
       "      <td>FJI</td>\n",
       "      <td>5496</td>\n",
       "      <td>MULTIPOLYGON (((180.00000 -16.06713, 180.00000...</td>\n",
       "    </tr>\n",
       "    <tr>\n",
       "      <th>1</th>\n",
       "      <td>58005463.0</td>\n",
       "      <td>Africa</td>\n",
       "      <td>Tanzania</td>\n",
       "      <td>TZA</td>\n",
       "      <td>63177</td>\n",
       "      <td>POLYGON ((33.90371 -0.95000, 34.07262 -1.05982...</td>\n",
       "    </tr>\n",
       "    <tr>\n",
       "      <th>2</th>\n",
       "      <td>603253.0</td>\n",
       "      <td>Africa</td>\n",
       "      <td>W. Sahara</td>\n",
       "      <td>ESH</td>\n",
       "      <td>907</td>\n",
       "      <td>POLYGON ((-8.66559 27.65643, -8.66512 27.58948...</td>\n",
       "    </tr>\n",
       "    <tr>\n",
       "      <th>3</th>\n",
       "      <td>37589262.0</td>\n",
       "      <td>North America</td>\n",
       "      <td>Canada</td>\n",
       "      <td>CAN</td>\n",
       "      <td>1736425</td>\n",
       "      <td>MULTIPOLYGON (((-122.84000 49.00000, -122.9742...</td>\n",
       "    </tr>\n",
       "    <tr>\n",
       "      <th>4</th>\n",
       "      <td>328239523.0</td>\n",
       "      <td>North America</td>\n",
       "      <td>United States of America</td>\n",
       "      <td>USA</td>\n",
       "      <td>21433226</td>\n",
       "      <td>MULTIPOLYGON (((-122.84000 49.00000, -120.0000...</td>\n",
       "    </tr>\n",
       "  </tbody>\n",
       "</table>\n",
       "</div>"
      ],
      "text/plain": [
       "       pop_est      continent                      name iso_a3  gdp_md_est  \\\n",
       "0     889953.0        Oceania                      Fiji    FJI        5496   \n",
       "1   58005463.0         Africa                  Tanzania    TZA       63177   \n",
       "2     603253.0         Africa                 W. Sahara    ESH         907   \n",
       "3   37589262.0  North America                    Canada    CAN     1736425   \n",
       "4  328239523.0  North America  United States of America    USA    21433226   \n",
       "\n",
       "                                            geometry  \n",
       "0  MULTIPOLYGON (((180.00000 -16.06713, 180.00000...  \n",
       "1  POLYGON ((33.90371 -0.95000, 34.07262 -1.05982...  \n",
       "2  POLYGON ((-8.66559 27.65643, -8.66512 27.58948...  \n",
       "3  MULTIPOLYGON (((-122.84000 49.00000, -122.9742...  \n",
       "4  MULTIPOLYGON (((-122.84000 49.00000, -120.0000...  "
      ]
     },
     "execution_count": 4,
     "metadata": {},
     "output_type": "execute_result"
    }
   ],
   "source": [
    "# This dataset is provided in GeoPandas\n",
    "world_filepath = gpd.datasets.get_path('naturalearth_lowres')\n",
    "world = gpd.read_file(world_filepath)\n",
    "world.head()"
   ]
  },
  {
   "cell_type": "markdown",
   "id": "bc21f25e",
   "metadata": {
    "papermill": {
     "duration": 0.006389,
     "end_time": "2024-03-14T02:11:12.108574",
     "exception": false,
     "start_time": "2024-03-14T02:11:12.102185",
     "status": "completed"
    },
    "tags": []
   },
   "source": [
    "Use the `world` and `world_loans` GeoDataFrames to visualize Kiva loan locations across the world."
   ]
  },
  {
   "cell_type": "code",
   "execution_count": 5,
   "id": "bcbabf7a",
   "metadata": {
    "execution": {
     "iopub.execute_input": "2024-03-14T02:11:12.123703Z",
     "iopub.status.busy": "2024-03-14T02:11:12.123236Z",
     "iopub.status.idle": "2024-03-14T02:11:13.431696Z",
     "shell.execute_reply": "2024-03-14T02:11:13.430839Z"
    },
    "papermill": {
     "duration": 1.3183,
     "end_time": "2024-03-14T02:11:13.433945",
     "exception": false,
     "start_time": "2024-03-14T02:11:12.115645",
     "status": "completed"
    },
    "tags": []
   },
   "outputs": [
    {
     "data": {
      "text/plain": [
       "<Axes: >"
      ]
     },
     "execution_count": 5,
     "metadata": {},
     "output_type": "execute_result"
    },
    {
     "data": {
      "image/png": "[encoded data removed]",
      "text/plain": [
       "<Figure size 640x480 with 1 Axes>"
      ]
     },
     "metadata": {},
     "output_type": "display_data"
    },
    {
     "data": {
      "image/png": "[encoded data removed]",
      "text/plain": [
       "<Figure size 640x480 with 1 Axes>"
      ]
     },
     "metadata": {},
     "output_type": "display_data"
    }
   ],
   "source": [
    "# Your code here\n",
    "world.plot()\n",
    "world_loans.plot()\n",
    "\n",
    "# Uncomment to see a hint\n",
    "#q_2.hint()"
   ]
  },
  {
   "cell_type": "code",
   "execution_count": 6,
   "id": "effd740a",
   "metadata": {
    "execution": {
     "iopub.execute_input": "2024-03-14T02:11:13.449878Z",
     "iopub.status.busy": "2024-03-14T02:11:13.449443Z",
     "iopub.status.idle": "2024-03-14T02:11:13.460050Z",
     "shell.execute_reply": "2024-03-14T02:11:13.458822Z"
    },
    "papermill": {
     "duration": 0.021092,
     "end_time": "2024-03-14T02:11:13.462164",
     "exception": false,
     "start_time": "2024-03-14T02:11:13.441072",
     "status": "completed"
    },
    "tags": []
   },
   "outputs": [
    {
     "data": {
      "application/javascript": [
       "parent.postMessage({\"jupyterEvent\": \"custom.exercise_interaction\", \"data\": {\"outcomeType\": 1, \"valueTowardsCompletion\": 0.3333333333333333, \"interactionType\": 1, \"questionType\": 2, \"questionId\": \"2_Q2\", \"learnToolsVersion\": \"0.3.4\", \"failureMessage\": \"\", \"exceptionClass\": \"\", \"trace\": \"\"}}, \"*\")"
      ],
      "text/plain": [
       "<IPython.core.display.Javascript object>"
      ]
     },
     "metadata": {},
     "output_type": "display_data"
    },
    {
     "data": {
      "text/markdown": [
       "<span style=\"color:#33cc33\">Thank you for creating a map!</span>"
      ],
      "text/plain": [
       "Thank you for creating a map!"
      ]
     },
     "metadata": {},
     "output_type": "display_data"
    }
   ],
   "source": [
    "# Get credit for your work after you have created a map\n",
    "q_2.check()\n",
    "\n",
    "# Uncomment to see our solution (your code may look different!)\n",
    "#q_2.solution()"
   ]
  },
  {
   "cell_type": "code",
   "execution_count": 7,
   "id": "b0055d3f",
   "metadata": {
    "execution": {
     "iopub.execute_input": "2024-03-14T02:11:13.479050Z",
     "iopub.status.busy": "2024-03-14T02:11:13.478204Z",
     "iopub.status.idle": "2024-03-14T02:11:13.488482Z",
     "shell.execute_reply": "2024-03-14T02:11:13.487718Z"
    },
    "papermill": {
     "duration": 0.020242,
     "end_time": "2024-03-14T02:11:13.490073",
     "exception": false,
     "start_time": "2024-03-14T02:11:13.469831",
     "status": "completed"
    },
    "tags": []
   },
   "outputs": [
    {
     "data": {
      "text/plain": [
       "0    MULTIPOLYGON (((180.00000 -16.06713, 180.00000...\n",
       "1    POLYGON ((33.90371 -0.95000, 34.07262 -1.05982...\n",
       "2    POLYGON ((-8.66559 27.65643, -8.66512 27.58948...\n",
       "3    MULTIPOLYGON (((-122.84000 49.00000, -122.9742...\n",
       "4    MULTIPOLYGON (((-122.84000 49.00000, -120.0000...\n",
       "Name: geometry, dtype: geometry"
      ]
     },
     "execution_count": 7,
     "metadata": {},
     "output_type": "execute_result"
    }
   ],
   "source": [
    "world.geometry.head()\n"
   ]
  },
  {
   "cell_type": "code",
   "execution_count": 8,
   "id": "629070aa",
   "metadata": {
    "execution": {
     "iopub.execute_input": "2024-03-14T02:11:13.506549Z",
     "iopub.status.busy": "2024-03-14T02:11:13.506172Z",
     "iopub.status.idle": "2024-03-14T02:11:13.513936Z",
     "shell.execute_reply": "2024-03-14T02:11:13.513355Z"
    },
    "papermill": {
     "duration": 0.017436,
     "end_time": "2024-03-14T02:11:13.515501",
     "exception": false,
     "start_time": "2024-03-14T02:11:13.498065",
     "status": "completed"
    },
    "tags": []
   },
   "outputs": [
    {
     "data": {
      "text/plain": [
       "0    POINT (102.89751 13.66726)\n",
       "1    POINT (102.98962 13.02870)\n",
       "2    POINT (102.98962 13.02870)\n",
       "3    POINT (105.31312 12.09829)\n",
       "4    POINT (105.31312 12.09829)\n",
       "Name: geometry, dtype: geometry"
      ]
     },
     "execution_count": 8,
     "metadata": {},
     "output_type": "execute_result"
    }
   ],
   "source": [
    "world_loans.geometry.head()"
   ]
  },
  {
   "cell_type": "markdown",
   "id": "093e652b",
   "metadata": {
    "papermill": {
     "duration": 0.006687,
     "end_time": "2024-03-14T02:11:13.529484",
     "exception": false,
     "start_time": "2024-03-14T02:11:13.522797",
     "status": "completed"
    },
    "tags": []
   },
   "source": [
    "### 3) Select loans based in the Philippines.\n",
    "\n",
    "Next, you'll focus on loans that are based in the Philippines.  Use the next code cell to create a GeoDataFrame `PHL_loans` which contains all rows from `world_loans` with loans that are based in the Philippines."
   ]
  },
  {
   "cell_type": "code",
   "execution_count": 9,
   "id": "d73b8657",
   "metadata": {
    "execution": {
     "iopub.execute_input": "2024-03-14T02:11:13.545147Z",
     "iopub.status.busy": "2024-03-14T02:11:13.544809Z",
     "iopub.status.idle": "2024-03-14T02:11:13.556699Z",
     "shell.execute_reply": "2024-03-14T02:11:13.555938Z"
    },
    "papermill": {
     "duration": 0.021815,
     "end_time": "2024-03-14T02:11:13.558195",
     "exception": false,
     "start_time": "2024-03-14T02:11:13.536380",
     "status": "completed"
    },
    "tags": []
   },
   "outputs": [
    {
     "data": {
      "text/html": [
       "<div>\n",
       "<style scoped>\n",
       "    .dataframe tbody tr th:only-of-type {\n",
       "        vertical-align: middle;\n",
       "    }\n",
       "\n",
       "    .dataframe tbody tr th {\n",
       "        vertical-align: top;\n",
       "    }\n",
       "\n",
       "    .dataframe thead th {\n",
       "        text-align: right;\n",
       "    }\n",
       "</style>\n",
       "<table border=\"1\" class=\"dataframe\">\n",
       "  <thead>\n",
       "    <tr style=\"text-align: right;\">\n",
       "      <th></th>\n",
       "      <th>Partner ID</th>\n",
       "      <th>Field Part</th>\n",
       "      <th>sector</th>\n",
       "      <th>Loan Theme</th>\n",
       "      <th>country</th>\n",
       "      <th>amount</th>\n",
       "      <th>geometry</th>\n",
       "    </tr>\n",
       "  </thead>\n",
       "  <tbody>\n",
       "    <tr>\n",
       "      <th>0</th>\n",
       "      <td>9</td>\n",
       "      <td>KREDIT Microfinance Institution</td>\n",
       "      <td>General Financial Inclusion</td>\n",
       "      <td>Higher Education</td>\n",
       "      <td>Cambodia</td>\n",
       "      <td>450</td>\n",
       "      <td>POINT (102.89751 13.66726)</td>\n",
       "    </tr>\n",
       "    <tr>\n",
       "      <th>1</th>\n",
       "      <td>9</td>\n",
       "      <td>KREDIT Microfinance Institution</td>\n",
       "      <td>General Financial Inclusion</td>\n",
       "      <td>Vulnerable Populations</td>\n",
       "      <td>Cambodia</td>\n",
       "      <td>20275</td>\n",
       "      <td>POINT (102.98962 13.02870)</td>\n",
       "    </tr>\n",
       "    <tr>\n",
       "      <th>2</th>\n",
       "      <td>9</td>\n",
       "      <td>KREDIT Microfinance Institution</td>\n",
       "      <td>General Financial Inclusion</td>\n",
       "      <td>Higher Education</td>\n",
       "      <td>Cambodia</td>\n",
       "      <td>9150</td>\n",
       "      <td>POINT (102.98962 13.02870)</td>\n",
       "    </tr>\n",
       "    <tr>\n",
       "      <th>3</th>\n",
       "      <td>9</td>\n",
       "      <td>KREDIT Microfinance Institution</td>\n",
       "      <td>General Financial Inclusion</td>\n",
       "      <td>Vulnerable Populations</td>\n",
       "      <td>Cambodia</td>\n",
       "      <td>604950</td>\n",
       "      <td>POINT (105.31312 12.09829)</td>\n",
       "    </tr>\n",
       "    <tr>\n",
       "      <th>4</th>\n",
       "      <td>9</td>\n",
       "      <td>KREDIT Microfinance Institution</td>\n",
       "      <td>General Financial Inclusion</td>\n",
       "      <td>Sanitation</td>\n",
       "      <td>Cambodia</td>\n",
       "      <td>275</td>\n",
       "      <td>POINT (105.31312 12.09829)</td>\n",
       "    </tr>\n",
       "  </tbody>\n",
       "</table>\n",
       "</div>"
      ],
      "text/plain": [
       "   Partner ID                       Field Part                       sector  \\\n",
       "0           9  KREDIT Microfinance Institution  General Financial Inclusion   \n",
       "1           9  KREDIT Microfinance Institution  General Financial Inclusion   \n",
       "2           9  KREDIT Microfinance Institution  General Financial Inclusion   \n",
       "3           9  KREDIT Microfinance Institution  General Financial Inclusion   \n",
       "4           9  KREDIT Microfinance Institution  General Financial Inclusion   \n",
       "\n",
       "               Loan Theme   country  amount                    geometry  \n",
       "0        Higher Education  Cambodia     450  POINT (102.89751 13.66726)  \n",
       "1  Vulnerable Populations  Cambodia   20275  POINT (102.98962 13.02870)  \n",
       "2        Higher Education  Cambodia    9150  POINT (102.98962 13.02870)  \n",
       "3  Vulnerable Populations  Cambodia  604950  POINT (105.31312 12.09829)  \n",
       "4              Sanitation  Cambodia     275  POINT (105.31312 12.09829)  "
      ]
     },
     "execution_count": 9,
     "metadata": {},
     "output_type": "execute_result"
    }
   ],
   "source": [
    "world_loans.head()"
   ]
  },
  {
   "cell_type": "code",
   "execution_count": 10,
   "id": "a9409a9c",
   "metadata": {
    "execution": {
     "iopub.execute_input": "2024-03-14T02:11:13.574285Z",
     "iopub.status.busy": "2024-03-14T02:11:13.574018Z",
     "iopub.status.idle": "2024-03-14T02:11:13.691203Z",
     "shell.execute_reply": "2024-03-14T02:11:13.690410Z"
    },
    "papermill": {
     "duration": 0.12818,
     "end_time": "2024-03-14T02:11:13.693756",
     "exception": false,
     "start_time": "2024-03-14T02:11:13.565576",
     "status": "completed"
    },
    "tags": []
   },
   "outputs": [
    {
     "data": {
      "application/javascript": [
       "parent.postMessage({\"jupyterEvent\": \"custom.exercise_interaction\", \"data\": {\"outcomeType\": 1, \"valueTowardsCompletion\": 0.3333333333333333, \"interactionType\": 1, \"questionType\": 2, \"questionId\": \"3_Q3\", \"learnToolsVersion\": \"0.3.4\", \"failureMessage\": \"\", \"exceptionClass\": \"\", \"trace\": \"\"}}, \"*\")"
      ],
      "text/plain": [
       "<IPython.core.display.Javascript object>"
      ]
     },
     "metadata": {},
     "output_type": "display_data"
    },
    {
     "data": {
      "text/markdown": [
       "<span style=\"color:#33cc33\">Correct</span>"
      ],
      "text/plain": [
       "Correct"
      ]
     },
     "metadata": {},
     "output_type": "display_data"
    }
   ],
   "source": [
    "# Your code here\n",
    "PHL_loans = world_loans.loc[world_loans.country.isin(['Philippines'])].copy()\n",
    "PHL_loans.head()\n",
    "\n",
    "# Check your answer\n",
    "q_3.check()"
   ]
  },
  {
   "cell_type": "code",
   "execution_count": 11,
   "id": "6e4167dd",
   "metadata": {
    "execution": {
     "iopub.execute_input": "2024-03-14T02:11:13.711917Z",
     "iopub.status.busy": "2024-03-14T02:11:13.711523Z",
     "iopub.status.idle": "2024-03-14T02:11:13.727734Z",
     "shell.execute_reply": "2024-03-14T02:11:13.726401Z"
    },
    "papermill": {
     "duration": 0.027589,
     "end_time": "2024-03-14T02:11:13.729494",
     "exception": false,
     "start_time": "2024-03-14T02:11:13.701905",
     "status": "completed"
    },
    "tags": []
   },
   "outputs": [
    {
     "data": {
      "text/html": [
       "<div>\n",
       "<style scoped>\n",
       "    .dataframe tbody tr th:only-of-type {\n",
       "        vertical-align: middle;\n",
       "    }\n",
       "\n",
       "    .dataframe tbody tr th {\n",
       "        vertical-align: top;\n",
       "    }\n",
       "\n",
       "    .dataframe thead th {\n",
       "        text-align: right;\n",
       "    }\n",
       "</style>\n",
       "<table border=\"1\" class=\"dataframe\">\n",
       "  <thead>\n",
       "    <tr style=\"text-align: right;\">\n",
       "      <th></th>\n",
       "      <th>Partner ID</th>\n",
       "      <th>Field Part</th>\n",
       "      <th>sector</th>\n",
       "      <th>Loan Theme</th>\n",
       "      <th>country</th>\n",
       "      <th>amount</th>\n",
       "      <th>geometry</th>\n",
       "    </tr>\n",
       "  </thead>\n",
       "  <tbody>\n",
       "    <tr>\n",
       "      <th>2859</th>\n",
       "      <td>123</td>\n",
       "      <td>Alalay sa Kaunlaran (ASKI)</td>\n",
       "      <td>General Financial Inclusion</td>\n",
       "      <td>General</td>\n",
       "      <td>Philippines</td>\n",
       "      <td>400</td>\n",
       "      <td>POINT (121.73961 17.64228)</td>\n",
       "    </tr>\n",
       "    <tr>\n",
       "      <th>2860</th>\n",
       "      <td>123</td>\n",
       "      <td>Alalay sa Kaunlaran (ASKI)</td>\n",
       "      <td>General Financial Inclusion</td>\n",
       "      <td>General</td>\n",
       "      <td>Philippines</td>\n",
       "      <td>400</td>\n",
       "      <td>POINT (121.74169 17.63235)</td>\n",
       "    </tr>\n",
       "    <tr>\n",
       "      <th>2861</th>\n",
       "      <td>123</td>\n",
       "      <td>Alalay sa Kaunlaran (ASKI)</td>\n",
       "      <td>General Financial Inclusion</td>\n",
       "      <td>General</td>\n",
       "      <td>Philippines</td>\n",
       "      <td>400</td>\n",
       "      <td>POINT (121.46667 16.60000)</td>\n",
       "    </tr>\n",
       "    <tr>\n",
       "      <th>2862</th>\n",
       "      <td>123</td>\n",
       "      <td>Alalay sa Kaunlaran (ASKI)</td>\n",
       "      <td>General Financial Inclusion</td>\n",
       "      <td>General</td>\n",
       "      <td>Philippines</td>\n",
       "      <td>6050</td>\n",
       "      <td>POINT (121.73333 17.83333)</td>\n",
       "    </tr>\n",
       "    <tr>\n",
       "      <th>2863</th>\n",
       "      <td>123</td>\n",
       "      <td>Alalay sa Kaunlaran (ASKI)</td>\n",
       "      <td>General Financial Inclusion</td>\n",
       "      <td>General</td>\n",
       "      <td>Philippines</td>\n",
       "      <td>625</td>\n",
       "      <td>POINT (121.51800 16.72368)</td>\n",
       "    </tr>\n",
       "  </tbody>\n",
       "</table>\n",
       "</div>"
      ],
      "text/plain": [
       "      Partner ID                  Field Part                       sector  \\\n",
       "2859         123  Alalay sa Kaunlaran (ASKI)  General Financial Inclusion   \n",
       "2860         123  Alalay sa Kaunlaran (ASKI)  General Financial Inclusion   \n",
       "2861         123  Alalay sa Kaunlaran (ASKI)  General Financial Inclusion   \n",
       "2862         123  Alalay sa Kaunlaran (ASKI)  General Financial Inclusion   \n",
       "2863         123  Alalay sa Kaunlaran (ASKI)  General Financial Inclusion   \n",
       "\n",
       "     Loan Theme      country  amount                    geometry  \n",
       "2859    General  Philippines     400  POINT (121.73961 17.64228)  \n",
       "2860    General  Philippines     400  POINT (121.74169 17.63235)  \n",
       "2861    General  Philippines     400  POINT (121.46667 16.60000)  \n",
       "2862    General  Philippines    6050  POINT (121.73333 17.83333)  \n",
       "2863    General  Philippines     625  POINT (121.51800 16.72368)  "
      ]
     },
     "execution_count": 11,
     "metadata": {},
     "output_type": "execute_result"
    }
   ],
   "source": [
    "PHL_loans.head()"
   ]
  },
  {
   "cell_type": "code",
   "execution_count": 12,
   "id": "6c20161e",
   "metadata": {
    "execution": {
     "iopub.execute_input": "2024-03-14T02:11:13.746978Z",
     "iopub.status.busy": "2024-03-14T02:11:13.746621Z",
     "iopub.status.idle": "2024-03-14T02:11:13.750205Z",
     "shell.execute_reply": "2024-03-14T02:11:13.749507Z"
    },
    "papermill": {
     "duration": 0.01424,
     "end_time": "2024-03-14T02:11:13.751857",
     "exception": false,
     "start_time": "2024-03-14T02:11:13.737617",
     "status": "completed"
    },
    "tags": []
   },
   "outputs": [],
   "source": [
    "# Lines below will give you a hint or solution code\n",
    "#q_3.hint()\n",
    "#q_3.solution()"
   ]
  },
  {
   "cell_type": "markdown",
   "id": "8c138e09",
   "metadata": {
    "papermill": {
     "duration": 0.008151,
     "end_time": "2024-03-14T02:11:13.769289",
     "exception": false,
     "start_time": "2024-03-14T02:11:13.761138",
     "status": "completed"
    },
    "tags": []
   },
   "source": [
    "### 4) Understand loans in the Philippines.\n",
    "\n",
    "Run the next code cell without changes to load a GeoDataFrame `PHL` containing boundaries for all islands in the Philippines."
   ]
  },
  {
   "cell_type": "code",
   "execution_count": 13,
   "id": "823880d1",
   "metadata": {
    "execution": {
     "iopub.execute_input": "2024-03-14T02:11:13.788134Z",
     "iopub.status.busy": "2024-03-14T02:11:13.787734Z",
     "iopub.status.idle": "2024-03-14T02:11:16.746184Z",
     "shell.execute_reply": "2024-03-14T02:11:16.745322Z"
    },
    "papermill": {
     "duration": 2.970136,
     "end_time": "2024-03-14T02:11:16.747877",
     "exception": false,
     "start_time": "2024-03-14T02:11:13.777741",
     "status": "completed"
    },
    "tags": []
   },
   "outputs": [
    {
     "data": {
      "text/html": [
       "<div>\n",
       "<style scoped>\n",
       "    .dataframe tbody tr th:only-of-type {\n",
       "        vertical-align: middle;\n",
       "    }\n",
       "\n",
       "    .dataframe tbody tr th {\n",
       "        vertical-align: top;\n",
       "    }\n",
       "\n",
       "    .dataframe thead th {\n",
       "        text-align: right;\n",
       "    }\n",
       "</style>\n",
       "<table border=\"1\" class=\"dataframe\">\n",
       "  <thead>\n",
       "    <tr style=\"text-align: right;\">\n",
       "      <th></th>\n",
       "      <th>Name</th>\n",
       "      <th>Description</th>\n",
       "      <th>geometry</th>\n",
       "    </tr>\n",
       "  </thead>\n",
       "  <tbody>\n",
       "    <tr>\n",
       "      <th>0</th>\n",
       "      <td>Autonomous Region in Muslim Mindanao</td>\n",
       "      <td></td>\n",
       "      <td>MULTIPOLYGON (((119.46690 4.58718, 119.46653 4...</td>\n",
       "    </tr>\n",
       "    <tr>\n",
       "      <th>1</th>\n",
       "      <td>Bicol Region</td>\n",
       "      <td></td>\n",
       "      <td>MULTIPOLYGON (((124.04577 11.57862, 124.04594 ...</td>\n",
       "    </tr>\n",
       "    <tr>\n",
       "      <th>2</th>\n",
       "      <td>Cagayan Valley</td>\n",
       "      <td></td>\n",
       "      <td>MULTIPOLYGON (((122.51581 17.04436, 122.51568 ...</td>\n",
       "    </tr>\n",
       "    <tr>\n",
       "      <th>3</th>\n",
       "      <td>Calabarzon</td>\n",
       "      <td></td>\n",
       "      <td>MULTIPOLYGON (((120.49202 14.05403, 120.49201 ...</td>\n",
       "    </tr>\n",
       "    <tr>\n",
       "      <th>4</th>\n",
       "      <td>Caraga</td>\n",
       "      <td></td>\n",
       "      <td>MULTIPOLYGON (((126.45401 8.24400, 126.45407 8...</td>\n",
       "    </tr>\n",
       "  </tbody>\n",
       "</table>\n",
       "</div>"
      ],
      "text/plain": [
       "                                   Name Description  \\\n",
       "0  Autonomous Region in Muslim Mindanao               \n",
       "1                          Bicol Region               \n",
       "2                        Cagayan Valley               \n",
       "3                            Calabarzon               \n",
       "4                                Caraga               \n",
       "\n",
       "                                            geometry  \n",
       "0  MULTIPOLYGON (((119.46690 4.58718, 119.46653 4...  \n",
       "1  MULTIPOLYGON (((124.04577 11.57862, 124.04594 ...  \n",
       "2  MULTIPOLYGON (((122.51581 17.04436, 122.51568 ...  \n",
       "3  MULTIPOLYGON (((120.49202 14.05403, 120.49201 ...  \n",
       "4  MULTIPOLYGON (((126.45401 8.24400, 126.45407 8...  "
      ]
     },
     "execution_count": 13,
     "metadata": {},
     "output_type": "execute_result"
    }
   ],
   "source": [
    "# Load a KML file containing island boundaries\n",
    "gpd.io.file.fiona.drvsupport.supported_drivers['KML'] = 'rw'\n",
    "PHL = gpd.read_file(\"../input/geospatial-learn-course-data/Philippines_AL258.kml\", driver='KML')\n",
    "PHL.head()"
   ]
  },
  {
   "cell_type": "markdown",
   "id": "8ad5b50f",
   "metadata": {
    "papermill": {
     "duration": 0.007832,
     "end_time": "2024-03-14T02:11:16.763925",
     "exception": false,
     "start_time": "2024-03-14T02:11:16.756093",
     "status": "completed"
    },
    "tags": []
   },
   "source": [
    "Use the `PHL` and `PHL_loans` GeoDataFrames to visualize loans in the Philippines."
   ]
  },
  {
   "cell_type": "code",
   "execution_count": 14,
   "id": "81eb8d97",
   "metadata": {
    "execution": {
     "iopub.execute_input": "2024-03-14T02:11:16.781881Z",
     "iopub.status.busy": "2024-03-14T02:11:16.781436Z",
     "iopub.status.idle": "2024-03-14T02:11:18.491257Z",
     "shell.execute_reply": "2024-03-14T02:11:18.490448Z"
    },
    "papermill": {
     "duration": 1.721362,
     "end_time": "2024-03-14T02:11:18.493428",
     "exception": false,
     "start_time": "2024-03-14T02:11:16.772066",
     "status": "completed"
    },
    "tags": []
   },
   "outputs": [
    {
     "data": {
      "text/plain": [
       "<Axes: >"
      ]
     },
     "execution_count": 14,
     "metadata": {},
     "output_type": "execute_result"
    },
    {
     "data": {
      "image/png": "[encoded data removed]",
      "text/plain": [
       "<Figure size 640x480 with 1 Axes>"
      ]
     },
     "metadata": {},
     "output_type": "display_data"
    },
    {
     "data": {
      "image/png": "[encoded data removed]",
      "text/plain": [
       "<Figure size 640x480 with 1 Axes>"
      ]
     },
     "metadata": {},
     "output_type": "display_data"
    }
   ],
   "source": [
    "# Your code here\n",
    "PHL.plot()\n",
    "PHL_loans.plot()\n",
    "# Uncomment to see a hint\n",
    "#q_4.a.hint()"
   ]
  },
  {
   "cell_type": "code",
   "execution_count": 15,
   "id": "310665be",
   "metadata": {
    "execution": {
     "iopub.execute_input": "2024-03-14T02:11:18.515037Z",
     "iopub.status.busy": "2024-03-14T02:11:18.514049Z",
     "iopub.status.idle": "2024-03-14T02:11:18.521013Z",
     "shell.execute_reply": "2024-03-14T02:11:18.520415Z"
    },
    "papermill": {
     "duration": 0.020927,
     "end_time": "2024-03-14T02:11:18.523892",
     "exception": false,
     "start_time": "2024-03-14T02:11:18.502965",
     "status": "completed"
    },
    "tags": []
   },
   "outputs": [
    {
     "data": {
      "application/javascript": [
       "parent.postMessage({\"jupyterEvent\": \"custom.exercise_interaction\", \"data\": {\"outcomeType\": 1, \"valueTowardsCompletion\": 0.3333333333333333, \"interactionType\": 1, \"questionType\": 2, \"questionId\": \"4.1_Q4P\", \"learnToolsVersion\": \"0.3.4\", \"failureMessage\": \"\", \"exceptionClass\": \"\", \"trace\": \"\"}}, \"*\")"
      ],
      "text/plain": [
       "<IPython.core.display.Javascript object>"
      ]
     },
     "metadata": {},
     "output_type": "display_data"
    },
    {
     "data": {
      "text/markdown": [
       "<span style=\"color:#33cc33\">Thank you for creating a map!</span>"
      ],
      "text/plain": [
       "Thank you for creating a map!"
      ]
     },
     "metadata": {},
     "output_type": "display_data"
    }
   ],
   "source": [
    "# Get credit for your work after you have created a map\n",
    "q_4.a.check()\n",
    "\n",
    "# Uncomment to see our solution (your code may look different!)\n",
    "#q_4.a.solution()"
   ]
  },
  {
   "cell_type": "markdown",
   "id": "29c5d61e",
   "metadata": {
    "papermill": {
     "duration": 0.00908,
     "end_time": "2024-03-14T02:11:18.542584",
     "exception": false,
     "start_time": "2024-03-14T02:11:18.533504",
     "status": "completed"
    },
    "tags": []
   },
   "source": [
    "Can you identify any islands where it might be useful to recruit new Field Partners?  Do any islands currently look outside of Kiva's reach?\n",
    "\n",
    "You might find [this map](https://bit.ly/2U2G7x7) useful to answer the question."
   ]
  },
  {
   "cell_type": "code",
   "execution_count": 16,
   "id": "ca877bbf",
   "metadata": {
    "execution": {
     "iopub.execute_input": "2024-03-14T02:11:18.563560Z",
     "iopub.status.busy": "2024-03-14T02:11:18.562642Z",
     "iopub.status.idle": "2024-03-14T02:11:18.569076Z",
     "shell.execute_reply": "2024-03-14T02:11:18.568489Z"
    },
    "papermill": {
     "duration": 0.018521,
     "end_time": "2024-03-14T02:11:18.570624",
     "exception": false,
     "start_time": "2024-03-14T02:11:18.552103",
     "status": "completed"
    },
    "tags": []
   },
   "outputs": [
    {
     "data": {
      "application/javascript": [
       "parent.postMessage({\"jupyterEvent\": \"custom.exercise_interaction\", \"data\": {\"interactionType\": 3, \"questionType\": 4, \"questionId\": \"4.2_Q4T\", \"learnToolsVersion\": \"0.3.4\", \"valueTowardsCompletion\": 0.0, \"failureMessage\": \"\", \"exceptionClass\": \"\", \"trace\": \"\", \"outcomeType\": 4}}, \"*\")"
      ],
      "text/plain": [
       "<IPython.core.display.Javascript object>"
      ]
     },
     "metadata": {},
     "output_type": "display_data"
    },
    {
     "data": {
      "text/markdown": [
       "<span style=\"color:#33cc99\">Solution:</span> There are a number of potential islands, but **Mindoro** (in the central part of the Philippines) stands out as a relatively large island without any loans in the current dataset.  This island is potentially a good location for recruiting new Field Partners!"
      ],
      "text/plain": [
       "Solution: There are a number of potential islands, but **Mindoro** (in the central part of the Philippines) stands out as a relatively large island without any loans in the current dataset.  This island is potentially a good location for recruiting new Field Partners!"
      ]
     },
     "metadata": {},
     "output_type": "display_data"
    }
   ],
   "source": [
    "# View the solution (Run this code cell to receive credit!)\n",
    "q_4.b.solution()"
   ]
  },
  {
   "cell_type": "markdown",
   "id": "0788208b",
   "metadata": {
    "papermill": {
     "duration": 0.009004,
     "end_time": "2024-03-14T02:11:18.589351",
     "exception": false,
     "start_time": "2024-03-14T02:11:18.580347",
     "status": "completed"
    },
    "tags": []
   },
   "source": [
    "# Keep going\n",
    "\n",
    "Continue to learn about **[coordinate reference systems](https://www.kaggle.com/alexisbcook/coordinate-reference-systems)**."
   ]
  },
  {
   "cell_type": "markdown",
   "id": "300646e3",
   "metadata": {
    "papermill": {
     "duration": 0.008663,
     "end_time": "2024-03-14T02:11:18.607331",
     "exception": false,
     "start_time": "2024-03-14T02:11:18.598668",
     "status": "completed"
    },
    "tags": []
   },
   "source": [
    "---\n",
    "\n",
    "\n",
    "\n",
    "\n",
    "*Have questions or comments? Visit the [course discussion forum](https://www.kaggle.com/learn/geospatial-analysis/discussion) to chat with other learners.*"
   ]
  }
 ],
 "metadata": {
  "kaggle": {
   "accelerator": "none",
   "dataSources": [
    {
     "datasetId": 348259,
     "sourceId": 695175,
     "sourceType": "datasetVersion"
    },
    {
     "datasetId": 116573,
     "sourceId": 3551030,
     "sourceType": "datasetVersion"
    }
   ],
   "isGpuEnabled": false,
   "isInternetEnabled": false,
   "language": "python",
   "sourceType": "notebook"
  },
  "kernelspec": {
   "display_name": "Python 3",
   "language": "python",
   "name": "python3"
  },
  "language_info": {
   "codemirror_mode": {
    "name": "ipython",
    "version": 3
   },
   "file_extension": ".py",
   "mimetype": "text/x-python",
   "name": "python",
   "nbconvert_exporter": "python",
   "pygments_lexer": "ipython3",
   "version": "3.10.13"
  },
  "papermill": {
   "default_parameters": {},
   "duration": 16.539451,
   "end_time": "2024-03-14T02:11:19.537864",
   "environment_variables": {},
   "exception": null,
   "input_path": "__notebook__.ipynb",
   "output_path": "__notebook__.ipynb",
   "parameters": {},
   "start_time": "2024-03-14T02:11:02.998413",
   "version": "2.5.0"
  }
 },
 "nbformat": 4,
 "nbformat_minor": 5
}
