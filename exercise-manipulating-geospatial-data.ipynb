{
 "cells": [
  {
   "cell_type": "markdown",
   "id": "6cdd3a9e",
   "metadata": {
    "papermill": {
     "duration": 0.006861,
     "end_time": "2024-03-15T03:36:13.802315",
     "exception": false,
     "start_time": "2024-03-15T03:36:13.795454",
     "status": "completed"
    },
    "tags": []
   },
   "source": [
    "**This notebook is an exercise in the [Geospatial Analysis](https://www.kaggle.com/learn/geospatial-analysis) course.  You can reference the tutorial at [this link](https://www.kaggle.com/alexisbcook/manipulating-geospatial-data).**\n",
    "\n",
    "---\n"
   ]
  },
  {
   "cell_type": "markdown",
   "id": "1005aca8",
   "metadata": {
    "papermill": {
     "duration": 0.006061,
     "end_time": "2024-03-15T03:36:13.814670",
     "exception": false,
     "start_time": "2024-03-15T03:36:13.808609",
     "status": "completed"
    },
    "tags": []
   },
   "source": [
    "# Introduction\n",
    "\n",
    "You are a Starbucks big data analyst ([that’s a real job!](https://www.forbes.com/sites/bernardmarr/2018/05/28/starbucks-using-big-data-analytics-and-artificial-intelligence-to-boost-performance/#130c7d765cdc)) looking to find the next store into a [Starbucks Reserve Roastery](https://www.businessinsider.com/starbucks-reserve-roastery-compared-regular-starbucks-2018-12#also-on-the-first-floor-was-the-main-coffee-bar-five-hourglass-like-units-hold-the-freshly-roasted-coffee-beans-that-are-used-in-each-order-the-selection-rotates-seasonally-5).  These roasteries are much larger than a typical Starbucks store and have several additional features, including various food and wine options, along with upscale lounge areas.  You'll investigate the demographics of various counties in the state of California, to determine potentially suitable locations.\n",
    "\n",
    "<center>\n",
    "<img src=\"https://storage.googleapis.com/kaggle-media/learn/images/BIyE6kR.png\" width=\"450\"><br/><br/>\n",
    "</center>\n",
    "\n",
    "Before you get started, run the code cell below to set everything up."
   ]
  },
  {
   "cell_type": "code",
   "execution_count": 1,
   "id": "9663718a",
   "metadata": {
    "execution": {
     "iopub.execute_input": "2024-03-15T03:36:13.829232Z",
     "iopub.status.busy": "2024-03-15T03:36:13.828667Z",
     "iopub.status.idle": "2024-03-15T03:36:16.297376Z",
     "shell.execute_reply": "2024-03-15T03:36:16.296431Z"
    },
    "papermill": {
     "duration": 2.478875,
     "end_time": "2024-03-15T03:36:16.299794",
     "exception": false,
     "start_time": "2024-03-15T03:36:13.820919",
     "status": "completed"
    },
    "tags": []
   },
   "outputs": [],
   "source": [
    "import math\n",
    "import pandas as pd\n",
    "import geopandas as gpd\n",
    "#from geopy.geocoders import Nominatim            # What you'd normally run\n",
    "from learntools.geospatial.tools import Nominatim # Just for this exercise\n",
    "\n",
    "import folium \n",
    "from folium import Marker\n",
    "from folium.plugins import MarkerCluster\n",
    "\n",
    "from learntools.core import binder\n",
    "binder.bind(globals())\n",
    "from learntools.geospatial.ex4 import *"
   ]
  },
  {
   "cell_type": "markdown",
   "id": "e9c97b15",
   "metadata": {
    "papermill": {
     "duration": 0.006259,
     "end_time": "2024-03-15T03:36:16.312733",
     "exception": false,
     "start_time": "2024-03-15T03:36:16.306474",
     "status": "completed"
    },
    "tags": []
   },
   "source": [
    "You'll use the `embed_map()` function from the previous exercise to visualize your maps."
   ]
  },
  {
   "cell_type": "code",
   "execution_count": 2,
   "id": "081ed795",
   "metadata": {
    "execution": {
     "iopub.execute_input": "2024-03-15T03:36:16.327222Z",
     "iopub.status.busy": "2024-03-15T03:36:16.326890Z",
     "iopub.status.idle": "2024-03-15T03:36:16.331724Z",
     "shell.execute_reply": "2024-03-15T03:36:16.330712Z"
    },
    "papermill": {
     "duration": 0.014203,
     "end_time": "2024-03-15T03:36:16.333406",
     "exception": false,
     "start_time": "2024-03-15T03:36:16.319203",
     "status": "completed"
    },
    "tags": []
   },
   "outputs": [],
   "source": [
    "def embed_map(m, file_name):\n",
    "    from IPython.display import IFrame\n",
    "    m.save(file_name)\n",
    "    return IFrame(file_name, width='100%', height='500px')"
   ]
  },
  {
   "cell_type": "markdown",
   "id": "463bf119",
   "metadata": {
    "papermill": {
     "duration": 0.006084,
     "end_time": "2024-03-15T03:36:16.346252",
     "exception": false,
     "start_time": "2024-03-15T03:36:16.340168",
     "status": "completed"
    },
    "tags": []
   },
   "source": [
    "# Exercises\n",
    "\n",
    "### 1) Geocode the missing locations.\n",
    "\n",
    "Run the next code cell to create a DataFrame `starbucks` containing Starbucks locations in the state of California."
   ]
  },
  {
   "cell_type": "code",
   "execution_count": 3,
   "id": "dc094bbb",
   "metadata": {
    "execution": {
     "iopub.execute_input": "2024-03-15T03:36:16.360672Z",
     "iopub.status.busy": "2024-03-15T03:36:16.360128Z",
     "iopub.status.idle": "2024-03-15T03:36:16.382757Z",
     "shell.execute_reply": "2024-03-15T03:36:16.381528Z"
    },
    "papermill": {
     "duration": 0.032175,
     "end_time": "2024-03-15T03:36:16.384585",
     "exception": false,
     "start_time": "2024-03-15T03:36:16.352410",
     "status": "completed"
    },
    "tags": []
   },
   "outputs": [
    {
     "data": {
      "text/html": [
       "<div>\n",
       "<style scoped>\n",
       "    .dataframe tbody tr th:only-of-type {\n",
       "        vertical-align: middle;\n",
       "    }\n",
       "\n",
       "    .dataframe tbody tr th {\n",
       "        vertical-align: top;\n",
       "    }\n",
       "\n",
       "    .dataframe thead th {\n",
       "        text-align: right;\n",
       "    }\n",
       "</style>\n",
       "<table border=\"1\" class=\"dataframe\">\n",
       "  <thead>\n",
       "    <tr style=\"text-align: right;\">\n",
       "      <th></th>\n",
       "      <th>Store Number</th>\n",
       "      <th>Store Name</th>\n",
       "      <th>Address</th>\n",
       "      <th>City</th>\n",
       "      <th>Longitude</th>\n",
       "      <th>Latitude</th>\n",
       "    </tr>\n",
       "  </thead>\n",
       "  <tbody>\n",
       "    <tr>\n",
       "      <th>0</th>\n",
       "      <td>10429-100710</td>\n",
       "      <td>Palmdale &amp; Hwy 395</td>\n",
       "      <td>14136 US Hwy 395 Adelanto CA</td>\n",
       "      <td>Adelanto</td>\n",
       "      <td>-117.40</td>\n",
       "      <td>34.51</td>\n",
       "    </tr>\n",
       "    <tr>\n",
       "      <th>1</th>\n",
       "      <td>635-352</td>\n",
       "      <td>Kanan &amp; Thousand Oaks</td>\n",
       "      <td>5827 Kanan Road Agoura CA</td>\n",
       "      <td>Agoura</td>\n",
       "      <td>-118.76</td>\n",
       "      <td>34.16</td>\n",
       "    </tr>\n",
       "    <tr>\n",
       "      <th>2</th>\n",
       "      <td>74510-27669</td>\n",
       "      <td>Vons-Agoura Hills #2001</td>\n",
       "      <td>5671 Kanan Rd. Agoura Hills CA</td>\n",
       "      <td>Agoura Hills</td>\n",
       "      <td>-118.76</td>\n",
       "      <td>34.15</td>\n",
       "    </tr>\n",
       "    <tr>\n",
       "      <th>3</th>\n",
       "      <td>29839-255026</td>\n",
       "      <td>Target Anaheim T-0677</td>\n",
       "      <td>8148 E SANTA ANA CANYON ROAD AHAHEIM CA</td>\n",
       "      <td>AHAHEIM</td>\n",
       "      <td>-117.75</td>\n",
       "      <td>33.87</td>\n",
       "    </tr>\n",
       "    <tr>\n",
       "      <th>4</th>\n",
       "      <td>23463-230284</td>\n",
       "      <td>Safeway - Alameda 3281</td>\n",
       "      <td>2600 5th Street Alameda CA</td>\n",
       "      <td>Alameda</td>\n",
       "      <td>-122.28</td>\n",
       "      <td>37.79</td>\n",
       "    </tr>\n",
       "  </tbody>\n",
       "</table>\n",
       "</div>"
      ],
      "text/plain": [
       "   Store Number               Store Name  \\\n",
       "0  10429-100710       Palmdale & Hwy 395   \n",
       "1       635-352    Kanan & Thousand Oaks   \n",
       "2   74510-27669  Vons-Agoura Hills #2001   \n",
       "3  29839-255026    Target Anaheim T-0677   \n",
       "4  23463-230284   Safeway - Alameda 3281   \n",
       "\n",
       "                                   Address          City  Longitude  Latitude  \n",
       "0             14136 US Hwy 395 Adelanto CA      Adelanto    -117.40     34.51  \n",
       "1                5827 Kanan Road Agoura CA        Agoura    -118.76     34.16  \n",
       "2           5671 Kanan Rd. Agoura Hills CA  Agoura Hills    -118.76     34.15  \n",
       "3  8148 E SANTA ANA CANYON ROAD AHAHEIM CA       AHAHEIM    -117.75     33.87  \n",
       "4               2600 5th Street Alameda CA       Alameda    -122.28     37.79  "
      ]
     },
     "execution_count": 3,
     "metadata": {},
     "output_type": "execute_result"
    }
   ],
   "source": [
    "# Load and preview Starbucks locations in California\n",
    "starbucks = pd.read_csv(\"../input/geospatial-learn-course-data/starbucks_locations.csv\")\n",
    "starbucks.head()"
   ]
  },
  {
   "cell_type": "markdown",
   "id": "48097f99",
   "metadata": {
    "papermill": {
     "duration": 0.00716,
     "end_time": "2024-03-15T03:36:16.398431",
     "exception": false,
     "start_time": "2024-03-15T03:36:16.391271",
     "status": "completed"
    },
    "tags": []
   },
   "source": [
    "Most of the stores have known (latitude, longitude) locations.  But, all of the locations in the city of Berkeley are missing."
   ]
  },
  {
   "cell_type": "code",
   "execution_count": 4,
   "id": "d75b86c7",
   "metadata": {
    "execution": {
     "iopub.execute_input": "2024-03-15T03:36:16.413112Z",
     "iopub.status.busy": "2024-03-15T03:36:16.412565Z",
     "iopub.status.idle": "2024-03-15T03:36:16.427536Z",
     "shell.execute_reply": "2024-03-15T03:36:16.425994Z"
    },
    "papermill": {
     "duration": 0.024455,
     "end_time": "2024-03-15T03:36:16.429318",
     "exception": false,
     "start_time": "2024-03-15T03:36:16.404863",
     "status": "completed"
    },
    "tags": []
   },
   "outputs": [
    {
     "name": "stdout",
     "output_type": "stream",
     "text": [
      "Store Number    0\n",
      "Store Name      0\n",
      "Address         0\n",
      "City            0\n",
      "Longitude       5\n",
      "Latitude        5\n",
      "dtype: int64\n"
     ]
    },
    {
     "data": {
      "text/html": [
       "<div>\n",
       "<style scoped>\n",
       "    .dataframe tbody tr th:only-of-type {\n",
       "        vertical-align: middle;\n",
       "    }\n",
       "\n",
       "    .dataframe tbody tr th {\n",
       "        vertical-align: top;\n",
       "    }\n",
       "\n",
       "    .dataframe thead th {\n",
       "        text-align: right;\n",
       "    }\n",
       "</style>\n",
       "<table border=\"1\" class=\"dataframe\">\n",
       "  <thead>\n",
       "    <tr style=\"text-align: right;\">\n",
       "      <th></th>\n",
       "      <th>Store Number</th>\n",
       "      <th>Store Name</th>\n",
       "      <th>Address</th>\n",
       "      <th>City</th>\n",
       "      <th>Longitude</th>\n",
       "      <th>Latitude</th>\n",
       "    </tr>\n",
       "  </thead>\n",
       "  <tbody>\n",
       "    <tr>\n",
       "      <th>153</th>\n",
       "      <td>5406-945</td>\n",
       "      <td>2224 Shattuck - Berkeley</td>\n",
       "      <td>2224 Shattuck Avenue Berkeley CA</td>\n",
       "      <td>Berkeley</td>\n",
       "      <td>NaN</td>\n",
       "      <td>NaN</td>\n",
       "    </tr>\n",
       "    <tr>\n",
       "      <th>154</th>\n",
       "      <td>570-512</td>\n",
       "      <td>Solano Ave</td>\n",
       "      <td>1799 Solano Avenue Berkeley CA</td>\n",
       "      <td>Berkeley</td>\n",
       "      <td>NaN</td>\n",
       "      <td>NaN</td>\n",
       "    </tr>\n",
       "    <tr>\n",
       "      <th>155</th>\n",
       "      <td>17877-164526</td>\n",
       "      <td>Safeway - Berkeley #691</td>\n",
       "      <td>1444 Shattuck Place Berkeley CA</td>\n",
       "      <td>Berkeley</td>\n",
       "      <td>NaN</td>\n",
       "      <td>NaN</td>\n",
       "    </tr>\n",
       "    <tr>\n",
       "      <th>156</th>\n",
       "      <td>19864-202264</td>\n",
       "      <td>Telegraph &amp; Ashby</td>\n",
       "      <td>3001 Telegraph Avenue Berkeley CA</td>\n",
       "      <td>Berkeley</td>\n",
       "      <td>NaN</td>\n",
       "      <td>NaN</td>\n",
       "    </tr>\n",
       "    <tr>\n",
       "      <th>157</th>\n",
       "      <td>9217-9253</td>\n",
       "      <td>2128 Oxford St.</td>\n",
       "      <td>2128 Oxford Street Berkeley CA</td>\n",
       "      <td>Berkeley</td>\n",
       "      <td>NaN</td>\n",
       "      <td>NaN</td>\n",
       "    </tr>\n",
       "  </tbody>\n",
       "</table>\n",
       "</div>"
      ],
      "text/plain": [
       "     Store Number                Store Name  \\\n",
       "153      5406-945  2224 Shattuck - Berkeley   \n",
       "154       570-512                Solano Ave   \n",
       "155  17877-164526   Safeway - Berkeley #691   \n",
       "156  19864-202264         Telegraph & Ashby   \n",
       "157     9217-9253           2128 Oxford St.   \n",
       "\n",
       "                               Address      City  Longitude  Latitude  \n",
       "153   2224 Shattuck Avenue Berkeley CA  Berkeley        NaN       NaN  \n",
       "154     1799 Solano Avenue Berkeley CA  Berkeley        NaN       NaN  \n",
       "155    1444 Shattuck Place Berkeley CA  Berkeley        NaN       NaN  \n",
       "156  3001 Telegraph Avenue Berkeley CA  Berkeley        NaN       NaN  \n",
       "157     2128 Oxford Street Berkeley CA  Berkeley        NaN       NaN  "
      ]
     },
     "execution_count": 4,
     "metadata": {},
     "output_type": "execute_result"
    }
   ],
   "source": [
    "# How many rows in each column have missing values?\n",
    "print(starbucks.isnull().sum())\n",
    "\n",
    "# View rows with missing locations\n",
    "rows_with_missing = starbucks[starbucks[\"City\"]==\"Berkeley\"]\n",
    "rows_with_missing"
   ]
  },
  {
   "cell_type": "markdown",
   "id": "8afb6399",
   "metadata": {
    "papermill": {
     "duration": 0.0066,
     "end_time": "2024-03-15T03:36:16.442951",
     "exception": false,
     "start_time": "2024-03-15T03:36:16.436351",
     "status": "completed"
    },
    "tags": []
   },
   "source": [
    "Use the code cell below to fill in these values with the Nominatim geocoder.\n",
    "\n",
    "Note that in the tutorial, we used `Nominatim()` (from `geopy.geocoders`) to geocode values, and this is what you can use in your own projects outside of this course.  \n",
    "\n",
    "In this exercise, you will use a slightly different function `Nominatim()` (from `learntools.geospatial.tools`).  This function was imported at the top of the notebook and works identically to the function from GeoPandas.\n",
    "\n",
    "So, in other words, as long as: \n",
    "- you don't change the import statements at the top of the notebook, and \n",
    "- you call the geocoding function as `geocode()` in the code cell below, \n",
    "\n",
    "your code will work as intended!"
   ]
  },
  {
   "cell_type": "code",
   "execution_count": 5,
   "id": "2cc0d20e",
   "metadata": {
    "execution": {
     "iopub.execute_input": "2024-03-15T03:36:16.458091Z",
     "iopub.status.busy": "2024-03-15T03:36:16.457758Z",
     "iopub.status.idle": "2024-03-15T03:36:16.518165Z",
     "shell.execute_reply": "2024-03-15T03:36:16.517412Z"
    },
    "papermill": {
     "duration": 0.070208,
     "end_time": "2024-03-15T03:36:16.519831",
     "exception": false,
     "start_time": "2024-03-15T03:36:16.449623",
     "status": "completed"
    },
    "tags": []
   },
   "outputs": [
    {
     "data": {
      "application/javascript": [
       "parent.postMessage({\"jupyterEvent\": \"custom.exercise_interaction\", \"data\": {\"outcomeType\": 1, \"valueTowardsCompletion\": 0.2, \"interactionType\": 1, \"questionType\": 2, \"questionId\": \"1_Q1\", \"learnToolsVersion\": \"0.3.4\", \"failureMessage\": \"\", \"exceptionClass\": \"\", \"trace\": \"\"}}, \"*\")"
      ],
      "text/plain": [
       "<IPython.core.display.Javascript object>"
      ]
     },
     "metadata": {},
     "output_type": "display_data"
    },
    {
     "data": {
      "text/markdown": [
       "<span style=\"color:#33cc33\">Correct</span>"
      ],
      "text/plain": [
       "Correct"
      ]
     },
     "metadata": {},
     "output_type": "display_data"
    }
   ],
   "source": [
    "# Create the geocoder\n",
    "geolocator = Nominatim(user_agent=\"kaggle_learn\")\n",
    "\n",
    "\n",
    "# Your code here\n",
    "def my_geocoder(row_missing):\n",
    "    point=geolocator.geocode(row_missing).point\n",
    "    return pd.Series({'Latitude': point.latitude, 'Longitude': point.longitude})\n",
    "berkeley_locations = rows_with_missing.apply(lambda x: my_geocoder(x['Address']), axis=1)\n",
    "starbucks.update(berkeley_locations)\n",
    "\n",
    "\n",
    "# Check your answer\n",
    "q_1.check()"
   ]
  },
  {
   "cell_type": "code",
   "execution_count": 6,
   "id": "4d83e491",
   "metadata": {
    "execution": {
     "iopub.execute_input": "2024-03-15T03:36:16.536703Z",
     "iopub.status.busy": "2024-03-15T03:36:16.536059Z",
     "iopub.status.idle": "2024-03-15T03:36:16.544195Z",
     "shell.execute_reply": "2024-03-15T03:36:16.543128Z"
    },
    "papermill": {
     "duration": 0.01895,
     "end_time": "2024-03-15T03:36:16.546038",
     "exception": false,
     "start_time": "2024-03-15T03:36:16.527088",
     "status": "completed"
    },
    "tags": []
   },
   "outputs": [
    {
     "data": {
      "application/javascript": [
       "parent.postMessage({\"jupyterEvent\": \"custom.exercise_interaction\", \"data\": {\"interactionType\": 3, \"questionType\": 2, \"questionId\": \"1_Q1\", \"learnToolsVersion\": \"0.3.4\", \"valueTowardsCompletion\": 0.0, \"failureMessage\": \"\", \"exceptionClass\": \"\", \"trace\": \"\", \"outcomeType\": 4}}, \"*\")"
      ],
      "text/plain": [
       "<IPython.core.display.Javascript object>"
      ]
     },
     "metadata": {},
     "output_type": "display_data"
    },
    {
     "data": {
      "text/markdown": [
       "<span style=\"color:#33cc99\">Solution:</span> \n",
       "```python\n",
       "def my_geocoder(row):\n",
       "    point = geolocator.geocode(row).point\n",
       "    return pd.Series({'Latitude': point.latitude, 'Longitude': point.longitude})\n",
       "\n",
       "berkeley_locations = rows_with_missing.apply(lambda x: my_geocoder(x['Address']), axis=1)\n",
       "starbucks.update(berkeley_locations)\n",
       "\n",
       "```"
      ],
      "text/plain": [
       "Solution: \n",
       "```python\n",
       "def my_geocoder(row):\n",
       "    point = geolocator.geocode(row).point\n",
       "    return pd.Series({'Latitude': point.latitude, 'Longitude': point.longitude})\n",
       "\n",
       "berkeley_locations = rows_with_missing.apply(lambda x: my_geocoder(x['Address']), axis=1)\n",
       "starbucks.update(berkeley_locations)\n",
       "\n",
       "```"
      ]
     },
     "metadata": {},
     "output_type": "display_data"
    }
   ],
   "source": [
    "# Line below will give you solution code\n",
    "q_1.solution()"
   ]
  },
  {
   "cell_type": "markdown",
   "id": "000bf2ad",
   "metadata": {
    "papermill": {
     "duration": 0.007196,
     "end_time": "2024-03-15T03:36:16.560771",
     "exception": false,
     "start_time": "2024-03-15T03:36:16.553575",
     "status": "completed"
    },
    "tags": []
   },
   "source": [
    "### 2) View Berkeley locations.\n",
    "\n",
    "Let's take a look at the locations you just found.  Visualize the (latitude, longitude) locations in Berkeley in the OpenStreetMap style. "
   ]
  },
  {
   "cell_type": "code",
   "execution_count": 7,
   "id": "e88cf01d",
   "metadata": {
    "execution": {
     "iopub.execute_input": "2024-03-15T03:36:16.577520Z",
     "iopub.status.busy": "2024-03-15T03:36:16.577117Z",
     "iopub.status.idle": "2024-03-15T03:36:16.599718Z",
     "shell.execute_reply": "2024-03-15T03:36:16.598902Z"
    },
    "papermill": {
     "duration": 0.033375,
     "end_time": "2024-03-15T03:36:16.601519",
     "exception": false,
     "start_time": "2024-03-15T03:36:16.568144",
     "status": "completed"
    },
    "tags": []
   },
   "outputs": [
    {
     "data": {
      "text/html": [
       "\n",
       "        <iframe\n",
       "            width=\"100%\"\n",
       "            height=\"500px\"\n",
       "            src=\"q_2.html\"\n",
       "            frameborder=\"0\"\n",
       "            allowfullscreen\n",
       "            \n",
       "        ></iframe>\n",
       "        "
      ],
      "text/plain": [
       "<IPython.lib.display.IFrame at 0x7a162d6d7760>"
      ]
     },
     "execution_count": 7,
     "metadata": {},
     "output_type": "execute_result"
    }
   ],
   "source": [
    "# Create a base map\n",
    "m_2 = folium.Map(location=[37.88,-122.26],  tiles='openstreetmap', zoom_start=13)\n",
    "berkeley_stores=starbucks[starbucks[\"City\"]==\"Berkeley\"]\n",
    "# Your code here: Add a marker for each Berkeley location\n",
    "# Add points to the map\n",
    "for idx, row in berkeley_stores.iterrows():\n",
    "    Marker([row['Latitude'], row['Longitude']], popup=row['Store Name']).add_to(m_2)\n",
    "\n",
    "# Uncomment to see a hint\n",
    "#q_2.a.hint()\n",
    "\n",
    "# Show the map\n",
    "embed_map(m_2, 'q_2.html')"
   ]
  },
  {
   "cell_type": "code",
   "execution_count": 8,
   "id": "82b03ca9",
   "metadata": {
    "execution": {
     "iopub.execute_input": "2024-03-15T03:36:16.618026Z",
     "iopub.status.busy": "2024-03-15T03:36:16.617679Z",
     "iopub.status.idle": "2024-03-15T03:36:16.625205Z",
     "shell.execute_reply": "2024-03-15T03:36:16.624425Z"
    },
    "papermill": {
     "duration": 0.017991,
     "end_time": "2024-03-15T03:36:16.626987",
     "exception": false,
     "start_time": "2024-03-15T03:36:16.608996",
     "status": "completed"
    },
    "tags": []
   },
   "outputs": [
    {
     "data": {
      "application/javascript": [
       "parent.postMessage({\"jupyterEvent\": \"custom.exercise_interaction\", \"data\": {\"outcomeType\": 1, \"valueTowardsCompletion\": 0.2, \"interactionType\": 1, \"questionType\": 2, \"questionId\": \"2.1_Q2P\", \"learnToolsVersion\": \"0.3.4\", \"failureMessage\": \"\", \"exceptionClass\": \"\", \"trace\": \"\"}}, \"*\")"
      ],
      "text/plain": [
       "<IPython.core.display.Javascript object>"
      ]
     },
     "metadata": {},
     "output_type": "display_data"
    },
    {
     "data": {
      "text/markdown": [
       "<span style=\"color:#33cc33\">Thank you for creating a map!</span>"
      ],
      "text/plain": [
       "Thank you for creating a map!"
      ]
     },
     "metadata": {},
     "output_type": "display_data"
    }
   ],
   "source": [
    "# Get credit for your work after you have created a map\n",
    "q_2.a.check()\n",
    "\n",
    "# Uncomment to see our solution (your code may look different!)\n",
    "#q_2.a.solution()"
   ]
  },
  {
   "cell_type": "markdown",
   "id": "d0b331c4",
   "metadata": {
    "papermill": {
     "duration": 0.008433,
     "end_time": "2024-03-15T03:36:16.643329",
     "exception": false,
     "start_time": "2024-03-15T03:36:16.634896",
     "status": "completed"
    },
    "tags": []
   },
   "source": [
    "Considering only the five locations in Berkeley, how many of the (latitude, longitude) locations seem potentially correct (are located in the correct city)?"
   ]
  },
  {
   "cell_type": "code",
   "execution_count": 9,
   "id": "e0a120a6",
   "metadata": {
    "execution": {
     "iopub.execute_input": "2024-03-15T03:36:16.661491Z",
     "iopub.status.busy": "2024-03-15T03:36:16.661126Z",
     "iopub.status.idle": "2024-03-15T03:36:16.669210Z",
     "shell.execute_reply": "2024-03-15T03:36:16.668430Z"
    },
    "papermill": {
     "duration": 0.019889,
     "end_time": "2024-03-15T03:36:16.671160",
     "exception": false,
     "start_time": "2024-03-15T03:36:16.651271",
     "status": "completed"
    },
    "tags": []
   },
   "outputs": [
    {
     "data": {
      "application/javascript": [
       "parent.postMessage({\"jupyterEvent\": \"custom.exercise_interaction\", \"data\": {\"interactionType\": 3, \"questionType\": 4, \"questionId\": \"2.2_Q2T\", \"learnToolsVersion\": \"0.3.4\", \"valueTowardsCompletion\": 0.0, \"failureMessage\": \"\", \"exceptionClass\": \"\", \"trace\": \"\", \"outcomeType\": 4}}, \"*\")"
      ],
      "text/plain": [
       "<IPython.core.display.Javascript object>"
      ]
     },
     "metadata": {},
     "output_type": "display_data"
    },
    {
     "data": {
      "text/markdown": [
       "<span style=\"color:#33cc99\">Solution:</span> All five locations appear to be correct!"
      ],
      "text/plain": [
       "Solution: All five locations appear to be correct!"
      ]
     },
     "metadata": {},
     "output_type": "display_data"
    }
   ],
   "source": [
    "# View the solution (Run this code cell to receive credit!)\n",
    "q_2.b.solution()"
   ]
  },
  {
   "cell_type": "markdown",
   "id": "ed833319",
   "metadata": {
    "papermill": {
     "duration": 0.008106,
     "end_time": "2024-03-15T03:36:16.687671",
     "exception": false,
     "start_time": "2024-03-15T03:36:16.679565",
     "status": "completed"
    },
    "tags": []
   },
   "source": [
    "### 3) Consolidate your data.\n",
    "\n",
    "Run the code below to load a GeoDataFrame `CA_counties` containing the name, area (in square kilometers), and a unique id (in the \"GEOID\" column) for each county in the state of California.  The \"geometry\" column contains a polygon with county boundaries."
   ]
  },
  {
   "cell_type": "code",
   "execution_count": 10,
   "id": "cdafcba5",
   "metadata": {
    "execution": {
     "iopub.execute_input": "2024-03-15T03:36:16.705232Z",
     "iopub.status.busy": "2024-03-15T03:36:16.704902Z",
     "iopub.status.idle": "2024-03-15T03:36:16.878009Z",
     "shell.execute_reply": "2024-03-15T03:36:16.877280Z"
    },
    "papermill": {
     "duration": 0.184172,
     "end_time": "2024-03-15T03:36:16.879789",
     "exception": false,
     "start_time": "2024-03-15T03:36:16.695617",
     "status": "completed"
    },
    "tags": []
   },
   "outputs": [
    {
     "name": "stderr",
     "output_type": "stream",
     "text": [
      "/opt/conda/lib/python3.10/site-packages/pyproj/crs/crs.py:141: FutureWarning: '+init=<authority>:<code>' syntax is deprecated. '<authority>:<code>' is the preferred initialization method. When making the change, be mindful of axis order changes: https://pyproj4.github.io/pyproj/stable/gotchas.html#axis-order-changes-in-proj-6\n",
      "  in_crs_string = _prepare_from_proj_string(in_crs_string)\n"
     ]
    },
    {
     "data": {
      "text/html": [
       "<div>\n",
       "<style scoped>\n",
       "    .dataframe tbody tr th:only-of-type {\n",
       "        vertical-align: middle;\n",
       "    }\n",
       "\n",
       "    .dataframe tbody tr th {\n",
       "        vertical-align: top;\n",
       "    }\n",
       "\n",
       "    .dataframe thead th {\n",
       "        text-align: right;\n",
       "    }\n",
       "</style>\n",
       "<table border=\"1\" class=\"dataframe\">\n",
       "  <thead>\n",
       "    <tr style=\"text-align: right;\">\n",
       "      <th></th>\n",
       "      <th>GEOID</th>\n",
       "      <th>name</th>\n",
       "      <th>area_sqkm</th>\n",
       "      <th>geometry</th>\n",
       "    </tr>\n",
       "  </thead>\n",
       "  <tbody>\n",
       "    <tr>\n",
       "      <th>0</th>\n",
       "      <td>6091</td>\n",
       "      <td>Sierra County</td>\n",
       "      <td>2491.995494</td>\n",
       "      <td>POLYGON ((-120.65560 39.69357, -120.65554 39.6...</td>\n",
       "    </tr>\n",
       "    <tr>\n",
       "      <th>1</th>\n",
       "      <td>6067</td>\n",
       "      <td>Sacramento County</td>\n",
       "      <td>2575.258262</td>\n",
       "      <td>POLYGON ((-121.18858 38.71431, -121.18732 38.7...</td>\n",
       "    </tr>\n",
       "    <tr>\n",
       "      <th>2</th>\n",
       "      <td>6083</td>\n",
       "      <td>Santa Barbara County</td>\n",
       "      <td>9813.817958</td>\n",
       "      <td>MULTIPOLYGON (((-120.58191 34.09856, -120.5822...</td>\n",
       "    </tr>\n",
       "    <tr>\n",
       "      <th>3</th>\n",
       "      <td>6009</td>\n",
       "      <td>Calaveras County</td>\n",
       "      <td>2685.626726</td>\n",
       "      <td>POLYGON ((-120.63095 38.34111, -120.63058 38.3...</td>\n",
       "    </tr>\n",
       "    <tr>\n",
       "      <th>4</th>\n",
       "      <td>6111</td>\n",
       "      <td>Ventura County</td>\n",
       "      <td>5719.321379</td>\n",
       "      <td>MULTIPOLYGON (((-119.63631 33.27304, -119.6360...</td>\n",
       "    </tr>\n",
       "  </tbody>\n",
       "</table>\n",
       "</div>"
      ],
      "text/plain": [
       "   GEOID                  name    area_sqkm  \\\n",
       "0   6091         Sierra County  2491.995494   \n",
       "1   6067     Sacramento County  2575.258262   \n",
       "2   6083  Santa Barbara County  9813.817958   \n",
       "3   6009      Calaveras County  2685.626726   \n",
       "4   6111        Ventura County  5719.321379   \n",
       "\n",
       "                                            geometry  \n",
       "0  POLYGON ((-120.65560 39.69357, -120.65554 39.6...  \n",
       "1  POLYGON ((-121.18858 38.71431, -121.18732 38.7...  \n",
       "2  MULTIPOLYGON (((-120.58191 34.09856, -120.5822...  \n",
       "3  POLYGON ((-120.63095 38.34111, -120.63058 38.3...  \n",
       "4  MULTIPOLYGON (((-119.63631 33.27304, -119.6360...  "
      ]
     },
     "execution_count": 10,
     "metadata": {},
     "output_type": "execute_result"
    }
   ],
   "source": [
    "CA_counties = gpd.read_file(\"../input/geospatial-learn-course-data/CA_county_boundaries/CA_county_boundaries/CA_county_boundaries.shp\")\n",
    "CA_counties.crs = {'init': 'epsg:4326'}\n",
    "CA_counties.head()"
   ]
  },
  {
   "cell_type": "markdown",
   "id": "b5b92a3f",
   "metadata": {
    "papermill": {
     "duration": 0.008118,
     "end_time": "2024-03-15T03:36:16.896137",
     "exception": false,
     "start_time": "2024-03-15T03:36:16.888019",
     "status": "completed"
    },
    "tags": []
   },
   "source": [
    "Next, we create three DataFrames:\n",
    "- `CA_pop` contains an estimate of the population of each county.\n",
    "- `CA_high_earners` contains the number of households with an income of at least $150,000 per year.\n",
    "- `CA_median_age` contains the median age for each county."
   ]
  },
  {
   "cell_type": "code",
   "execution_count": 11,
   "id": "0d3311fd",
   "metadata": {
    "execution": {
     "iopub.execute_input": "2024-03-15T03:36:16.914097Z",
     "iopub.status.busy": "2024-03-15T03:36:16.913776Z",
     "iopub.status.idle": "2024-03-15T03:36:16.923873Z",
     "shell.execute_reply": "2024-03-15T03:36:16.923236Z"
    },
    "papermill": {
     "duration": 0.021648,
     "end_time": "2024-03-15T03:36:16.925968",
     "exception": false,
     "start_time": "2024-03-15T03:36:16.904320",
     "status": "completed"
    },
    "tags": []
   },
   "outputs": [],
   "source": [
    "CA_pop = pd.read_csv(\"../input/geospatial-learn-course-data/CA_county_population.csv\", index_col=\"GEOID\")\n",
    "CA_high_earners = pd.read_csv(\"../input/geospatial-learn-course-data/CA_county_high_earners.csv\", index_col=\"GEOID\")\n",
    "CA_median_age = pd.read_csv(\"../input/geospatial-learn-course-data/CA_county_median_age.csv\", index_col=\"GEOID\")"
   ]
  },
  {
   "cell_type": "markdown",
   "id": "ce86b8ec",
   "metadata": {
    "papermill": {
     "duration": 0.00808,
     "end_time": "2024-03-15T03:36:16.942695",
     "exception": false,
     "start_time": "2024-03-15T03:36:16.934615",
     "status": "completed"
    },
    "tags": []
   },
   "source": [
    "Use the next code cell to join the `CA_counties` GeoDataFrame with `CA_pop`, `CA_high_earners`, and `CA_median_age`.\n",
    "\n",
    "Name the resultant GeoDataFrame `CA_stats`, and make sure it has 8 columns: \"GEOID\", \"name\", \"area_sqkm\", \"geometry\", \"population\", \"high_earners\", and \"median_age\".  "
   ]
  },
  {
   "cell_type": "code",
   "execution_count": 12,
   "id": "c1757b1e",
   "metadata": {
    "execution": {
     "iopub.execute_input": "2024-03-15T03:36:16.961096Z",
     "iopub.status.busy": "2024-03-15T03:36:16.960498Z",
     "iopub.status.idle": "2024-03-15T03:36:17.073453Z",
     "shell.execute_reply": "2024-03-15T03:36:17.072351Z"
    },
    "papermill": {
     "duration": 0.125039,
     "end_time": "2024-03-15T03:36:17.075819",
     "exception": false,
     "start_time": "2024-03-15T03:36:16.950780",
     "status": "completed"
    },
    "tags": []
   },
   "outputs": [
    {
     "name": "stdout",
     "output_type": "stream",
     "text": [
      "<class 'geopandas.geodataframe.GeoDataFrame'>\n",
      "RangeIndex: 58 entries, 0 to 57\n",
      "Data columns (total 7 columns):\n",
      " #   Column        Non-Null Count  Dtype   \n",
      "---  ------        --------------  -----   \n",
      " 0   GEOID         58 non-null     int64   \n",
      " 1   name          58 non-null     object  \n",
      " 2   area_sqkm     58 non-null     float64 \n",
      " 3   geometry      58 non-null     geometry\n",
      " 4   population    58 non-null     int64   \n",
      " 5   high_earners  58 non-null     int64   \n",
      " 6   median_age    58 non-null     float64 \n",
      "dtypes: float64(2), geometry(1), int64(3), object(1)\n",
      "memory usage: 3.3+ KB\n"
     ]
    },
    {
     "data": {
      "application/javascript": [
       "parent.postMessage({\"jupyterEvent\": \"custom.exercise_interaction\", \"data\": {\"outcomeType\": 1, \"valueTowardsCompletion\": 0.2, \"interactionType\": 1, \"questionType\": 2, \"questionId\": \"3_Q3\", \"learnToolsVersion\": \"0.3.4\", \"failureMessage\": \"\", \"exceptionClass\": \"\", \"trace\": \"\"}}, \"*\")"
      ],
      "text/plain": [
       "<IPython.core.display.Javascript object>"
      ]
     },
     "metadata": {},
     "output_type": "display_data"
    },
    {
     "data": {
      "text/markdown": [
       "<span style=\"color:#33cc33\">Correct</span>"
      ],
      "text/plain": [
       "Correct"
      ]
     },
     "metadata": {},
     "output_type": "display_data"
    }
   ],
   "source": [
    "# Your code here\n",
    "CA_stats = CA_counties.merge(CA_pop, on='GEOID')\n",
    "CA_stats = CA_stats.merge(CA_high_earners, on='GEOID')\n",
    "CA_stats = CA_stats.merge(CA_median_age, on='GEOID')\n",
    "CA_stats.info()\n",
    "# Check your answer\n",
    "q_3.check()"
   ]
  },
  {
   "cell_type": "code",
   "execution_count": 13,
   "id": "803109c6",
   "metadata": {
    "execution": {
     "iopub.execute_input": "2024-03-15T03:36:17.095063Z",
     "iopub.status.busy": "2024-03-15T03:36:17.094720Z",
     "iopub.status.idle": "2024-03-15T03:36:17.098643Z",
     "shell.execute_reply": "2024-03-15T03:36:17.097746Z"
    },
    "papermill": {
     "duration": 0.015516,
     "end_time": "2024-03-15T03:36:17.100406",
     "exception": false,
     "start_time": "2024-03-15T03:36:17.084890",
     "status": "completed"
    },
    "tags": []
   },
   "outputs": [],
   "source": [
    "# Lines below will give you a hint or solution code\n",
    "#q_3.hint()\n",
    "#q_3.solution()"
   ]
  },
  {
   "cell_type": "markdown",
   "id": "1f3a7459",
   "metadata": {
    "papermill": {
     "duration": 0.0086,
     "end_time": "2024-03-15T03:36:17.117927",
     "exception": false,
     "start_time": "2024-03-15T03:36:17.109327",
     "status": "completed"
    },
    "tags": []
   },
   "source": [
    "Now that we have all of the data in one place, it's much easier to calculate statistics that use a combination of columns.  Run the next code cell to create a \"density\" column with the population density."
   ]
  },
  {
   "cell_type": "code",
   "execution_count": 14,
   "id": "3c174f79",
   "metadata": {
    "execution": {
     "iopub.execute_input": "2024-03-15T03:36:17.137537Z",
     "iopub.status.busy": "2024-03-15T03:36:17.136869Z",
     "iopub.status.idle": "2024-03-15T03:36:17.141911Z",
     "shell.execute_reply": "2024-03-15T03:36:17.141268Z"
    },
    "papermill": {
     "duration": 0.01697,
     "end_time": "2024-03-15T03:36:17.143718",
     "exception": false,
     "start_time": "2024-03-15T03:36:17.126748",
     "status": "completed"
    },
    "tags": []
   },
   "outputs": [],
   "source": [
    "CA_stats[\"density\"] = CA_stats[\"population\"] / CA_stats[\"area_sqkm\"]"
   ]
  },
  {
   "cell_type": "markdown",
   "id": "22423450",
   "metadata": {
    "papermill": {
     "duration": 0.008389,
     "end_time": "2024-03-15T03:36:17.160878",
     "exception": false,
     "start_time": "2024-03-15T03:36:17.152489",
     "status": "completed"
    },
    "tags": []
   },
   "source": [
    "### 4) Which counties look promising?\n",
    "\n",
    "Collapsing all of the information into a single GeoDataFrame also makes it much easier to select counties that meet specific criteria.\n",
    "\n",
    "Use the next code cell to create a GeoDataFrame `sel_counties` that contains a subset of the rows (and all of the columns) from the `CA_stats` GeoDataFrame.  In particular, you should select counties where:\n",
    "- there are at least 100,000 households making \\$150,000 per year,\n",
    "- the median age is less than 38.5, and\n",
    "- the density of inhabitants is at least 285 (per square kilometer).\n",
    "\n",
    "Additionally, selected counties should satisfy at least one of the following criteria:\n",
    "- there are at least 500,000 households making \\$150,000 per year,\n",
    "- the median age is less than 35.5, or\n",
    "- the density of inhabitants is at least 1400 (per square kilometer)."
   ]
  },
  {
   "cell_type": "code",
   "execution_count": 15,
   "id": "c0442ebe",
   "metadata": {
    "execution": {
     "iopub.execute_input": "2024-03-15T03:36:17.179882Z",
     "iopub.status.busy": "2024-03-15T03:36:17.179529Z",
     "iopub.status.idle": "2024-03-15T03:36:17.187990Z",
     "shell.execute_reply": "2024-03-15T03:36:17.186686Z"
    },
    "papermill": {
     "duration": 0.020628,
     "end_time": "2024-03-15T03:36:17.190126",
     "exception": false,
     "start_time": "2024-03-15T03:36:17.169498",
     "status": "completed"
    },
    "tags": []
   },
   "outputs": [
    {
     "data": {
      "application/javascript": [
       "parent.postMessage({\"jupyterEvent\": \"custom.exercise_interaction\", \"data\": {\"outcomeType\": 4, \"interactionType\": 1, \"questionType\": 2, \"questionId\": \"4_Q4\", \"learnToolsVersion\": \"0.3.4\", \"valueTowardsCompletion\": 0.0, \"failureMessage\": \"\", \"exceptionClass\": \"\", \"trace\": \"\"}}, \"*\")"
      ],
      "text/plain": [
       "<IPython.core.display.Javascript object>"
      ]
     },
     "metadata": {},
     "output_type": "display_data"
    },
    {
     "data": {
      "text/markdown": [
       "<span style=\"color:#ccaa33\">Check:</span> When you've updated the starter code, `check()` will tell you whether your code is correct. You need to update the code that creates variable `sel_counties`"
      ],
      "text/plain": [
       "Check: When you've updated the starter code, `check()` will tell you whether your code is correct. You need to update the code that creates variable `sel_counties`"
      ]
     },
     "metadata": {},
     "output_type": "display_data"
    }
   ],
   "source": [
    "# Your code here\n",
    "sel_counties = ____\n",
    "\n",
    "# Check your answer\n",
    "q_4.check()"
   ]
  },
  {
   "cell_type": "code",
   "execution_count": 16,
   "id": "64ae3dc5",
   "metadata": {
    "execution": {
     "iopub.execute_input": "2024-03-15T03:36:17.212103Z",
     "iopub.status.busy": "2024-03-15T03:36:17.211562Z",
     "iopub.status.idle": "2024-03-15T03:36:17.214776Z",
     "shell.execute_reply": "2024-03-15T03:36:17.214048Z"
    },
    "papermill": {
     "duration": 0.016554,
     "end_time": "2024-03-15T03:36:17.216604",
     "exception": false,
     "start_time": "2024-03-15T03:36:17.200050",
     "status": "completed"
    },
    "tags": []
   },
   "outputs": [],
   "source": [
    "# Lines below will give you a hint or solution code\n",
    "#q_4.hint()\n",
    "#q_4.solution()"
   ]
  },
  {
   "cell_type": "markdown",
   "id": "c72a07d3",
   "metadata": {
    "papermill": {
     "duration": 0.008742,
     "end_time": "2024-03-15T03:36:17.235156",
     "exception": false,
     "start_time": "2024-03-15T03:36:17.226414",
     "status": "completed"
    },
    "tags": []
   },
   "source": [
    "### 5) How many stores did you identify?\n",
    "\n",
    "When looking for the next Starbucks Reserve Roastery location, you'd like to consider all of the stores within the counties that you selected.  So, how many stores are within the selected counties?\n",
    "\n",
    "To prepare to answer this question, run the next code cell to create a GeoDataFrame `starbucks_gdf` with all of the starbucks locations."
   ]
  },
  {
   "cell_type": "code",
   "execution_count": 17,
   "id": "3a802951",
   "metadata": {
    "execution": {
     "iopub.execute_input": "2024-03-15T03:36:17.255549Z",
     "iopub.status.busy": "2024-03-15T03:36:17.255171Z",
     "iopub.status.idle": "2024-03-15T03:36:17.344785Z",
     "shell.execute_reply": "2024-03-15T03:36:17.342678Z"
    },
    "papermill": {
     "duration": 0.102672,
     "end_time": "2024-03-15T03:36:17.348004",
     "exception": false,
     "start_time": "2024-03-15T03:36:17.245332",
     "status": "completed"
    },
    "tags": []
   },
   "outputs": [
    {
     "name": "stderr",
     "output_type": "stream",
     "text": [
      "/opt/conda/lib/python3.10/site-packages/pyproj/crs/crs.py:141: FutureWarning: '+init=<authority>:<code>' syntax is deprecated. '<authority>:<code>' is the preferred initialization method. When making the change, be mindful of axis order changes: https://pyproj4.github.io/pyproj/stable/gotchas.html#axis-order-changes-in-proj-6\n",
      "  in_crs_string = _prepare_from_proj_string(in_crs_string)\n"
     ]
    }
   ],
   "source": [
    "starbucks_gdf = gpd.GeoDataFrame(starbucks, geometry=gpd.points_from_xy(starbucks.Longitude, starbucks.Latitude))\n",
    "starbucks_gdf.crs = {'init': 'epsg:4326'}"
   ]
  },
  {
   "cell_type": "markdown",
   "id": "38bb9b07",
   "metadata": {
    "papermill": {
     "duration": 0.009353,
     "end_time": "2024-03-15T03:36:17.367849",
     "exception": false,
     "start_time": "2024-03-15T03:36:17.358496",
     "status": "completed"
    },
    "tags": []
   },
   "source": [
    "So, how many stores are in the counties you selected?"
   ]
  },
  {
   "cell_type": "code",
   "execution_count": 18,
   "id": "01e3c66c",
   "metadata": {
    "execution": {
     "iopub.execute_input": "2024-03-15T03:36:17.388079Z",
     "iopub.status.busy": "2024-03-15T03:36:17.387766Z",
     "iopub.status.idle": "2024-03-15T03:36:17.395953Z",
     "shell.execute_reply": "2024-03-15T03:36:17.394899Z"
    },
    "papermill": {
     "duration": 0.020534,
     "end_time": "2024-03-15T03:36:17.397868",
     "exception": false,
     "start_time": "2024-03-15T03:36:17.377334",
     "status": "completed"
    },
    "tags": []
   },
   "outputs": [
    {
     "data": {
      "application/javascript": [
       "parent.postMessage({\"jupyterEvent\": \"custom.exercise_interaction\", \"data\": {\"outcomeType\": 4, \"interactionType\": 1, \"questionType\": 2, \"questionId\": \"5_Q5\", \"learnToolsVersion\": \"0.3.4\", \"valueTowardsCompletion\": 0.0, \"failureMessage\": \"\", \"exceptionClass\": \"\", \"trace\": \"\"}}, \"*\")"
      ],
      "text/plain": [
       "<IPython.core.display.Javascript object>"
      ]
     },
     "metadata": {},
     "output_type": "display_data"
    },
    {
     "data": {
      "text/markdown": [
       "<span style=\"color:#ccaa33\">Check:</span> When you've updated the starter code, `check()` will tell you whether your code is correct. You need to update the code that creates variable `num_stores`"
      ],
      "text/plain": [
       "Check: When you've updated the starter code, `check()` will tell you whether your code is correct. You need to update the code that creates variable `num_stores`"
      ]
     },
     "metadata": {},
     "output_type": "display_data"
    }
   ],
   "source": [
    "# Fill in your answer\n",
    "num_stores = ____\n",
    "\n",
    "# Check your answer\n",
    "q_5.check()"
   ]
  },
  {
   "cell_type": "code",
   "execution_count": 19,
   "id": "8d0eebdf",
   "metadata": {
    "execution": {
     "iopub.execute_input": "2024-03-15T03:36:17.418180Z",
     "iopub.status.busy": "2024-03-15T03:36:17.417865Z",
     "iopub.status.idle": "2024-03-15T03:36:17.422314Z",
     "shell.execute_reply": "2024-03-15T03:36:17.421403Z"
    },
    "papermill": {
     "duration": 0.017158,
     "end_time": "2024-03-15T03:36:17.424569",
     "exception": false,
     "start_time": "2024-03-15T03:36:17.407411",
     "status": "completed"
    },
    "tags": []
   },
   "outputs": [],
   "source": [
    "# Lines below will give you a hint or solution code\n",
    "#q_5.hint()\n",
    "#q_5.solution()"
   ]
  },
  {
   "cell_type": "markdown",
   "id": "532a6cba",
   "metadata": {
    "papermill": {
     "duration": 0.009294,
     "end_time": "2024-03-15T03:36:17.443526",
     "exception": false,
     "start_time": "2024-03-15T03:36:17.434232",
     "status": "completed"
    },
    "tags": []
   },
   "source": [
    "### 6) Visualize the store locations.\n",
    "\n",
    "Create a map that shows the locations of the stores that you identified in the previous question."
   ]
  },
  {
   "cell_type": "code",
   "execution_count": 20,
   "id": "d697d424",
   "metadata": {
    "execution": {
     "iopub.execute_input": "2024-03-15T03:36:17.464589Z",
     "iopub.status.busy": "2024-03-15T03:36:17.463662Z",
     "iopub.status.idle": "2024-03-15T03:36:17.478274Z",
     "shell.execute_reply": "2024-03-15T03:36:17.477429Z"
    },
    "papermill": {
     "duration": 0.027405,
     "end_time": "2024-03-15T03:36:17.480091",
     "exception": false,
     "start_time": "2024-03-15T03:36:17.452686",
     "status": "completed"
    },
    "tags": []
   },
   "outputs": [
    {
     "data": {
      "text/html": [
       "\n",
       "        <iframe\n",
       "            width=\"100%\"\n",
       "            height=\"500px\"\n",
       "            src=\"q_6.html\"\n",
       "            frameborder=\"0\"\n",
       "            allowfullscreen\n",
       "            \n",
       "        ></iframe>\n",
       "        "
      ],
      "text/plain": [
       "<IPython.lib.display.IFrame at 0x7a162d43ca00>"
      ]
     },
     "execution_count": 20,
     "metadata": {},
     "output_type": "execute_result"
    }
   ],
   "source": [
    "# Create a base map\n",
    "m_6 = folium.Map(location=[37,-120], zoom_start=6)\n",
    "\n",
    "# Your code here: show selected store locations\n",
    "____\n",
    "\n",
    "# Uncomment to see a hint\n",
    "#q_6.hint()\n",
    "\n",
    "# Show the map\n",
    "embed_map(m_6, 'q_6.html')"
   ]
  },
  {
   "cell_type": "code",
   "execution_count": 21,
   "id": "fb21eed8",
   "metadata": {
    "execution": {
     "iopub.execute_input": "2024-03-15T03:36:17.501787Z",
     "iopub.status.busy": "2024-03-15T03:36:17.501425Z",
     "iopub.status.idle": "2024-03-15T03:36:17.508020Z",
     "shell.execute_reply": "2024-03-15T03:36:17.507243Z"
    },
    "papermill": {
     "duration": 0.020117,
     "end_time": "2024-03-15T03:36:17.509847",
     "exception": false,
     "start_time": "2024-03-15T03:36:17.489730",
     "status": "completed"
    },
    "tags": []
   },
   "outputs": [
    {
     "data": {
      "application/javascript": [
       "parent.postMessage({\"jupyterEvent\": \"custom.exercise_interaction\", \"data\": {\"outcomeType\": 1, \"valueTowardsCompletion\": 0.2, \"interactionType\": 1, \"questionType\": 2, \"questionId\": \"6_Q6\", \"learnToolsVersion\": \"0.3.4\", \"failureMessage\": \"\", \"exceptionClass\": \"\", \"trace\": \"\"}}, \"*\")"
      ],
      "text/plain": [
       "<IPython.core.display.Javascript object>"
      ]
     },
     "metadata": {},
     "output_type": "display_data"
    },
    {
     "data": {
      "text/markdown": [
       "<span style=\"color:#33cc33\">Thank you for creating a map!</span>"
      ],
      "text/plain": [
       "Thank you for creating a map!"
      ]
     },
     "metadata": {},
     "output_type": "display_data"
    }
   ],
   "source": [
    "# Get credit for your work after you have created a map\n",
    "q_6.check()\n",
    "\n",
    "# Uncomment to see our solution (your code may look different!)\n",
    "#q_6.solution()"
   ]
  },
  {
   "cell_type": "markdown",
   "id": "cb4766c1",
   "metadata": {
    "papermill": {
     "duration": 0.009995,
     "end_time": "2024-03-15T03:36:17.529862",
     "exception": false,
     "start_time": "2024-03-15T03:36:17.519867",
     "status": "completed"
    },
    "tags": []
   },
   "source": [
    "# Keep going\n",
    "\n",
    "Learn about how **[proximity analysis](https://www.kaggle.com/alexisbcook/proximity-analysis)** can help you to understand the relationships between points on a map."
   ]
  },
  {
   "cell_type": "markdown",
   "id": "0be7d6f4",
   "metadata": {
    "papermill": {
     "duration": 0.00948,
     "end_time": "2024-03-15T03:36:17.549421",
     "exception": false,
     "start_time": "2024-03-15T03:36:17.539941",
     "status": "completed"
    },
    "tags": []
   },
   "source": [
    "---\n",
    "\n",
    "\n",
    "\n",
    "\n",
    "*Have questions or comments? Visit the [course discussion forum](https://www.kaggle.com/learn/geospatial-analysis/discussion) to chat with other learners.*"
   ]
  }
 ],
 "metadata": {
  "kaggle": {
   "accelerator": "none",
   "dataSources": [
    {
     "datasetId": 348259,
     "sourceId": 695175,
     "sourceType": "datasetVersion"
    },
    {
     "datasetId": 116573,
     "sourceId": 3551030,
     "sourceType": "datasetVersion"
    }
   ],
   "isGpuEnabled": false,
   "isInternetEnabled": false,
   "language": "python",
   "sourceType": "notebook"
  },
  "kernelspec": {
   "display_name": "Python 3",
   "language": "python",
   "name": "python3"
  },
  "language_info": {
   "codemirror_mode": {
    "name": "ipython",
    "version": 3
   },
   "file_extension": ".py",
   "mimetype": "text/x-python",
   "name": "python",
   "nbconvert_exporter": "python",
   "pygments_lexer": "ipython3",
   "version": "3.10.13"
  },
  "papermill": {
   "default_parameters": {},
   "duration": 6.764262,
   "end_time": "2024-03-15T03:36:18.179640",
   "environment_variables": {},
   "exception": null,
   "input_path": "__notebook__.ipynb",
   "output_path": "__notebook__.ipynb",
   "parameters": {},
   "start_time": "2024-03-15T03:36:11.415378",
   "version": "2.5.0"
  }
 },
 "nbformat": 4,
 "nbformat_minor": 5
}
